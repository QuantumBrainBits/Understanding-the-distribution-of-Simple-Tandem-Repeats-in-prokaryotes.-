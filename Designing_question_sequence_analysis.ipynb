{
 "cells": [
  {
   "cell_type": "code",
   "execution_count": 1,
   "id": "c5cc88e3",
   "metadata": {},
   "outputs": [],
   "source": [
    "# Packages\n",
    "\n",
    "import gzip\n",
    "from collections import Counter\n",
    "import matplotlib.pyplot as plt\n",
    "import pandas as pd\n",
    "from tqdm import tqdm\n",
    "import numpy as np\n",
    "from zipfile import ZipFile\n",
    "from collections import OrderedDict\n",
    "import matplotlib.pyplot as plt\n",
    "import gzip\n",
    "import re\n",
    "import ast\n",
    "import os\n",
    "import json\n",
    "import pickle\n",
    "import plotly.figure_factory as ff\n",
    "import plotly.express as px\n",
    "import math\n",
    "from more_itertools import locate"
   ]
  },
  {
   "cell_type": "markdown",
   "id": "a0410b9f",
   "metadata": {},
   "source": [
    "### Here we checking how many instances per sample where, multiple variations are present within repeat sequence."
   ]
  },
  {
   "cell_type": "code",
   "execution_count": 36,
   "id": "5e2471b4",
   "metadata": {},
   "outputs": [],
   "source": [
    "# Builidng the code for the file structure.\n",
    "\n",
    "Write_directory = '../../STR_Mutational_Dynamics/Designing/'\n",
    "Read_directory = '../Denovo_analysis_599Trios/'\n",
    "\n",
    "def seq_analysis(infile):\n",
    "    \n",
    "    out = open(f'{Write_directory}multiple_variations.tsv','a')\n",
    "    \n",
    "    with gzip.open(f'{Read_directory}{infile}', 'rt') as offspring:\n",
    "        offspring.readline()\n",
    "        \n",
    "        multiple_type_variations = 0\n",
    "        total_denovo_regions = 0\n",
    "        for denovo_region in offspring:\n",
    "            \n",
    "            denovo_region = denovo_region.strip().split('\\t')\n",
    "            if denovo_region[-1] !='-': continue\n",
    "            total_denovo_regions += 1\n",
    "            Denovo_CIGAR = denovo_region[-5]\n",
    "            \n",
    "            # Considering only repeat sequence.\n",
    "            Denovo_Repeat_CIGAR = Denovo_CIGAR.split('|')           \n",
    "            \n",
    "            split = re.findall('(\\d+|[A-Za-z]+)', Denovo_Repeat_CIGAR[1])\n",
    "            chars =  split[::2]\n",
    "            num_bases = split[1::2]\n",
    "            \n",
    "            # checking if CIGAR contains more than one variation.\n",
    "            if chars.count('I') > 1 or chars.count('D') > 1 or chars.count('X') > 1:\n",
    "                multiple_type_variations += 1\n",
    "            elif ('I' in chars and 'D' in chars) or('I' in chars and 'X' in chars) or ('X' in chars and 'D' in chars) :\n",
    "                multiple_type_variations += 1\n",
    "    \n",
    "        print(infile,multiple_type_variations,total_denovo_regions, file =out, sep = '\\t')\n",
    "\n",
    "# testing purpose\n",
    "# seq_analysis('TRIO0007_denovo.tsv.gz')"
   ]
  },
  {
   "cell_type": "code",
   "execution_count": 37,
   "id": "c76ee0ea",
   "metadata": {},
   "outputs": [
    {
     "name": "stderr",
     "output_type": "stream",
     "text": [
      "100%|██████████████████████████████████████████████████████████████████████| 602/602 [01:13<00:00,  8.15it/s]\n"
     ]
    }
   ],
   "source": [
    "# iterating the files of the directory.\n",
    "\n",
    "Read_directory = '../../STR_Mutational_Dynamics/Denovo_analysis_599Trios/'\n",
    "\n",
    "for file in tqdm(os.listdir(Read_directory)):\n",
    "    \n",
    "    if file.endswith('.tsv.gz'):\n",
    "        seq_analysis(file)"
   ]
  },
  {
   "cell_type": "code",
   "execution_count": 53,
   "id": "69f5cdeb",
   "metadata": {},
   "outputs": [],
   "source": [
    "# reading file\n",
    "\n",
    "df = pd.read_csv('../../../STR_Mutational_Dynamics/Designing/multiple_variations.tsv', header=None, sep='\\t')\n",
    "df.columns = ['file_id', 'Multiple_variants_locations', 'Total_Denovo_regions']\n"
   ]
  },
  {
   "cell_type": "code",
   "execution_count": 54,
   "id": "52e6b573",
   "metadata": {
    "collapsed": true
   },
   "outputs": [
    {
     "data": {
      "text/html": [
       "<div>\n",
       "<style scoped>\n",
       "    .dataframe tbody tr th:only-of-type {\n",
       "        vertical-align: middle;\n",
       "    }\n",
       "\n",
       "    .dataframe tbody tr th {\n",
       "        vertical-align: top;\n",
       "    }\n",
       "\n",
       "    .dataframe thead th {\n",
       "        text-align: right;\n",
       "    }\n",
       "</style>\n",
       "<table border=\"1\" class=\"dataframe\">\n",
       "  <thead>\n",
       "    <tr style=\"text-align: right;\">\n",
       "      <th></th>\n",
       "      <th>file_id</th>\n",
       "      <th>Multiple_variants_locations</th>\n",
       "      <th>Total_Denovo_regions</th>\n",
       "    </tr>\n",
       "  </thead>\n",
       "  <tbody>\n",
       "    <tr>\n",
       "      <th>0</th>\n",
       "      <td>TRIO0001_denovo.tsv.gz</td>\n",
       "      <td>44</td>\n",
       "      <td>10005</td>\n",
       "    </tr>\n",
       "    <tr>\n",
       "      <th>1</th>\n",
       "      <td>TRIO0002_denovo.tsv.gz</td>\n",
       "      <td>43</td>\n",
       "      <td>10283</td>\n",
       "    </tr>\n",
       "    <tr>\n",
       "      <th>2</th>\n",
       "      <td>TRIO0003_denovo.tsv.gz</td>\n",
       "      <td>39</td>\n",
       "      <td>10361</td>\n",
       "    </tr>\n",
       "    <tr>\n",
       "      <th>3</th>\n",
       "      <td>TRIO0004_denovo.tsv.gz</td>\n",
       "      <td>30</td>\n",
       "      <td>9189</td>\n",
       "    </tr>\n",
       "    <tr>\n",
       "      <th>4</th>\n",
       "      <td>TRIO0005_denovo.tsv.gz</td>\n",
       "      <td>34</td>\n",
       "      <td>9047</td>\n",
       "    </tr>\n",
       "  </tbody>\n",
       "</table>\n",
       "</div>"
      ],
      "text/plain": [
       "                  file_id  Multiple_variants_locations  Total_Denovo_regions\n",
       "0  TRIO0001_denovo.tsv.gz                           44                 10005\n",
       "1  TRIO0002_denovo.tsv.gz                           43                 10283\n",
       "2  TRIO0003_denovo.tsv.gz                           39                 10361\n",
       "3  TRIO0004_denovo.tsv.gz                           30                  9189\n",
       "4  TRIO0005_denovo.tsv.gz                           34                  9047"
      ]
     },
     "execution_count": 54,
     "metadata": {},
     "output_type": "execute_result"
    }
   ],
   "source": [
    "df.head()"
   ]
  },
  {
   "cell_type": "code",
   "execution_count": 61,
   "id": "0ad62950",
   "metadata": {
    "collapsed": true
   },
   "outputs": [
    {
     "data": {
      "application/vnd.plotly.v1+json": {
       "config": {
        "plotlyServerURL": "https://plot.ly"
       },
       "data": [
        {
         "alignmentgroup": "True",
         "bingroup": "x",
         "hovertemplate": "Multiple_variants_locations=%{x}<br>count=%{y}<extra></extra>",
         "legendgroup": "",
         "marker": {
          "color": "#636efa",
          "pattern": {
           "shape": ""
          }
         },
         "name": "",
         "offsetgroup": "",
         "orientation": "v",
         "showlegend": false,
         "type": "histogram",
         "x": [
          44,
          43,
          39,
          30,
          34,
          32,
          31,
          30,
          43,
          29,
          46,
          36,
          45,
          33,
          38,
          33,
          38,
          34,
          39,
          62,
          45,
          36,
          42,
          29,
          36,
          29,
          36,
          40,
          50,
          40,
          38,
          29,
          39,
          38,
          23,
          49,
          0,
          49,
          45,
          39,
          42,
          45,
          40,
          33,
          36,
          36,
          47,
          39,
          30,
          35,
          30,
          40,
          42,
          38,
          35,
          41,
          37,
          40,
          39,
          51,
          28,
          41,
          38,
          36,
          33,
          37,
          34,
          32,
          52,
          35,
          39,
          37,
          43,
          34,
          41,
          31,
          32,
          45,
          39,
          31,
          46,
          47,
          31,
          32,
          36,
          54,
          51,
          46,
          54,
          45,
          36,
          38,
          37,
          45,
          37,
          37,
          34,
          39,
          38,
          43,
          34,
          29,
          46,
          41,
          59,
          35,
          30,
          41,
          33,
          37,
          44,
          40,
          60,
          60,
          38,
          42,
          32,
          50,
          54,
          37,
          42,
          26,
          28,
          36,
          37,
          44,
          24,
          49,
          37,
          43,
          55,
          34,
          34,
          41,
          30,
          30,
          43,
          36,
          35,
          26,
          33,
          28,
          42,
          36,
          43,
          45,
          34,
          39,
          28,
          37,
          57,
          35,
          34,
          30,
          46,
          32,
          38,
          32,
          40,
          36,
          43,
          36,
          47,
          50,
          40,
          34,
          31,
          35,
          38,
          60,
          38,
          41,
          50,
          32,
          49,
          35,
          29,
          42,
          28,
          46,
          37,
          27,
          36,
          27,
          29,
          31,
          29,
          37,
          37,
          24,
          35,
          29,
          33,
          29,
          29,
          41,
          40,
          37,
          45,
          46,
          48,
          29,
          43,
          36,
          44,
          33,
          52,
          36,
          32,
          26,
          28,
          41,
          27,
          30,
          40,
          24,
          36,
          26,
          42,
          39,
          43,
          47,
          22,
          23,
          42,
          44,
          42,
          41,
          25,
          42,
          36,
          42,
          32,
          45,
          39,
          33,
          37,
          27,
          40,
          44,
          44,
          52,
          42,
          50,
          30,
          34,
          31,
          26,
          33,
          44,
          0,
          43,
          82,
          43,
          49,
          49,
          42,
          37,
          33,
          45,
          34,
          27,
          45,
          43,
          42,
          44,
          41,
          70,
          26,
          34,
          27,
          33,
          48,
          45,
          28,
          32,
          42,
          41,
          46,
          38,
          44,
          28,
          50,
          32,
          42,
          46,
          88,
          26,
          41,
          47,
          40,
          39,
          46,
          34,
          43,
          34,
          42,
          38,
          59,
          48,
          58,
          50,
          38,
          51,
          46,
          45,
          46,
          44,
          45,
          41,
          31,
          59,
          34,
          40,
          46,
          41,
          53,
          30,
          64,
          35,
          68,
          49,
          69,
          34,
          52,
          58,
          48,
          50,
          35,
          55,
          55,
          42,
          48,
          45,
          47,
          48,
          39,
          42,
          47,
          33,
          42,
          50,
          34,
          36,
          47,
          47,
          47,
          45,
          48,
          54,
          49,
          48,
          49,
          34,
          32,
          51,
          53,
          57,
          55,
          49,
          43,
          42,
          51,
          54,
          50,
          35,
          48,
          40,
          52,
          54,
          41,
          63,
          50,
          51,
          38,
          59,
          58,
          46,
          45,
          38,
          33,
          39,
          36,
          38,
          41,
          58,
          43,
          38,
          41,
          51,
          43,
          46,
          44,
          36,
          51,
          39,
          49,
          31,
          26,
          52,
          36,
          41,
          38,
          49,
          37,
          39,
          41,
          38,
          28,
          29,
          62,
          40,
          43,
          40,
          34,
          41,
          44,
          63,
          46,
          33,
          42,
          39,
          41,
          37,
          47,
          38,
          40,
          39,
          42,
          31,
          40,
          30,
          34,
          46,
          40,
          33,
          25,
          50,
          28,
          34,
          36,
          31,
          61,
          51,
          27,
          24,
          41,
          34,
          49,
          33,
          36,
          37,
          35,
          45,
          33,
          43,
          52,
          42,
          36,
          40,
          34,
          38,
          40,
          43,
          46,
          32,
          38,
          42,
          35,
          64,
          47,
          30,
          35,
          29,
          43,
          41,
          51,
          41,
          33,
          36,
          30,
          42,
          35,
          49,
          34,
          39,
          42,
          29,
          33,
          49,
          46,
          26,
          35,
          36,
          41,
          59,
          45,
          33,
          34,
          41,
          41,
          51,
          46,
          58,
          36,
          32,
          43,
          52,
          47,
          33,
          45,
          10,
          34,
          37,
          31,
          59,
          39,
          48,
          43,
          49,
          37,
          36,
          44,
          44,
          48,
          45,
          37,
          55,
          36,
          44,
          43,
          52,
          46,
          50,
          41,
          38,
          53,
          37,
          60,
          50,
          48,
          46,
          35,
          45,
          52,
          46,
          73,
          43,
          28,
          49,
          36,
          53,
          46,
          46,
          39,
          39,
          37,
          49,
          31,
          37,
          31,
          32,
          39,
          34,
          36,
          32,
          26,
          49,
          42,
          34,
          38,
          43,
          28,
          31,
          35,
          19,
          40,
          34,
          29,
          37,
          38,
          38,
          41,
          33,
          33,
          34,
          35,
          27,
          33,
          46,
          29,
          54,
          44,
          40,
          34,
          29,
          35,
          59,
          41
         ],
         "xaxis": "x",
         "yaxis": "y"
        }
       ],
       "layout": {
        "barmode": "relative",
        "legend": {
         "tracegroupgap": 0
        },
        "margin": {
         "t": 60
        },
        "template": {
         "data": {
          "bar": [
           {
            "error_x": {
             "color": "#2a3f5f"
            },
            "error_y": {
             "color": "#2a3f5f"
            },
            "marker": {
             "line": {
              "color": "#E5ECF6",
              "width": 0.5
             },
             "pattern": {
              "fillmode": "overlay",
              "size": 10,
              "solidity": 0.2
             }
            },
            "type": "bar"
           }
          ],
          "barpolar": [
           {
            "marker": {
             "line": {
              "color": "#E5ECF6",
              "width": 0.5
             },
             "pattern": {
              "fillmode": "overlay",
              "size": 10,
              "solidity": 0.2
             }
            },
            "type": "barpolar"
           }
          ],
          "carpet": [
           {
            "aaxis": {
             "endlinecolor": "#2a3f5f",
             "gridcolor": "white",
             "linecolor": "white",
             "minorgridcolor": "white",
             "startlinecolor": "#2a3f5f"
            },
            "baxis": {
             "endlinecolor": "#2a3f5f",
             "gridcolor": "white",
             "linecolor": "white",
             "minorgridcolor": "white",
             "startlinecolor": "#2a3f5f"
            },
            "type": "carpet"
           }
          ],
          "choropleth": [
           {
            "colorbar": {
             "outlinewidth": 0,
             "ticks": ""
            },
            "type": "choropleth"
           }
          ],
          "contour": [
           {
            "colorbar": {
             "outlinewidth": 0,
             "ticks": ""
            },
            "colorscale": [
             [
              0,
              "#0d0887"
             ],
             [
              0.1111111111111111,
              "#46039f"
             ],
             [
              0.2222222222222222,
              "#7201a8"
             ],
             [
              0.3333333333333333,
              "#9c179e"
             ],
             [
              0.4444444444444444,
              "#bd3786"
             ],
             [
              0.5555555555555556,
              "#d8576b"
             ],
             [
              0.6666666666666666,
              "#ed7953"
             ],
             [
              0.7777777777777778,
              "#fb9f3a"
             ],
             [
              0.8888888888888888,
              "#fdca26"
             ],
             [
              1,
              "#f0f921"
             ]
            ],
            "type": "contour"
           }
          ],
          "contourcarpet": [
           {
            "colorbar": {
             "outlinewidth": 0,
             "ticks": ""
            },
            "type": "contourcarpet"
           }
          ],
          "heatmap": [
           {
            "colorbar": {
             "outlinewidth": 0,
             "ticks": ""
            },
            "colorscale": [
             [
              0,
              "#0d0887"
             ],
             [
              0.1111111111111111,
              "#46039f"
             ],
             [
              0.2222222222222222,
              "#7201a8"
             ],
             [
              0.3333333333333333,
              "#9c179e"
             ],
             [
              0.4444444444444444,
              "#bd3786"
             ],
             [
              0.5555555555555556,
              "#d8576b"
             ],
             [
              0.6666666666666666,
              "#ed7953"
             ],
             [
              0.7777777777777778,
              "#fb9f3a"
             ],
             [
              0.8888888888888888,
              "#fdca26"
             ],
             [
              1,
              "#f0f921"
             ]
            ],
            "type": "heatmap"
           }
          ],
          "heatmapgl": [
           {
            "colorbar": {
             "outlinewidth": 0,
             "ticks": ""
            },
            "colorscale": [
             [
              0,
              "#0d0887"
             ],
             [
              0.1111111111111111,
              "#46039f"
             ],
             [
              0.2222222222222222,
              "#7201a8"
             ],
             [
              0.3333333333333333,
              "#9c179e"
             ],
             [
              0.4444444444444444,
              "#bd3786"
             ],
             [
              0.5555555555555556,
              "#d8576b"
             ],
             [
              0.6666666666666666,
              "#ed7953"
             ],
             [
              0.7777777777777778,
              "#fb9f3a"
             ],
             [
              0.8888888888888888,
              "#fdca26"
             ],
             [
              1,
              "#f0f921"
             ]
            ],
            "type": "heatmapgl"
           }
          ],
          "histogram": [
           {
            "marker": {
             "pattern": {
              "fillmode": "overlay",
              "size": 10,
              "solidity": 0.2
             }
            },
            "type": "histogram"
           }
          ],
          "histogram2d": [
           {
            "colorbar": {
             "outlinewidth": 0,
             "ticks": ""
            },
            "colorscale": [
             [
              0,
              "#0d0887"
             ],
             [
              0.1111111111111111,
              "#46039f"
             ],
             [
              0.2222222222222222,
              "#7201a8"
             ],
             [
              0.3333333333333333,
              "#9c179e"
             ],
             [
              0.4444444444444444,
              "#bd3786"
             ],
             [
              0.5555555555555556,
              "#d8576b"
             ],
             [
              0.6666666666666666,
              "#ed7953"
             ],
             [
              0.7777777777777778,
              "#fb9f3a"
             ],
             [
              0.8888888888888888,
              "#fdca26"
             ],
             [
              1,
              "#f0f921"
             ]
            ],
            "type": "histogram2d"
           }
          ],
          "histogram2dcontour": [
           {
            "colorbar": {
             "outlinewidth": 0,
             "ticks": ""
            },
            "colorscale": [
             [
              0,
              "#0d0887"
             ],
             [
              0.1111111111111111,
              "#46039f"
             ],
             [
              0.2222222222222222,
              "#7201a8"
             ],
             [
              0.3333333333333333,
              "#9c179e"
             ],
             [
              0.4444444444444444,
              "#bd3786"
             ],
             [
              0.5555555555555556,
              "#d8576b"
             ],
             [
              0.6666666666666666,
              "#ed7953"
             ],
             [
              0.7777777777777778,
              "#fb9f3a"
             ],
             [
              0.8888888888888888,
              "#fdca26"
             ],
             [
              1,
              "#f0f921"
             ]
            ],
            "type": "histogram2dcontour"
           }
          ],
          "mesh3d": [
           {
            "colorbar": {
             "outlinewidth": 0,
             "ticks": ""
            },
            "type": "mesh3d"
           }
          ],
          "parcoords": [
           {
            "line": {
             "colorbar": {
              "outlinewidth": 0,
              "ticks": ""
             }
            },
            "type": "parcoords"
           }
          ],
          "pie": [
           {
            "automargin": true,
            "type": "pie"
           }
          ],
          "scatter": [
           {
            "fillpattern": {
             "fillmode": "overlay",
             "size": 10,
             "solidity": 0.2
            },
            "type": "scatter"
           }
          ],
          "scatter3d": [
           {
            "line": {
             "colorbar": {
              "outlinewidth": 0,
              "ticks": ""
             }
            },
            "marker": {
             "colorbar": {
              "outlinewidth": 0,
              "ticks": ""
             }
            },
            "type": "scatter3d"
           }
          ],
          "scattercarpet": [
           {
            "marker": {
             "colorbar": {
              "outlinewidth": 0,
              "ticks": ""
             }
            },
            "type": "scattercarpet"
           }
          ],
          "scattergeo": [
           {
            "marker": {
             "colorbar": {
              "outlinewidth": 0,
              "ticks": ""
             }
            },
            "type": "scattergeo"
           }
          ],
          "scattergl": [
           {
            "marker": {
             "colorbar": {
              "outlinewidth": 0,
              "ticks": ""
             }
            },
            "type": "scattergl"
           }
          ],
          "scattermapbox": [
           {
            "marker": {
             "colorbar": {
              "outlinewidth": 0,
              "ticks": ""
             }
            },
            "type": "scattermapbox"
           }
          ],
          "scatterpolar": [
           {
            "marker": {
             "colorbar": {
              "outlinewidth": 0,
              "ticks": ""
             }
            },
            "type": "scatterpolar"
           }
          ],
          "scatterpolargl": [
           {
            "marker": {
             "colorbar": {
              "outlinewidth": 0,
              "ticks": ""
             }
            },
            "type": "scatterpolargl"
           }
          ],
          "scatterternary": [
           {
            "marker": {
             "colorbar": {
              "outlinewidth": 0,
              "ticks": ""
             }
            },
            "type": "scatterternary"
           }
          ],
          "surface": [
           {
            "colorbar": {
             "outlinewidth": 0,
             "ticks": ""
            },
            "colorscale": [
             [
              0,
              "#0d0887"
             ],
             [
              0.1111111111111111,
              "#46039f"
             ],
             [
              0.2222222222222222,
              "#7201a8"
             ],
             [
              0.3333333333333333,
              "#9c179e"
             ],
             [
              0.4444444444444444,
              "#bd3786"
             ],
             [
              0.5555555555555556,
              "#d8576b"
             ],
             [
              0.6666666666666666,
              "#ed7953"
             ],
             [
              0.7777777777777778,
              "#fb9f3a"
             ],
             [
              0.8888888888888888,
              "#fdca26"
             ],
             [
              1,
              "#f0f921"
             ]
            ],
            "type": "surface"
           }
          ],
          "table": [
           {
            "cells": {
             "fill": {
              "color": "#EBF0F8"
             },
             "line": {
              "color": "white"
             }
            },
            "header": {
             "fill": {
              "color": "#C8D4E3"
             },
             "line": {
              "color": "white"
             }
            },
            "type": "table"
           }
          ]
         },
         "layout": {
          "annotationdefaults": {
           "arrowcolor": "#2a3f5f",
           "arrowhead": 0,
           "arrowwidth": 1
          },
          "autotypenumbers": "strict",
          "coloraxis": {
           "colorbar": {
            "outlinewidth": 0,
            "ticks": ""
           }
          },
          "colorscale": {
           "diverging": [
            [
             0,
             "#8e0152"
            ],
            [
             0.1,
             "#c51b7d"
            ],
            [
             0.2,
             "#de77ae"
            ],
            [
             0.3,
             "#f1b6da"
            ],
            [
             0.4,
             "#fde0ef"
            ],
            [
             0.5,
             "#f7f7f7"
            ],
            [
             0.6,
             "#e6f5d0"
            ],
            [
             0.7,
             "#b8e186"
            ],
            [
             0.8,
             "#7fbc41"
            ],
            [
             0.9,
             "#4d9221"
            ],
            [
             1,
             "#276419"
            ]
           ],
           "sequential": [
            [
             0,
             "#0d0887"
            ],
            [
             0.1111111111111111,
             "#46039f"
            ],
            [
             0.2222222222222222,
             "#7201a8"
            ],
            [
             0.3333333333333333,
             "#9c179e"
            ],
            [
             0.4444444444444444,
             "#bd3786"
            ],
            [
             0.5555555555555556,
             "#d8576b"
            ],
            [
             0.6666666666666666,
             "#ed7953"
            ],
            [
             0.7777777777777778,
             "#fb9f3a"
            ],
            [
             0.8888888888888888,
             "#fdca26"
            ],
            [
             1,
             "#f0f921"
            ]
           ],
           "sequentialminus": [
            [
             0,
             "#0d0887"
            ],
            [
             0.1111111111111111,
             "#46039f"
            ],
            [
             0.2222222222222222,
             "#7201a8"
            ],
            [
             0.3333333333333333,
             "#9c179e"
            ],
            [
             0.4444444444444444,
             "#bd3786"
            ],
            [
             0.5555555555555556,
             "#d8576b"
            ],
            [
             0.6666666666666666,
             "#ed7953"
            ],
            [
             0.7777777777777778,
             "#fb9f3a"
            ],
            [
             0.8888888888888888,
             "#fdca26"
            ],
            [
             1,
             "#f0f921"
            ]
           ]
          },
          "colorway": [
           "#636efa",
           "#EF553B",
           "#00cc96",
           "#ab63fa",
           "#FFA15A",
           "#19d3f3",
           "#FF6692",
           "#B6E880",
           "#FF97FF",
           "#FECB52"
          ],
          "font": {
           "color": "#2a3f5f"
          },
          "geo": {
           "bgcolor": "white",
           "lakecolor": "white",
           "landcolor": "#E5ECF6",
           "showlakes": true,
           "showland": true,
           "subunitcolor": "white"
          },
          "hoverlabel": {
           "align": "left"
          },
          "hovermode": "closest",
          "mapbox": {
           "style": "light"
          },
          "paper_bgcolor": "white",
          "plot_bgcolor": "#E5ECF6",
          "polar": {
           "angularaxis": {
            "gridcolor": "white",
            "linecolor": "white",
            "ticks": ""
           },
           "bgcolor": "#E5ECF6",
           "radialaxis": {
            "gridcolor": "white",
            "linecolor": "white",
            "ticks": ""
           }
          },
          "scene": {
           "xaxis": {
            "backgroundcolor": "#E5ECF6",
            "gridcolor": "white",
            "gridwidth": 2,
            "linecolor": "white",
            "showbackground": true,
            "ticks": "",
            "zerolinecolor": "white"
           },
           "yaxis": {
            "backgroundcolor": "#E5ECF6",
            "gridcolor": "white",
            "gridwidth": 2,
            "linecolor": "white",
            "showbackground": true,
            "ticks": "",
            "zerolinecolor": "white"
           },
           "zaxis": {
            "backgroundcolor": "#E5ECF6",
            "gridcolor": "white",
            "gridwidth": 2,
            "linecolor": "white",
            "showbackground": true,
            "ticks": "",
            "zerolinecolor": "white"
           }
          },
          "shapedefaults": {
           "line": {
            "color": "#2a3f5f"
           }
          },
          "ternary": {
           "aaxis": {
            "gridcolor": "white",
            "linecolor": "white",
            "ticks": ""
           },
           "baxis": {
            "gridcolor": "white",
            "linecolor": "white",
            "ticks": ""
           },
           "bgcolor": "#E5ECF6",
           "caxis": {
            "gridcolor": "white",
            "linecolor": "white",
            "ticks": ""
           }
          },
          "title": {
           "x": 0.05
          },
          "xaxis": {
           "automargin": true,
           "gridcolor": "white",
           "linecolor": "white",
           "ticks": "",
           "title": {
            "standoff": 15
           },
           "zerolinecolor": "white",
           "zerolinewidth": 2
          },
          "yaxis": {
           "automargin": true,
           "gridcolor": "white",
           "linecolor": "white",
           "ticks": "",
           "title": {
            "standoff": 15
           },
           "zerolinecolor": "white",
           "zerolinewidth": 2
          }
         }
        },
        "xaxis": {
         "anchor": "y",
         "domain": [
          0,
          1
         ],
         "nticks": 35,
         "title": {
          "text": "Multiple_variants_locations"
         }
        },
        "yaxis": {
         "anchor": "x",
         "domain": [
          0,
          1
         ],
         "nticks": 30,
         "title": {
          "text": "count"
         }
        }
       }
      },
      "text/html": [
       "<div>                            <div id=\"9c1a6f55-51b6-4801-83a7-4c4645b7e325\" class=\"plotly-graph-div\" style=\"height:525px; width:100%;\"></div>            <script type=\"text/javascript\">                require([\"plotly\"], function(Plotly) {                    window.PLOTLYENV=window.PLOTLYENV || {};                                    if (document.getElementById(\"9c1a6f55-51b6-4801-83a7-4c4645b7e325\")) {                    Plotly.newPlot(                        \"9c1a6f55-51b6-4801-83a7-4c4645b7e325\",                        [{\"alignmentgroup\":\"True\",\"bingroup\":\"x\",\"hovertemplate\":\"Multiple_variants_locations=%{x}<br>count=%{y}<extra></extra>\",\"legendgroup\":\"\",\"marker\":{\"color\":\"#636efa\",\"pattern\":{\"shape\":\"\"}},\"name\":\"\",\"offsetgroup\":\"\",\"orientation\":\"v\",\"showlegend\":false,\"x\":[44,43,39,30,34,32,31,30,43,29,46,36,45,33,38,33,38,34,39,62,45,36,42,29,36,29,36,40,50,40,38,29,39,38,23,49,0,49,45,39,42,45,40,33,36,36,47,39,30,35,30,40,42,38,35,41,37,40,39,51,28,41,38,36,33,37,34,32,52,35,39,37,43,34,41,31,32,45,39,31,46,47,31,32,36,54,51,46,54,45,36,38,37,45,37,37,34,39,38,43,34,29,46,41,59,35,30,41,33,37,44,40,60,60,38,42,32,50,54,37,42,26,28,36,37,44,24,49,37,43,55,34,34,41,30,30,43,36,35,26,33,28,42,36,43,45,34,39,28,37,57,35,34,30,46,32,38,32,40,36,43,36,47,50,40,34,31,35,38,60,38,41,50,32,49,35,29,42,28,46,37,27,36,27,29,31,29,37,37,24,35,29,33,29,29,41,40,37,45,46,48,29,43,36,44,33,52,36,32,26,28,41,27,30,40,24,36,26,42,39,43,47,22,23,42,44,42,41,25,42,36,42,32,45,39,33,37,27,40,44,44,52,42,50,30,34,31,26,33,44,0,43,82,43,49,49,42,37,33,45,34,27,45,43,42,44,41,70,26,34,27,33,48,45,28,32,42,41,46,38,44,28,50,32,42,46,88,26,41,47,40,39,46,34,43,34,42,38,59,48,58,50,38,51,46,45,46,44,45,41,31,59,34,40,46,41,53,30,64,35,68,49,69,34,52,58,48,50,35,55,55,42,48,45,47,48,39,42,47,33,42,50,34,36,47,47,47,45,48,54,49,48,49,34,32,51,53,57,55,49,43,42,51,54,50,35,48,40,52,54,41,63,50,51,38,59,58,46,45,38,33,39,36,38,41,58,43,38,41,51,43,46,44,36,51,39,49,31,26,52,36,41,38,49,37,39,41,38,28,29,62,40,43,40,34,41,44,63,46,33,42,39,41,37,47,38,40,39,42,31,40,30,34,46,40,33,25,50,28,34,36,31,61,51,27,24,41,34,49,33,36,37,35,45,33,43,52,42,36,40,34,38,40,43,46,32,38,42,35,64,47,30,35,29,43,41,51,41,33,36,30,42,35,49,34,39,42,29,33,49,46,26,35,36,41,59,45,33,34,41,41,51,46,58,36,32,43,52,47,33,45,10,34,37,31,59,39,48,43,49,37,36,44,44,48,45,37,55,36,44,43,52,46,50,41,38,53,37,60,50,48,46,35,45,52,46,73,43,28,49,36,53,46,46,39,39,37,49,31,37,31,32,39,34,36,32,26,49,42,34,38,43,28,31,35,19,40,34,29,37,38,38,41,33,33,34,35,27,33,46,29,54,44,40,34,29,35,59,41],\"xaxis\":\"x\",\"yaxis\":\"y\",\"type\":\"histogram\"}],                        {\"template\":{\"data\":{\"histogram2dcontour\":[{\"type\":\"histogram2dcontour\",\"colorbar\":{\"outlinewidth\":0,\"ticks\":\"\"},\"colorscale\":[[0.0,\"#0d0887\"],[0.1111111111111111,\"#46039f\"],[0.2222222222222222,\"#7201a8\"],[0.3333333333333333,\"#9c179e\"],[0.4444444444444444,\"#bd3786\"],[0.5555555555555556,\"#d8576b\"],[0.6666666666666666,\"#ed7953\"],[0.7777777777777778,\"#fb9f3a\"],[0.8888888888888888,\"#fdca26\"],[1.0,\"#f0f921\"]]}],\"choropleth\":[{\"type\":\"choropleth\",\"colorbar\":{\"outlinewidth\":0,\"ticks\":\"\"}}],\"histogram2d\":[{\"type\":\"histogram2d\",\"colorbar\":{\"outlinewidth\":0,\"ticks\":\"\"},\"colorscale\":[[0.0,\"#0d0887\"],[0.1111111111111111,\"#46039f\"],[0.2222222222222222,\"#7201a8\"],[0.3333333333333333,\"#9c179e\"],[0.4444444444444444,\"#bd3786\"],[0.5555555555555556,\"#d8576b\"],[0.6666666666666666,\"#ed7953\"],[0.7777777777777778,\"#fb9f3a\"],[0.8888888888888888,\"#fdca26\"],[1.0,\"#f0f921\"]]}],\"heatmap\":[{\"type\":\"heatmap\",\"colorbar\":{\"outlinewidth\":0,\"ticks\":\"\"},\"colorscale\":[[0.0,\"#0d0887\"],[0.1111111111111111,\"#46039f\"],[0.2222222222222222,\"#7201a8\"],[0.3333333333333333,\"#9c179e\"],[0.4444444444444444,\"#bd3786\"],[0.5555555555555556,\"#d8576b\"],[0.6666666666666666,\"#ed7953\"],[0.7777777777777778,\"#fb9f3a\"],[0.8888888888888888,\"#fdca26\"],[1.0,\"#f0f921\"]]}],\"heatmapgl\":[{\"type\":\"heatmapgl\",\"colorbar\":{\"outlinewidth\":0,\"ticks\":\"\"},\"colorscale\":[[0.0,\"#0d0887\"],[0.1111111111111111,\"#46039f\"],[0.2222222222222222,\"#7201a8\"],[0.3333333333333333,\"#9c179e\"],[0.4444444444444444,\"#bd3786\"],[0.5555555555555556,\"#d8576b\"],[0.6666666666666666,\"#ed7953\"],[0.7777777777777778,\"#fb9f3a\"],[0.8888888888888888,\"#fdca26\"],[1.0,\"#f0f921\"]]}],\"contourcarpet\":[{\"type\":\"contourcarpet\",\"colorbar\":{\"outlinewidth\":0,\"ticks\":\"\"}}],\"contour\":[{\"type\":\"contour\",\"colorbar\":{\"outlinewidth\":0,\"ticks\":\"\"},\"colorscale\":[[0.0,\"#0d0887\"],[0.1111111111111111,\"#46039f\"],[0.2222222222222222,\"#7201a8\"],[0.3333333333333333,\"#9c179e\"],[0.4444444444444444,\"#bd3786\"],[0.5555555555555556,\"#d8576b\"],[0.6666666666666666,\"#ed7953\"],[0.7777777777777778,\"#fb9f3a\"],[0.8888888888888888,\"#fdca26\"],[1.0,\"#f0f921\"]]}],\"surface\":[{\"type\":\"surface\",\"colorbar\":{\"outlinewidth\":0,\"ticks\":\"\"},\"colorscale\":[[0.0,\"#0d0887\"],[0.1111111111111111,\"#46039f\"],[0.2222222222222222,\"#7201a8\"],[0.3333333333333333,\"#9c179e\"],[0.4444444444444444,\"#bd3786\"],[0.5555555555555556,\"#d8576b\"],[0.6666666666666666,\"#ed7953\"],[0.7777777777777778,\"#fb9f3a\"],[0.8888888888888888,\"#fdca26\"],[1.0,\"#f0f921\"]]}],\"mesh3d\":[{\"type\":\"mesh3d\",\"colorbar\":{\"outlinewidth\":0,\"ticks\":\"\"}}],\"scatter\":[{\"fillpattern\":{\"fillmode\":\"overlay\",\"size\":10,\"solidity\":0.2},\"type\":\"scatter\"}],\"parcoords\":[{\"type\":\"parcoords\",\"line\":{\"colorbar\":{\"outlinewidth\":0,\"ticks\":\"\"}}}],\"scatterpolargl\":[{\"type\":\"scatterpolargl\",\"marker\":{\"colorbar\":{\"outlinewidth\":0,\"ticks\":\"\"}}}],\"bar\":[{\"error_x\":{\"color\":\"#2a3f5f\"},\"error_y\":{\"color\":\"#2a3f5f\"},\"marker\":{\"line\":{\"color\":\"#E5ECF6\",\"width\":0.5},\"pattern\":{\"fillmode\":\"overlay\",\"size\":10,\"solidity\":0.2}},\"type\":\"bar\"}],\"scattergeo\":[{\"type\":\"scattergeo\",\"marker\":{\"colorbar\":{\"outlinewidth\":0,\"ticks\":\"\"}}}],\"scatterpolar\":[{\"type\":\"scatterpolar\",\"marker\":{\"colorbar\":{\"outlinewidth\":0,\"ticks\":\"\"}}}],\"histogram\":[{\"marker\":{\"pattern\":{\"fillmode\":\"overlay\",\"size\":10,\"solidity\":0.2}},\"type\":\"histogram\"}],\"scattergl\":[{\"type\":\"scattergl\",\"marker\":{\"colorbar\":{\"outlinewidth\":0,\"ticks\":\"\"}}}],\"scatter3d\":[{\"type\":\"scatter3d\",\"line\":{\"colorbar\":{\"outlinewidth\":0,\"ticks\":\"\"}},\"marker\":{\"colorbar\":{\"outlinewidth\":0,\"ticks\":\"\"}}}],\"scattermapbox\":[{\"type\":\"scattermapbox\",\"marker\":{\"colorbar\":{\"outlinewidth\":0,\"ticks\":\"\"}}}],\"scatterternary\":[{\"type\":\"scatterternary\",\"marker\":{\"colorbar\":{\"outlinewidth\":0,\"ticks\":\"\"}}}],\"scattercarpet\":[{\"type\":\"scattercarpet\",\"marker\":{\"colorbar\":{\"outlinewidth\":0,\"ticks\":\"\"}}}],\"carpet\":[{\"aaxis\":{\"endlinecolor\":\"#2a3f5f\",\"gridcolor\":\"white\",\"linecolor\":\"white\",\"minorgridcolor\":\"white\",\"startlinecolor\":\"#2a3f5f\"},\"baxis\":{\"endlinecolor\":\"#2a3f5f\",\"gridcolor\":\"white\",\"linecolor\":\"white\",\"minorgridcolor\":\"white\",\"startlinecolor\":\"#2a3f5f\"},\"type\":\"carpet\"}],\"table\":[{\"cells\":{\"fill\":{\"color\":\"#EBF0F8\"},\"line\":{\"color\":\"white\"}},\"header\":{\"fill\":{\"color\":\"#C8D4E3\"},\"line\":{\"color\":\"white\"}},\"type\":\"table\"}],\"barpolar\":[{\"marker\":{\"line\":{\"color\":\"#E5ECF6\",\"width\":0.5},\"pattern\":{\"fillmode\":\"overlay\",\"size\":10,\"solidity\":0.2}},\"type\":\"barpolar\"}],\"pie\":[{\"automargin\":true,\"type\":\"pie\"}]},\"layout\":{\"autotypenumbers\":\"strict\",\"colorway\":[\"#636efa\",\"#EF553B\",\"#00cc96\",\"#ab63fa\",\"#FFA15A\",\"#19d3f3\",\"#FF6692\",\"#B6E880\",\"#FF97FF\",\"#FECB52\"],\"font\":{\"color\":\"#2a3f5f\"},\"hovermode\":\"closest\",\"hoverlabel\":{\"align\":\"left\"},\"paper_bgcolor\":\"white\",\"plot_bgcolor\":\"#E5ECF6\",\"polar\":{\"bgcolor\":\"#E5ECF6\",\"angularaxis\":{\"gridcolor\":\"white\",\"linecolor\":\"white\",\"ticks\":\"\"},\"radialaxis\":{\"gridcolor\":\"white\",\"linecolor\":\"white\",\"ticks\":\"\"}},\"ternary\":{\"bgcolor\":\"#E5ECF6\",\"aaxis\":{\"gridcolor\":\"white\",\"linecolor\":\"white\",\"ticks\":\"\"},\"baxis\":{\"gridcolor\":\"white\",\"linecolor\":\"white\",\"ticks\":\"\"},\"caxis\":{\"gridcolor\":\"white\",\"linecolor\":\"white\",\"ticks\":\"\"}},\"coloraxis\":{\"colorbar\":{\"outlinewidth\":0,\"ticks\":\"\"}},\"colorscale\":{\"sequential\":[[0.0,\"#0d0887\"],[0.1111111111111111,\"#46039f\"],[0.2222222222222222,\"#7201a8\"],[0.3333333333333333,\"#9c179e\"],[0.4444444444444444,\"#bd3786\"],[0.5555555555555556,\"#d8576b\"],[0.6666666666666666,\"#ed7953\"],[0.7777777777777778,\"#fb9f3a\"],[0.8888888888888888,\"#fdca26\"],[1.0,\"#f0f921\"]],\"sequentialminus\":[[0.0,\"#0d0887\"],[0.1111111111111111,\"#46039f\"],[0.2222222222222222,\"#7201a8\"],[0.3333333333333333,\"#9c179e\"],[0.4444444444444444,\"#bd3786\"],[0.5555555555555556,\"#d8576b\"],[0.6666666666666666,\"#ed7953\"],[0.7777777777777778,\"#fb9f3a\"],[0.8888888888888888,\"#fdca26\"],[1.0,\"#f0f921\"]],\"diverging\":[[0,\"#8e0152\"],[0.1,\"#c51b7d\"],[0.2,\"#de77ae\"],[0.3,\"#f1b6da\"],[0.4,\"#fde0ef\"],[0.5,\"#f7f7f7\"],[0.6,\"#e6f5d0\"],[0.7,\"#b8e186\"],[0.8,\"#7fbc41\"],[0.9,\"#4d9221\"],[1,\"#276419\"]]},\"xaxis\":{\"gridcolor\":\"white\",\"linecolor\":\"white\",\"ticks\":\"\",\"title\":{\"standoff\":15},\"zerolinecolor\":\"white\",\"automargin\":true,\"zerolinewidth\":2},\"yaxis\":{\"gridcolor\":\"white\",\"linecolor\":\"white\",\"ticks\":\"\",\"title\":{\"standoff\":15},\"zerolinecolor\":\"white\",\"automargin\":true,\"zerolinewidth\":2},\"scene\":{\"xaxis\":{\"backgroundcolor\":\"#E5ECF6\",\"gridcolor\":\"white\",\"linecolor\":\"white\",\"showbackground\":true,\"ticks\":\"\",\"zerolinecolor\":\"white\",\"gridwidth\":2},\"yaxis\":{\"backgroundcolor\":\"#E5ECF6\",\"gridcolor\":\"white\",\"linecolor\":\"white\",\"showbackground\":true,\"ticks\":\"\",\"zerolinecolor\":\"white\",\"gridwidth\":2},\"zaxis\":{\"backgroundcolor\":\"#E5ECF6\",\"gridcolor\":\"white\",\"linecolor\":\"white\",\"showbackground\":true,\"ticks\":\"\",\"zerolinecolor\":\"white\",\"gridwidth\":2}},\"shapedefaults\":{\"line\":{\"color\":\"#2a3f5f\"}},\"annotationdefaults\":{\"arrowcolor\":\"#2a3f5f\",\"arrowhead\":0,\"arrowwidth\":1},\"geo\":{\"bgcolor\":\"white\",\"landcolor\":\"#E5ECF6\",\"subunitcolor\":\"white\",\"showland\":true,\"showlakes\":true,\"lakecolor\":\"white\"},\"title\":{\"x\":0.05},\"mapbox\":{\"style\":\"light\"}}},\"xaxis\":{\"anchor\":\"y\",\"domain\":[0.0,1.0],\"title\":{\"text\":\"Multiple_variants_locations\"},\"nticks\":35},\"yaxis\":{\"anchor\":\"x\",\"domain\":[0.0,1.0],\"title\":{\"text\":\"count\"},\"nticks\":30},\"legend\":{\"tracegroupgap\":0},\"margin\":{\"t\":60},\"barmode\":\"relative\"},                        {\"responsive\": true}                    ).then(function(){\n",
       "                            \n",
       "var gd = document.getElementById('9c1a6f55-51b6-4801-83a7-4c4645b7e325');\n",
       "var x = new MutationObserver(function (mutations, observer) {{\n",
       "        var display = window.getComputedStyle(gd).display;\n",
       "        if (!display || display === 'none') {{\n",
       "            console.log([gd, 'removed!']);\n",
       "            Plotly.purge(gd);\n",
       "            observer.disconnect();\n",
       "        }}\n",
       "}});\n",
       "\n",
       "// Listen for the removal of the full notebook cells\n",
       "var notebookContainer = gd.closest('#notebook-container');\n",
       "if (notebookContainer) {{\n",
       "    x.observe(notebookContainer, {childList: true});\n",
       "}}\n",
       "\n",
       "// Listen for the clearing of the current output cell\n",
       "var outputEl = gd.closest('.output');\n",
       "if (outputEl) {{\n",
       "    x.observe(outputEl, {childList: true});\n",
       "}}\n",
       "\n",
       "                        })                };                });            </script>        </div>"
      ]
     },
     "metadata": {},
     "output_type": "display_data"
    }
   ],
   "source": [
    "# Graph for seeing the distribution of the num of multiple variants locations.\n",
    "\n",
    "fig = px.histogram(df, x='Multiple_variants_locations')\n",
    "fig.update_xaxes(nticks=35)\n",
    "fig.update_yaxes(nticks=30)\n",
    "\n",
    "\n",
    "fig.show()"
   ]
  },
  {
   "cell_type": "code",
   "execution_count": 63,
   "id": "81f7cc50",
   "metadata": {
    "collapsed": true
   },
   "outputs": [
    {
     "data": {
      "application/vnd.plotly.v1+json": {
       "config": {
        "plotlyServerURL": "https://plot.ly"
       },
       "data": [
        {
         "hovertemplate": "Total_Denovo_regions=%{x}<br>Multiple_variants_locations=%{y}<extra></extra>",
         "legendgroup": "",
         "marker": {
          "color": "#636efa",
          "symbol": "circle"
         },
         "mode": "markers",
         "name": "",
         "orientation": "v",
         "showlegend": false,
         "type": "scatter",
         "x": [
          10005,
          10283,
          10361,
          9189,
          9047,
          9325,
          9308,
          9037,
          9220,
          9252,
          9607,
          9551,
          9312,
          9985,
          9788,
          7071,
          10062,
          9403,
          8998,
          10062,
          9899,
          9100,
          9824,
          10300,
          10444,
          10368,
          10402,
          9948,
          10059,
          8542,
          9500,
          9182,
          9216,
          8521,
          8930,
          10326,
          0,
          9184,
          8668,
          9651,
          10908,
          10980,
          9559,
          8833,
          9664,
          7915,
          9943,
          9796,
          8216,
          9363,
          9431,
          10802,
          9351,
          10421,
          9397,
          10228,
          10423,
          10007,
          10236,
          9792,
          11619,
          10776,
          10857,
          9897,
          9484,
          10120,
          10543,
          10481,
          12523,
          12046,
          10533,
          9907,
          11520,
          9797,
          11303,
          10561,
          11309,
          10061,
          10239,
          10836,
          11162,
          10735,
          11226,
          10629,
          11011,
          10382,
          10324,
          10713,
          12848,
          9642,
          9918,
          10228,
          10813,
          9444,
          10881,
          10079,
          9504,
          11058,
          10648,
          9628,
          9953,
          8829,
          12719,
          10506,
          14494,
          10444,
          11489,
          8977,
          10834,
          10710,
          9772,
          10315,
          10966,
          10665,
          10869,
          9339,
          10959,
          11376,
          10546,
          12192,
          10792,
          11197,
          10902,
          10331,
          10352,
          10776,
          10546,
          10897,
          10601,
          10861,
          11505,
          9394,
          11121,
          9705,
          10477,
          10981,
          10587,
          10072,
          9877,
          10622,
          10539,
          10771,
          9963,
          11090,
          10394,
          10584,
          10242,
          10320,
          10500,
          10775,
          11679,
          11431,
          11228,
          10687,
          10230,
          10450,
          11640,
          9963,
          12399,
          10099,
          9953,
          10688,
          9923,
          10361,
          10317,
          10070,
          13153,
          12429,
          11819,
          12592,
          13608,
          11881,
          13015,
          10514,
          13894,
          9651,
          10378,
          9253,
          8232,
          10395,
          9552,
          9150,
          9642,
          9329,
          10416,
          10685,
          9187,
          12196,
          12965,
          9704,
          9561,
          9520,
          10699,
          12983,
          9075,
          12138,
          9642,
          9335,
          9273,
          13067,
          10022,
          9331,
          10709,
          11887,
          10638,
          13685,
          9033,
          9545,
          10344,
          9486,
          8808,
          9557,
          9403,
          9517,
          10953,
          8246,
          9343,
          9295,
          11139,
          9450,
          8904,
          11566,
          8335,
          11454,
          9764,
          10189,
          10307,
          10545,
          10960,
          12436,
          13135,
          8125,
          8315,
          8791,
          12714,
          8818,
          8421,
          9482,
          9441,
          12838,
          13799,
          12515,
          13096,
          14318,
          10879,
          9490,
          9415,
          10342,
          10421,
          12011,
          0,
          12657,
          14087,
          12254,
          13470,
          11852,
          13103,
          11826,
          10857,
          12508,
          12840,
          13402,
          11486,
          13171,
          12349,
          12496,
          13069,
          11561,
          10160,
          10451,
          9665,
          10173,
          14822,
          13068,
          12359,
          18159,
          9955,
          10221,
          9326,
          10855,
          9951,
          12239,
          12701,
          13308,
          9197,
          11465,
          10783,
          11766,
          13372,
          12212,
          11613,
          12637,
          13564,
          10501,
          11192,
          10619,
          10976,
          11669,
          12148,
          11212,
          12518,
          15665,
          13642,
          13443,
          12229,
          13636,
          14521,
          12772,
          13039,
          13347,
          13709,
          12406,
          12221,
          12618,
          15153,
          13257,
          13516,
          13472,
          13985,
          12371,
          13215,
          12875,
          13134,
          11945,
          12998,
          15062,
          9788,
          11172,
          12378,
          12646,
          13146,
          11658,
          12038,
          12059,
          11672,
          11911,
          11689,
          11087,
          12712,
          11306,
          12340,
          14640,
          12539,
          13195,
          12557,
          12962,
          12545,
          12250,
          11928,
          12944,
          13233,
          12517,
          12004,
          11089,
          9885,
          10396,
          13178,
          12695,
          13495,
          10818,
          11778,
          10150,
          12629,
          12074,
          11724,
          11804,
          11408,
          12971,
          12634,
          12122,
          11393,
          12067,
          12179,
          12115,
          11139,
          11885,
          12185,
          11550,
          12209,
          9605,
          9640,
          12889,
          11293,
          12524,
          18178,
          12820,
          13393,
          12674,
          10487,
          10067,
          9706,
          9183,
          9094,
          10738,
          9493,
          9023,
          9117,
          9804,
          10300,
          10048,
          8727,
          9447,
          10085,
          9156,
          9856,
          10332,
          10080,
          10596,
          9479,
          9183,
          10471,
          9791,
          10237,
          9614,
          10416,
          10204,
          9074,
          10267,
          10610,
          9147,
          10484,
          9836,
          9729,
          9722,
          11898,
          8951,
          9357,
          9238,
          8471,
          11176,
          8963,
          10083,
          9397,
          11288,
          9675,
          9648,
          8965,
          9746,
          10149,
          9928,
          7929,
          10194,
          11353,
          9602,
          9936,
          10122,
          10717,
          10031,
          11375,
          10646,
          10304,
          12164,
          9851,
          11719,
          12135,
          10842,
          10608,
          10384,
          10514,
          10738,
          10400,
          9652,
          10475,
          9838,
          10360,
          9852,
          11618,
          10282,
          12430,
          10984,
          9925,
          10663,
          9855,
          10665,
          12822,
          11332,
          11348,
          9400,
          10665,
          10962,
          9685,
          11761,
          10823,
          11176,
          9008,
          11345,
          11514,
          10891,
          9414,
          9102,
          10173,
          10980,
          9582,
          11019,
          11541,
          10828,
          10686,
          10197,
          12106,
          10250,
          13348,
          14525,
          11677,
          12974,
          12063,
          12432,
          13364,
          11652,
          13603,
          13348,
          12541,
          2856,
          12679,
          12723,
          13961,
          12408,
          12396,
          11664,
          13413,
          12427,
          11586,
          11869,
          11150,
          15662,
          11513,
          11522,
          12599,
          11557,
          12065,
          13105,
          12395,
          13334,
          12027,
          12717,
          11914,
          14060,
          15268,
          13317,
          13040,
          13332,
          13369,
          11587,
          11833,
          13188,
          12853,
          13507,
          12616,
          13248,
          12057,
          12152,
          11572,
          12016,
          14085,
          12650,
          9574,
          10632,
          9267,
          9884,
          9083,
          9785,
          9325,
          7948,
          11778,
          8053,
          9702,
          9266,
          9091,
          11543,
          11146,
          9060,
          8633,
          9367,
          9474,
          8255,
          8521,
          8425,
          10227,
          9864,
          8726,
          9205,
          9470,
          10223,
          9914,
          10349,
          9277,
          9393,
          10432,
          11020,
          14597,
          11390,
          12784,
          12165,
          11800,
          11515,
          11148,
          10491,
          11360,
          11374,
          11438
         ],
         "xaxis": "x",
         "y": [
          44,
          43,
          39,
          30,
          34,
          32,
          31,
          30,
          43,
          29,
          46,
          36,
          45,
          33,
          38,
          33,
          38,
          34,
          39,
          62,
          45,
          36,
          42,
          29,
          36,
          29,
          36,
          40,
          50,
          40,
          38,
          29,
          39,
          38,
          23,
          49,
          0,
          49,
          45,
          39,
          42,
          45,
          40,
          33,
          36,
          36,
          47,
          39,
          30,
          35,
          30,
          40,
          42,
          38,
          35,
          41,
          37,
          40,
          39,
          51,
          28,
          41,
          38,
          36,
          33,
          37,
          34,
          32,
          52,
          35,
          39,
          37,
          43,
          34,
          41,
          31,
          32,
          45,
          39,
          31,
          46,
          47,
          31,
          32,
          36,
          54,
          51,
          46,
          54,
          45,
          36,
          38,
          37,
          45,
          37,
          37,
          34,
          39,
          38,
          43,
          34,
          29,
          46,
          41,
          59,
          35,
          30,
          41,
          33,
          37,
          44,
          40,
          60,
          60,
          38,
          42,
          32,
          50,
          54,
          37,
          42,
          26,
          28,
          36,
          37,
          44,
          24,
          49,
          37,
          43,
          55,
          34,
          34,
          41,
          30,
          30,
          43,
          36,
          35,
          26,
          33,
          28,
          42,
          36,
          43,
          45,
          34,
          39,
          28,
          37,
          57,
          35,
          34,
          30,
          46,
          32,
          38,
          32,
          40,
          36,
          43,
          36,
          47,
          50,
          40,
          34,
          31,
          35,
          38,
          60,
          38,
          41,
          50,
          32,
          49,
          35,
          29,
          42,
          28,
          46,
          37,
          27,
          36,
          27,
          29,
          31,
          29,
          37,
          37,
          24,
          35,
          29,
          33,
          29,
          29,
          41,
          40,
          37,
          45,
          46,
          48,
          29,
          43,
          36,
          44,
          33,
          52,
          36,
          32,
          26,
          28,
          41,
          27,
          30,
          40,
          24,
          36,
          26,
          42,
          39,
          43,
          47,
          22,
          23,
          42,
          44,
          42,
          41,
          25,
          42,
          36,
          42,
          32,
          45,
          39,
          33,
          37,
          27,
          40,
          44,
          44,
          52,
          42,
          50,
          30,
          34,
          31,
          26,
          33,
          44,
          0,
          43,
          82,
          43,
          49,
          49,
          42,
          37,
          33,
          45,
          34,
          27,
          45,
          43,
          42,
          44,
          41,
          70,
          26,
          34,
          27,
          33,
          48,
          45,
          28,
          32,
          42,
          41,
          46,
          38,
          44,
          28,
          50,
          32,
          42,
          46,
          88,
          26,
          41,
          47,
          40,
          39,
          46,
          34,
          43,
          34,
          42,
          38,
          59,
          48,
          58,
          50,
          38,
          51,
          46,
          45,
          46,
          44,
          45,
          41,
          31,
          59,
          34,
          40,
          46,
          41,
          53,
          30,
          64,
          35,
          68,
          49,
          69,
          34,
          52,
          58,
          48,
          50,
          35,
          55,
          55,
          42,
          48,
          45,
          47,
          48,
          39,
          42,
          47,
          33,
          42,
          50,
          34,
          36,
          47,
          47,
          47,
          45,
          48,
          54,
          49,
          48,
          49,
          34,
          32,
          51,
          53,
          57,
          55,
          49,
          43,
          42,
          51,
          54,
          50,
          35,
          48,
          40,
          52,
          54,
          41,
          63,
          50,
          51,
          38,
          59,
          58,
          46,
          45,
          38,
          33,
          39,
          36,
          38,
          41,
          58,
          43,
          38,
          41,
          51,
          43,
          46,
          44,
          36,
          51,
          39,
          49,
          31,
          26,
          52,
          36,
          41,
          38,
          49,
          37,
          39,
          41,
          38,
          28,
          29,
          62,
          40,
          43,
          40,
          34,
          41,
          44,
          63,
          46,
          33,
          42,
          39,
          41,
          37,
          47,
          38,
          40,
          39,
          42,
          31,
          40,
          30,
          34,
          46,
          40,
          33,
          25,
          50,
          28,
          34,
          36,
          31,
          61,
          51,
          27,
          24,
          41,
          34,
          49,
          33,
          36,
          37,
          35,
          45,
          33,
          43,
          52,
          42,
          36,
          40,
          34,
          38,
          40,
          43,
          46,
          32,
          38,
          42,
          35,
          64,
          47,
          30,
          35,
          29,
          43,
          41,
          51,
          41,
          33,
          36,
          30,
          42,
          35,
          49,
          34,
          39,
          42,
          29,
          33,
          49,
          46,
          26,
          35,
          36,
          41,
          59,
          45,
          33,
          34,
          41,
          41,
          51,
          46,
          58,
          36,
          32,
          43,
          52,
          47,
          33,
          45,
          10,
          34,
          37,
          31,
          59,
          39,
          48,
          43,
          49,
          37,
          36,
          44,
          44,
          48,
          45,
          37,
          55,
          36,
          44,
          43,
          52,
          46,
          50,
          41,
          38,
          53,
          37,
          60,
          50,
          48,
          46,
          35,
          45,
          52,
          46,
          73,
          43,
          28,
          49,
          36,
          53,
          46,
          46,
          39,
          39,
          37,
          49,
          31,
          37,
          31,
          32,
          39,
          34,
          36,
          32,
          26,
          49,
          42,
          34,
          38,
          43,
          28,
          31,
          35,
          19,
          40,
          34,
          29,
          37,
          38,
          38,
          41,
          33,
          33,
          34,
          35,
          27,
          33,
          46,
          29,
          54,
          44,
          40,
          34,
          29,
          35,
          59,
          41
         ],
         "yaxis": "y"
        }
       ],
       "layout": {
        "legend": {
         "tracegroupgap": 0
        },
        "margin": {
         "t": 60
        },
        "template": {
         "data": {
          "bar": [
           {
            "error_x": {
             "color": "#2a3f5f"
            },
            "error_y": {
             "color": "#2a3f5f"
            },
            "marker": {
             "line": {
              "color": "#E5ECF6",
              "width": 0.5
             },
             "pattern": {
              "fillmode": "overlay",
              "size": 10,
              "solidity": 0.2
             }
            },
            "type": "bar"
           }
          ],
          "barpolar": [
           {
            "marker": {
             "line": {
              "color": "#E5ECF6",
              "width": 0.5
             },
             "pattern": {
              "fillmode": "overlay",
              "size": 10,
              "solidity": 0.2
             }
            },
            "type": "barpolar"
           }
          ],
          "carpet": [
           {
            "aaxis": {
             "endlinecolor": "#2a3f5f",
             "gridcolor": "white",
             "linecolor": "white",
             "minorgridcolor": "white",
             "startlinecolor": "#2a3f5f"
            },
            "baxis": {
             "endlinecolor": "#2a3f5f",
             "gridcolor": "white",
             "linecolor": "white",
             "minorgridcolor": "white",
             "startlinecolor": "#2a3f5f"
            },
            "type": "carpet"
           }
          ],
          "choropleth": [
           {
            "colorbar": {
             "outlinewidth": 0,
             "ticks": ""
            },
            "type": "choropleth"
           }
          ],
          "contour": [
           {
            "colorbar": {
             "outlinewidth": 0,
             "ticks": ""
            },
            "colorscale": [
             [
              0,
              "#0d0887"
             ],
             [
              0.1111111111111111,
              "#46039f"
             ],
             [
              0.2222222222222222,
              "#7201a8"
             ],
             [
              0.3333333333333333,
              "#9c179e"
             ],
             [
              0.4444444444444444,
              "#bd3786"
             ],
             [
              0.5555555555555556,
              "#d8576b"
             ],
             [
              0.6666666666666666,
              "#ed7953"
             ],
             [
              0.7777777777777778,
              "#fb9f3a"
             ],
             [
              0.8888888888888888,
              "#fdca26"
             ],
             [
              1,
              "#f0f921"
             ]
            ],
            "type": "contour"
           }
          ],
          "contourcarpet": [
           {
            "colorbar": {
             "outlinewidth": 0,
             "ticks": ""
            },
            "type": "contourcarpet"
           }
          ],
          "heatmap": [
           {
            "colorbar": {
             "outlinewidth": 0,
             "ticks": ""
            },
            "colorscale": [
             [
              0,
              "#0d0887"
             ],
             [
              0.1111111111111111,
              "#46039f"
             ],
             [
              0.2222222222222222,
              "#7201a8"
             ],
             [
              0.3333333333333333,
              "#9c179e"
             ],
             [
              0.4444444444444444,
              "#bd3786"
             ],
             [
              0.5555555555555556,
              "#d8576b"
             ],
             [
              0.6666666666666666,
              "#ed7953"
             ],
             [
              0.7777777777777778,
              "#fb9f3a"
             ],
             [
              0.8888888888888888,
              "#fdca26"
             ],
             [
              1,
              "#f0f921"
             ]
            ],
            "type": "heatmap"
           }
          ],
          "heatmapgl": [
           {
            "colorbar": {
             "outlinewidth": 0,
             "ticks": ""
            },
            "colorscale": [
             [
              0,
              "#0d0887"
             ],
             [
              0.1111111111111111,
              "#46039f"
             ],
             [
              0.2222222222222222,
              "#7201a8"
             ],
             [
              0.3333333333333333,
              "#9c179e"
             ],
             [
              0.4444444444444444,
              "#bd3786"
             ],
             [
              0.5555555555555556,
              "#d8576b"
             ],
             [
              0.6666666666666666,
              "#ed7953"
             ],
             [
              0.7777777777777778,
              "#fb9f3a"
             ],
             [
              0.8888888888888888,
              "#fdca26"
             ],
             [
              1,
              "#f0f921"
             ]
            ],
            "type": "heatmapgl"
           }
          ],
          "histogram": [
           {
            "marker": {
             "pattern": {
              "fillmode": "overlay",
              "size": 10,
              "solidity": 0.2
             }
            },
            "type": "histogram"
           }
          ],
          "histogram2d": [
           {
            "colorbar": {
             "outlinewidth": 0,
             "ticks": ""
            },
            "colorscale": [
             [
              0,
              "#0d0887"
             ],
             [
              0.1111111111111111,
              "#46039f"
             ],
             [
              0.2222222222222222,
              "#7201a8"
             ],
             [
              0.3333333333333333,
              "#9c179e"
             ],
             [
              0.4444444444444444,
              "#bd3786"
             ],
             [
              0.5555555555555556,
              "#d8576b"
             ],
             [
              0.6666666666666666,
              "#ed7953"
             ],
             [
              0.7777777777777778,
              "#fb9f3a"
             ],
             [
              0.8888888888888888,
              "#fdca26"
             ],
             [
              1,
              "#f0f921"
             ]
            ],
            "type": "histogram2d"
           }
          ],
          "histogram2dcontour": [
           {
            "colorbar": {
             "outlinewidth": 0,
             "ticks": ""
            },
            "colorscale": [
             [
              0,
              "#0d0887"
             ],
             [
              0.1111111111111111,
              "#46039f"
             ],
             [
              0.2222222222222222,
              "#7201a8"
             ],
             [
              0.3333333333333333,
              "#9c179e"
             ],
             [
              0.4444444444444444,
              "#bd3786"
             ],
             [
              0.5555555555555556,
              "#d8576b"
             ],
             [
              0.6666666666666666,
              "#ed7953"
             ],
             [
              0.7777777777777778,
              "#fb9f3a"
             ],
             [
              0.8888888888888888,
              "#fdca26"
             ],
             [
              1,
              "#f0f921"
             ]
            ],
            "type": "histogram2dcontour"
           }
          ],
          "mesh3d": [
           {
            "colorbar": {
             "outlinewidth": 0,
             "ticks": ""
            },
            "type": "mesh3d"
           }
          ],
          "parcoords": [
           {
            "line": {
             "colorbar": {
              "outlinewidth": 0,
              "ticks": ""
             }
            },
            "type": "parcoords"
           }
          ],
          "pie": [
           {
            "automargin": true,
            "type": "pie"
           }
          ],
          "scatter": [
           {
            "fillpattern": {
             "fillmode": "overlay",
             "size": 10,
             "solidity": 0.2
            },
            "type": "scatter"
           }
          ],
          "scatter3d": [
           {
            "line": {
             "colorbar": {
              "outlinewidth": 0,
              "ticks": ""
             }
            },
            "marker": {
             "colorbar": {
              "outlinewidth": 0,
              "ticks": ""
             }
            },
            "type": "scatter3d"
           }
          ],
          "scattercarpet": [
           {
            "marker": {
             "colorbar": {
              "outlinewidth": 0,
              "ticks": ""
             }
            },
            "type": "scattercarpet"
           }
          ],
          "scattergeo": [
           {
            "marker": {
             "colorbar": {
              "outlinewidth": 0,
              "ticks": ""
             }
            },
            "type": "scattergeo"
           }
          ],
          "scattergl": [
           {
            "marker": {
             "colorbar": {
              "outlinewidth": 0,
              "ticks": ""
             }
            },
            "type": "scattergl"
           }
          ],
          "scattermapbox": [
           {
            "marker": {
             "colorbar": {
              "outlinewidth": 0,
              "ticks": ""
             }
            },
            "type": "scattermapbox"
           }
          ],
          "scatterpolar": [
           {
            "marker": {
             "colorbar": {
              "outlinewidth": 0,
              "ticks": ""
             }
            },
            "type": "scatterpolar"
           }
          ],
          "scatterpolargl": [
           {
            "marker": {
             "colorbar": {
              "outlinewidth": 0,
              "ticks": ""
             }
            },
            "type": "scatterpolargl"
           }
          ],
          "scatterternary": [
           {
            "marker": {
             "colorbar": {
              "outlinewidth": 0,
              "ticks": ""
             }
            },
            "type": "scatterternary"
           }
          ],
          "surface": [
           {
            "colorbar": {
             "outlinewidth": 0,
             "ticks": ""
            },
            "colorscale": [
             [
              0,
              "#0d0887"
             ],
             [
              0.1111111111111111,
              "#46039f"
             ],
             [
              0.2222222222222222,
              "#7201a8"
             ],
             [
              0.3333333333333333,
              "#9c179e"
             ],
             [
              0.4444444444444444,
              "#bd3786"
             ],
             [
              0.5555555555555556,
              "#d8576b"
             ],
             [
              0.6666666666666666,
              "#ed7953"
             ],
             [
              0.7777777777777778,
              "#fb9f3a"
             ],
             [
              0.8888888888888888,
              "#fdca26"
             ],
             [
              1,
              "#f0f921"
             ]
            ],
            "type": "surface"
           }
          ],
          "table": [
           {
            "cells": {
             "fill": {
              "color": "#EBF0F8"
             },
             "line": {
              "color": "white"
             }
            },
            "header": {
             "fill": {
              "color": "#C8D4E3"
             },
             "line": {
              "color": "white"
             }
            },
            "type": "table"
           }
          ]
         },
         "layout": {
          "annotationdefaults": {
           "arrowcolor": "#2a3f5f",
           "arrowhead": 0,
           "arrowwidth": 1
          },
          "autotypenumbers": "strict",
          "coloraxis": {
           "colorbar": {
            "outlinewidth": 0,
            "ticks": ""
           }
          },
          "colorscale": {
           "diverging": [
            [
             0,
             "#8e0152"
            ],
            [
             0.1,
             "#c51b7d"
            ],
            [
             0.2,
             "#de77ae"
            ],
            [
             0.3,
             "#f1b6da"
            ],
            [
             0.4,
             "#fde0ef"
            ],
            [
             0.5,
             "#f7f7f7"
            ],
            [
             0.6,
             "#e6f5d0"
            ],
            [
             0.7,
             "#b8e186"
            ],
            [
             0.8,
             "#7fbc41"
            ],
            [
             0.9,
             "#4d9221"
            ],
            [
             1,
             "#276419"
            ]
           ],
           "sequential": [
            [
             0,
             "#0d0887"
            ],
            [
             0.1111111111111111,
             "#46039f"
            ],
            [
             0.2222222222222222,
             "#7201a8"
            ],
            [
             0.3333333333333333,
             "#9c179e"
            ],
            [
             0.4444444444444444,
             "#bd3786"
            ],
            [
             0.5555555555555556,
             "#d8576b"
            ],
            [
             0.6666666666666666,
             "#ed7953"
            ],
            [
             0.7777777777777778,
             "#fb9f3a"
            ],
            [
             0.8888888888888888,
             "#fdca26"
            ],
            [
             1,
             "#f0f921"
            ]
           ],
           "sequentialminus": [
            [
             0,
             "#0d0887"
            ],
            [
             0.1111111111111111,
             "#46039f"
            ],
            [
             0.2222222222222222,
             "#7201a8"
            ],
            [
             0.3333333333333333,
             "#9c179e"
            ],
            [
             0.4444444444444444,
             "#bd3786"
            ],
            [
             0.5555555555555556,
             "#d8576b"
            ],
            [
             0.6666666666666666,
             "#ed7953"
            ],
            [
             0.7777777777777778,
             "#fb9f3a"
            ],
            [
             0.8888888888888888,
             "#fdca26"
            ],
            [
             1,
             "#f0f921"
            ]
           ]
          },
          "colorway": [
           "#636efa",
           "#EF553B",
           "#00cc96",
           "#ab63fa",
           "#FFA15A",
           "#19d3f3",
           "#FF6692",
           "#B6E880",
           "#FF97FF",
           "#FECB52"
          ],
          "font": {
           "color": "#2a3f5f"
          },
          "geo": {
           "bgcolor": "white",
           "lakecolor": "white",
           "landcolor": "#E5ECF6",
           "showlakes": true,
           "showland": true,
           "subunitcolor": "white"
          },
          "hoverlabel": {
           "align": "left"
          },
          "hovermode": "closest",
          "mapbox": {
           "style": "light"
          },
          "paper_bgcolor": "white",
          "plot_bgcolor": "#E5ECF6",
          "polar": {
           "angularaxis": {
            "gridcolor": "white",
            "linecolor": "white",
            "ticks": ""
           },
           "bgcolor": "#E5ECF6",
           "radialaxis": {
            "gridcolor": "white",
            "linecolor": "white",
            "ticks": ""
           }
          },
          "scene": {
           "xaxis": {
            "backgroundcolor": "#E5ECF6",
            "gridcolor": "white",
            "gridwidth": 2,
            "linecolor": "white",
            "showbackground": true,
            "ticks": "",
            "zerolinecolor": "white"
           },
           "yaxis": {
            "backgroundcolor": "#E5ECF6",
            "gridcolor": "white",
            "gridwidth": 2,
            "linecolor": "white",
            "showbackground": true,
            "ticks": "",
            "zerolinecolor": "white"
           },
           "zaxis": {
            "backgroundcolor": "#E5ECF6",
            "gridcolor": "white",
            "gridwidth": 2,
            "linecolor": "white",
            "showbackground": true,
            "ticks": "",
            "zerolinecolor": "white"
           }
          },
          "shapedefaults": {
           "line": {
            "color": "#2a3f5f"
           }
          },
          "ternary": {
           "aaxis": {
            "gridcolor": "white",
            "linecolor": "white",
            "ticks": ""
           },
           "baxis": {
            "gridcolor": "white",
            "linecolor": "white",
            "ticks": ""
           },
           "bgcolor": "#E5ECF6",
           "caxis": {
            "gridcolor": "white",
            "linecolor": "white",
            "ticks": ""
           }
          },
          "title": {
           "x": 0.05
          },
          "xaxis": {
           "automargin": true,
           "gridcolor": "white",
           "linecolor": "white",
           "ticks": "",
           "title": {
            "standoff": 15
           },
           "zerolinecolor": "white",
           "zerolinewidth": 2
          },
          "yaxis": {
           "automargin": true,
           "gridcolor": "white",
           "linecolor": "white",
           "ticks": "",
           "title": {
            "standoff": 15
           },
           "zerolinecolor": "white",
           "zerolinewidth": 2
          }
         }
        },
        "xaxis": {
         "anchor": "y",
         "domain": [
          0,
          1
         ],
         "nticks": 25,
         "title": {
          "text": "Total_Denovo_regions"
         }
        },
        "yaxis": {
         "anchor": "x",
         "domain": [
          0,
          1
         ],
         "nticks": 25,
         "title": {
          "text": "Multiple_variants_locations"
         }
        }
       }
      },
      "text/html": [
       "<div>                            <div id=\"0624cc32-bd84-49da-806c-6ac1d712fc99\" class=\"plotly-graph-div\" style=\"height:525px; width:100%;\"></div>            <script type=\"text/javascript\">                require([\"plotly\"], function(Plotly) {                    window.PLOTLYENV=window.PLOTLYENV || {};                                    if (document.getElementById(\"0624cc32-bd84-49da-806c-6ac1d712fc99\")) {                    Plotly.newPlot(                        \"0624cc32-bd84-49da-806c-6ac1d712fc99\",                        [{\"hovertemplate\":\"Total_Denovo_regions=%{x}<br>Multiple_variants_locations=%{y}<extra></extra>\",\"legendgroup\":\"\",\"marker\":{\"color\":\"#636efa\",\"symbol\":\"circle\"},\"mode\":\"markers\",\"name\":\"\",\"orientation\":\"v\",\"showlegend\":false,\"x\":[10005,10283,10361,9189,9047,9325,9308,9037,9220,9252,9607,9551,9312,9985,9788,7071,10062,9403,8998,10062,9899,9100,9824,10300,10444,10368,10402,9948,10059,8542,9500,9182,9216,8521,8930,10326,0,9184,8668,9651,10908,10980,9559,8833,9664,7915,9943,9796,8216,9363,9431,10802,9351,10421,9397,10228,10423,10007,10236,9792,11619,10776,10857,9897,9484,10120,10543,10481,12523,12046,10533,9907,11520,9797,11303,10561,11309,10061,10239,10836,11162,10735,11226,10629,11011,10382,10324,10713,12848,9642,9918,10228,10813,9444,10881,10079,9504,11058,10648,9628,9953,8829,12719,10506,14494,10444,11489,8977,10834,10710,9772,10315,10966,10665,10869,9339,10959,11376,10546,12192,10792,11197,10902,10331,10352,10776,10546,10897,10601,10861,11505,9394,11121,9705,10477,10981,10587,10072,9877,10622,10539,10771,9963,11090,10394,10584,10242,10320,10500,10775,11679,11431,11228,10687,10230,10450,11640,9963,12399,10099,9953,10688,9923,10361,10317,10070,13153,12429,11819,12592,13608,11881,13015,10514,13894,9651,10378,9253,8232,10395,9552,9150,9642,9329,10416,10685,9187,12196,12965,9704,9561,9520,10699,12983,9075,12138,9642,9335,9273,13067,10022,9331,10709,11887,10638,13685,9033,9545,10344,9486,8808,9557,9403,9517,10953,8246,9343,9295,11139,9450,8904,11566,8335,11454,9764,10189,10307,10545,10960,12436,13135,8125,8315,8791,12714,8818,8421,9482,9441,12838,13799,12515,13096,14318,10879,9490,9415,10342,10421,12011,0,12657,14087,12254,13470,11852,13103,11826,10857,12508,12840,13402,11486,13171,12349,12496,13069,11561,10160,10451,9665,10173,14822,13068,12359,18159,9955,10221,9326,10855,9951,12239,12701,13308,9197,11465,10783,11766,13372,12212,11613,12637,13564,10501,11192,10619,10976,11669,12148,11212,12518,15665,13642,13443,12229,13636,14521,12772,13039,13347,13709,12406,12221,12618,15153,13257,13516,13472,13985,12371,13215,12875,13134,11945,12998,15062,9788,11172,12378,12646,13146,11658,12038,12059,11672,11911,11689,11087,12712,11306,12340,14640,12539,13195,12557,12962,12545,12250,11928,12944,13233,12517,12004,11089,9885,10396,13178,12695,13495,10818,11778,10150,12629,12074,11724,11804,11408,12971,12634,12122,11393,12067,12179,12115,11139,11885,12185,11550,12209,9605,9640,12889,11293,12524,18178,12820,13393,12674,10487,10067,9706,9183,9094,10738,9493,9023,9117,9804,10300,10048,8727,9447,10085,9156,9856,10332,10080,10596,9479,9183,10471,9791,10237,9614,10416,10204,9074,10267,10610,9147,10484,9836,9729,9722,11898,8951,9357,9238,8471,11176,8963,10083,9397,11288,9675,9648,8965,9746,10149,9928,7929,10194,11353,9602,9936,10122,10717,10031,11375,10646,10304,12164,9851,11719,12135,10842,10608,10384,10514,10738,10400,9652,10475,9838,10360,9852,11618,10282,12430,10984,9925,10663,9855,10665,12822,11332,11348,9400,10665,10962,9685,11761,10823,11176,9008,11345,11514,10891,9414,9102,10173,10980,9582,11019,11541,10828,10686,10197,12106,10250,13348,14525,11677,12974,12063,12432,13364,11652,13603,13348,12541,2856,12679,12723,13961,12408,12396,11664,13413,12427,11586,11869,11150,15662,11513,11522,12599,11557,12065,13105,12395,13334,12027,12717,11914,14060,15268,13317,13040,13332,13369,11587,11833,13188,12853,13507,12616,13248,12057,12152,11572,12016,14085,12650,9574,10632,9267,9884,9083,9785,9325,7948,11778,8053,9702,9266,9091,11543,11146,9060,8633,9367,9474,8255,8521,8425,10227,9864,8726,9205,9470,10223,9914,10349,9277,9393,10432,11020,14597,11390,12784,12165,11800,11515,11148,10491,11360,11374,11438],\"xaxis\":\"x\",\"y\":[44,43,39,30,34,32,31,30,43,29,46,36,45,33,38,33,38,34,39,62,45,36,42,29,36,29,36,40,50,40,38,29,39,38,23,49,0,49,45,39,42,45,40,33,36,36,47,39,30,35,30,40,42,38,35,41,37,40,39,51,28,41,38,36,33,37,34,32,52,35,39,37,43,34,41,31,32,45,39,31,46,47,31,32,36,54,51,46,54,45,36,38,37,45,37,37,34,39,38,43,34,29,46,41,59,35,30,41,33,37,44,40,60,60,38,42,32,50,54,37,42,26,28,36,37,44,24,49,37,43,55,34,34,41,30,30,43,36,35,26,33,28,42,36,43,45,34,39,28,37,57,35,34,30,46,32,38,32,40,36,43,36,47,50,40,34,31,35,38,60,38,41,50,32,49,35,29,42,28,46,37,27,36,27,29,31,29,37,37,24,35,29,33,29,29,41,40,37,45,46,48,29,43,36,44,33,52,36,32,26,28,41,27,30,40,24,36,26,42,39,43,47,22,23,42,44,42,41,25,42,36,42,32,45,39,33,37,27,40,44,44,52,42,50,30,34,31,26,33,44,0,43,82,43,49,49,42,37,33,45,34,27,45,43,42,44,41,70,26,34,27,33,48,45,28,32,42,41,46,38,44,28,50,32,42,46,88,26,41,47,40,39,46,34,43,34,42,38,59,48,58,50,38,51,46,45,46,44,45,41,31,59,34,40,46,41,53,30,64,35,68,49,69,34,52,58,48,50,35,55,55,42,48,45,47,48,39,42,47,33,42,50,34,36,47,47,47,45,48,54,49,48,49,34,32,51,53,57,55,49,43,42,51,54,50,35,48,40,52,54,41,63,50,51,38,59,58,46,45,38,33,39,36,38,41,58,43,38,41,51,43,46,44,36,51,39,49,31,26,52,36,41,38,49,37,39,41,38,28,29,62,40,43,40,34,41,44,63,46,33,42,39,41,37,47,38,40,39,42,31,40,30,34,46,40,33,25,50,28,34,36,31,61,51,27,24,41,34,49,33,36,37,35,45,33,43,52,42,36,40,34,38,40,43,46,32,38,42,35,64,47,30,35,29,43,41,51,41,33,36,30,42,35,49,34,39,42,29,33,49,46,26,35,36,41,59,45,33,34,41,41,51,46,58,36,32,43,52,47,33,45,10,34,37,31,59,39,48,43,49,37,36,44,44,48,45,37,55,36,44,43,52,46,50,41,38,53,37,60,50,48,46,35,45,52,46,73,43,28,49,36,53,46,46,39,39,37,49,31,37,31,32,39,34,36,32,26,49,42,34,38,43,28,31,35,19,40,34,29,37,38,38,41,33,33,34,35,27,33,46,29,54,44,40,34,29,35,59,41],\"yaxis\":\"y\",\"type\":\"scatter\"}],                        {\"template\":{\"data\":{\"histogram2dcontour\":[{\"type\":\"histogram2dcontour\",\"colorbar\":{\"outlinewidth\":0,\"ticks\":\"\"},\"colorscale\":[[0.0,\"#0d0887\"],[0.1111111111111111,\"#46039f\"],[0.2222222222222222,\"#7201a8\"],[0.3333333333333333,\"#9c179e\"],[0.4444444444444444,\"#bd3786\"],[0.5555555555555556,\"#d8576b\"],[0.6666666666666666,\"#ed7953\"],[0.7777777777777778,\"#fb9f3a\"],[0.8888888888888888,\"#fdca26\"],[1.0,\"#f0f921\"]]}],\"choropleth\":[{\"type\":\"choropleth\",\"colorbar\":{\"outlinewidth\":0,\"ticks\":\"\"}}],\"histogram2d\":[{\"type\":\"histogram2d\",\"colorbar\":{\"outlinewidth\":0,\"ticks\":\"\"},\"colorscale\":[[0.0,\"#0d0887\"],[0.1111111111111111,\"#46039f\"],[0.2222222222222222,\"#7201a8\"],[0.3333333333333333,\"#9c179e\"],[0.4444444444444444,\"#bd3786\"],[0.5555555555555556,\"#d8576b\"],[0.6666666666666666,\"#ed7953\"],[0.7777777777777778,\"#fb9f3a\"],[0.8888888888888888,\"#fdca26\"],[1.0,\"#f0f921\"]]}],\"heatmap\":[{\"type\":\"heatmap\",\"colorbar\":{\"outlinewidth\":0,\"ticks\":\"\"},\"colorscale\":[[0.0,\"#0d0887\"],[0.1111111111111111,\"#46039f\"],[0.2222222222222222,\"#7201a8\"],[0.3333333333333333,\"#9c179e\"],[0.4444444444444444,\"#bd3786\"],[0.5555555555555556,\"#d8576b\"],[0.6666666666666666,\"#ed7953\"],[0.7777777777777778,\"#fb9f3a\"],[0.8888888888888888,\"#fdca26\"],[1.0,\"#f0f921\"]]}],\"heatmapgl\":[{\"type\":\"heatmapgl\",\"colorbar\":{\"outlinewidth\":0,\"ticks\":\"\"},\"colorscale\":[[0.0,\"#0d0887\"],[0.1111111111111111,\"#46039f\"],[0.2222222222222222,\"#7201a8\"],[0.3333333333333333,\"#9c179e\"],[0.4444444444444444,\"#bd3786\"],[0.5555555555555556,\"#d8576b\"],[0.6666666666666666,\"#ed7953\"],[0.7777777777777778,\"#fb9f3a\"],[0.8888888888888888,\"#fdca26\"],[1.0,\"#f0f921\"]]}],\"contourcarpet\":[{\"type\":\"contourcarpet\",\"colorbar\":{\"outlinewidth\":0,\"ticks\":\"\"}}],\"contour\":[{\"type\":\"contour\",\"colorbar\":{\"outlinewidth\":0,\"ticks\":\"\"},\"colorscale\":[[0.0,\"#0d0887\"],[0.1111111111111111,\"#46039f\"],[0.2222222222222222,\"#7201a8\"],[0.3333333333333333,\"#9c179e\"],[0.4444444444444444,\"#bd3786\"],[0.5555555555555556,\"#d8576b\"],[0.6666666666666666,\"#ed7953\"],[0.7777777777777778,\"#fb9f3a\"],[0.8888888888888888,\"#fdca26\"],[1.0,\"#f0f921\"]]}],\"surface\":[{\"type\":\"surface\",\"colorbar\":{\"outlinewidth\":0,\"ticks\":\"\"},\"colorscale\":[[0.0,\"#0d0887\"],[0.1111111111111111,\"#46039f\"],[0.2222222222222222,\"#7201a8\"],[0.3333333333333333,\"#9c179e\"],[0.4444444444444444,\"#bd3786\"],[0.5555555555555556,\"#d8576b\"],[0.6666666666666666,\"#ed7953\"],[0.7777777777777778,\"#fb9f3a\"],[0.8888888888888888,\"#fdca26\"],[1.0,\"#f0f921\"]]}],\"mesh3d\":[{\"type\":\"mesh3d\",\"colorbar\":{\"outlinewidth\":0,\"ticks\":\"\"}}],\"scatter\":[{\"fillpattern\":{\"fillmode\":\"overlay\",\"size\":10,\"solidity\":0.2},\"type\":\"scatter\"}],\"parcoords\":[{\"type\":\"parcoords\",\"line\":{\"colorbar\":{\"outlinewidth\":0,\"ticks\":\"\"}}}],\"scatterpolargl\":[{\"type\":\"scatterpolargl\",\"marker\":{\"colorbar\":{\"outlinewidth\":0,\"ticks\":\"\"}}}],\"bar\":[{\"error_x\":{\"color\":\"#2a3f5f\"},\"error_y\":{\"color\":\"#2a3f5f\"},\"marker\":{\"line\":{\"color\":\"#E5ECF6\",\"width\":0.5},\"pattern\":{\"fillmode\":\"overlay\",\"size\":10,\"solidity\":0.2}},\"type\":\"bar\"}],\"scattergeo\":[{\"type\":\"scattergeo\",\"marker\":{\"colorbar\":{\"outlinewidth\":0,\"ticks\":\"\"}}}],\"scatterpolar\":[{\"type\":\"scatterpolar\",\"marker\":{\"colorbar\":{\"outlinewidth\":0,\"ticks\":\"\"}}}],\"histogram\":[{\"marker\":{\"pattern\":{\"fillmode\":\"overlay\",\"size\":10,\"solidity\":0.2}},\"type\":\"histogram\"}],\"scattergl\":[{\"type\":\"scattergl\",\"marker\":{\"colorbar\":{\"outlinewidth\":0,\"ticks\":\"\"}}}],\"scatter3d\":[{\"type\":\"scatter3d\",\"line\":{\"colorbar\":{\"outlinewidth\":0,\"ticks\":\"\"}},\"marker\":{\"colorbar\":{\"outlinewidth\":0,\"ticks\":\"\"}}}],\"scattermapbox\":[{\"type\":\"scattermapbox\",\"marker\":{\"colorbar\":{\"outlinewidth\":0,\"ticks\":\"\"}}}],\"scatterternary\":[{\"type\":\"scatterternary\",\"marker\":{\"colorbar\":{\"outlinewidth\":0,\"ticks\":\"\"}}}],\"scattercarpet\":[{\"type\":\"scattercarpet\",\"marker\":{\"colorbar\":{\"outlinewidth\":0,\"ticks\":\"\"}}}],\"carpet\":[{\"aaxis\":{\"endlinecolor\":\"#2a3f5f\",\"gridcolor\":\"white\",\"linecolor\":\"white\",\"minorgridcolor\":\"white\",\"startlinecolor\":\"#2a3f5f\"},\"baxis\":{\"endlinecolor\":\"#2a3f5f\",\"gridcolor\":\"white\",\"linecolor\":\"white\",\"minorgridcolor\":\"white\",\"startlinecolor\":\"#2a3f5f\"},\"type\":\"carpet\"}],\"table\":[{\"cells\":{\"fill\":{\"color\":\"#EBF0F8\"},\"line\":{\"color\":\"white\"}},\"header\":{\"fill\":{\"color\":\"#C8D4E3\"},\"line\":{\"color\":\"white\"}},\"type\":\"table\"}],\"barpolar\":[{\"marker\":{\"line\":{\"color\":\"#E5ECF6\",\"width\":0.5},\"pattern\":{\"fillmode\":\"overlay\",\"size\":10,\"solidity\":0.2}},\"type\":\"barpolar\"}],\"pie\":[{\"automargin\":true,\"type\":\"pie\"}]},\"layout\":{\"autotypenumbers\":\"strict\",\"colorway\":[\"#636efa\",\"#EF553B\",\"#00cc96\",\"#ab63fa\",\"#FFA15A\",\"#19d3f3\",\"#FF6692\",\"#B6E880\",\"#FF97FF\",\"#FECB52\"],\"font\":{\"color\":\"#2a3f5f\"},\"hovermode\":\"closest\",\"hoverlabel\":{\"align\":\"left\"},\"paper_bgcolor\":\"white\",\"plot_bgcolor\":\"#E5ECF6\",\"polar\":{\"bgcolor\":\"#E5ECF6\",\"angularaxis\":{\"gridcolor\":\"white\",\"linecolor\":\"white\",\"ticks\":\"\"},\"radialaxis\":{\"gridcolor\":\"white\",\"linecolor\":\"white\",\"ticks\":\"\"}},\"ternary\":{\"bgcolor\":\"#E5ECF6\",\"aaxis\":{\"gridcolor\":\"white\",\"linecolor\":\"white\",\"ticks\":\"\"},\"baxis\":{\"gridcolor\":\"white\",\"linecolor\":\"white\",\"ticks\":\"\"},\"caxis\":{\"gridcolor\":\"white\",\"linecolor\":\"white\",\"ticks\":\"\"}},\"coloraxis\":{\"colorbar\":{\"outlinewidth\":0,\"ticks\":\"\"}},\"colorscale\":{\"sequential\":[[0.0,\"#0d0887\"],[0.1111111111111111,\"#46039f\"],[0.2222222222222222,\"#7201a8\"],[0.3333333333333333,\"#9c179e\"],[0.4444444444444444,\"#bd3786\"],[0.5555555555555556,\"#d8576b\"],[0.6666666666666666,\"#ed7953\"],[0.7777777777777778,\"#fb9f3a\"],[0.8888888888888888,\"#fdca26\"],[1.0,\"#f0f921\"]],\"sequentialminus\":[[0.0,\"#0d0887\"],[0.1111111111111111,\"#46039f\"],[0.2222222222222222,\"#7201a8\"],[0.3333333333333333,\"#9c179e\"],[0.4444444444444444,\"#bd3786\"],[0.5555555555555556,\"#d8576b\"],[0.6666666666666666,\"#ed7953\"],[0.7777777777777778,\"#fb9f3a\"],[0.8888888888888888,\"#fdca26\"],[1.0,\"#f0f921\"]],\"diverging\":[[0,\"#8e0152\"],[0.1,\"#c51b7d\"],[0.2,\"#de77ae\"],[0.3,\"#f1b6da\"],[0.4,\"#fde0ef\"],[0.5,\"#f7f7f7\"],[0.6,\"#e6f5d0\"],[0.7,\"#b8e186\"],[0.8,\"#7fbc41\"],[0.9,\"#4d9221\"],[1,\"#276419\"]]},\"xaxis\":{\"gridcolor\":\"white\",\"linecolor\":\"white\",\"ticks\":\"\",\"title\":{\"standoff\":15},\"zerolinecolor\":\"white\",\"automargin\":true,\"zerolinewidth\":2},\"yaxis\":{\"gridcolor\":\"white\",\"linecolor\":\"white\",\"ticks\":\"\",\"title\":{\"standoff\":15},\"zerolinecolor\":\"white\",\"automargin\":true,\"zerolinewidth\":2},\"scene\":{\"xaxis\":{\"backgroundcolor\":\"#E5ECF6\",\"gridcolor\":\"white\",\"linecolor\":\"white\",\"showbackground\":true,\"ticks\":\"\",\"zerolinecolor\":\"white\",\"gridwidth\":2},\"yaxis\":{\"backgroundcolor\":\"#E5ECF6\",\"gridcolor\":\"white\",\"linecolor\":\"white\",\"showbackground\":true,\"ticks\":\"\",\"zerolinecolor\":\"white\",\"gridwidth\":2},\"zaxis\":{\"backgroundcolor\":\"#E5ECF6\",\"gridcolor\":\"white\",\"linecolor\":\"white\",\"showbackground\":true,\"ticks\":\"\",\"zerolinecolor\":\"white\",\"gridwidth\":2}},\"shapedefaults\":{\"line\":{\"color\":\"#2a3f5f\"}},\"annotationdefaults\":{\"arrowcolor\":\"#2a3f5f\",\"arrowhead\":0,\"arrowwidth\":1},\"geo\":{\"bgcolor\":\"white\",\"landcolor\":\"#E5ECF6\",\"subunitcolor\":\"white\",\"showland\":true,\"showlakes\":true,\"lakecolor\":\"white\"},\"title\":{\"x\":0.05},\"mapbox\":{\"style\":\"light\"}}},\"xaxis\":{\"anchor\":\"y\",\"domain\":[0.0,1.0],\"title\":{\"text\":\"Total_Denovo_regions\"},\"nticks\":25},\"yaxis\":{\"anchor\":\"x\",\"domain\":[0.0,1.0],\"title\":{\"text\":\"Multiple_variants_locations\"},\"nticks\":25},\"legend\":{\"tracegroupgap\":0},\"margin\":{\"t\":60}},                        {\"responsive\": true}                    ).then(function(){\n",
       "                            \n",
       "var gd = document.getElementById('0624cc32-bd84-49da-806c-6ac1d712fc99');\n",
       "var x = new MutationObserver(function (mutations, observer) {{\n",
       "        var display = window.getComputedStyle(gd).display;\n",
       "        if (!display || display === 'none') {{\n",
       "            console.log([gd, 'removed!']);\n",
       "            Plotly.purge(gd);\n",
       "            observer.disconnect();\n",
       "        }}\n",
       "}});\n",
       "\n",
       "// Listen for the removal of the full notebook cells\n",
       "var notebookContainer = gd.closest('#notebook-container');\n",
       "if (notebookContainer) {{\n",
       "    x.observe(notebookContainer, {childList: true});\n",
       "}}\n",
       "\n",
       "// Listen for the clearing of the current output cell\n",
       "var outputEl = gd.closest('.output');\n",
       "if (outputEl) {{\n",
       "    x.observe(outputEl, {childList: true});\n",
       "}}\n",
       "\n",
       "                        })                };                });            </script>        </div>"
      ]
     },
     "metadata": {},
     "output_type": "display_data"
    }
   ],
   "source": [
    "# here we try to observe the num of multiple locations per samples with the reference of total number of denovo regions count.\n",
    "\n",
    "fig = px.scatter(df, y='Multiple_variants_locations', x='Total_Denovo_regions')\n",
    "fig.update_xaxes(nticks=25)\n",
    "fig.update_yaxes(nticks=25)\n",
    "fig.show()"
   ]
  },
  {
   "cell_type": "code",
   "execution_count": null,
   "id": "d969a97d",
   "metadata": {},
   "outputs": [],
   "source": [
    "# catching point, we see the range of 25 to 65 range of multiple denovo regions count overall all the denovo files."
   ]
  },
  {
   "cell_type": "code",
   "execution_count": null,
   "id": "96c89794",
   "metadata": {},
   "outputs": [],
   "source": []
  },
  {
   "cell_type": "code",
   "execution_count": 68,
   "id": "fee01447",
   "metadata": {},
   "outputs": [],
   "source": [
    "# here we get the added or deleted partial sequence from the flanks and which are the part of it.\n",
    "\n",
    "def Repeat_flanking_seq_Insertion(CIGAR_bases, CIGAR_seq):\n",
    "\n",
    "    R_flank = []\n",
    "    L_flank = []\n",
    "    Repeat = []\n",
    "\n",
    "    CIGAR_bases = CIGAR_bases.split(',')\n",
    "    CIGAR_seq = CIGAR_seq.split('|')\n",
    "\n",
    "    # Getting the inserted and deleted sequences.\n",
    "    for i in range(0, CIGAR_seq[0].count('I')):\n",
    "        L_flank.append(CIGAR_bases[i])\n",
    "    \n",
    "    for i in range(CIGAR_seq[0].count('I'), int(CIGAR_seq[0].count('I')) + int(CIGAR_seq[1].count('I'))):\n",
    "        Repeat.append(CIGAR_bases[i])\n",
    "\n",
    "    for i in range(CIGAR_seq[0].count('I') + CIGAR_seq[1].count('I'), len(CIGAR_bases)):\n",
    "        R_flank.append(CIGAR_bases[i])\n",
    "\n",
    "    return L_flank, Repeat, R_flank"
   ]
  },
  {
   "cell_type": "code",
   "execution_count": 69,
   "id": "debed44a",
   "metadata": {},
   "outputs": [],
   "source": [
    "# here we get the added or deleted partial sequence from the flanks and which are the part of it.\n",
    "\n",
    "def Repeat_flanking_seq_Deletion(CIGAR_bases, CIGAR_seq):\n",
    "\n",
    "    R_flank = []\n",
    "    L_flank = []\n",
    "    Repeat = []\n",
    "\n",
    "    CIGAR_bases = CIGAR_bases.split(',')\n",
    "    CIGAR_seq = CIGAR_seq.split('|')\n",
    "\n",
    "    # Getting the inserted and deleted sequences.\n",
    "    for i in range(0, CIGAR_seq[0].count('D')):\n",
    "        L_flank.append(CIGAR_bases[i])\n",
    "    \n",
    "    for i in range(CIGAR_seq[0].count('D'), int(CIGAR_seq[0].count('D')) + int(CIGAR_seq[1].count('D'))):\n",
    "        Repeat.append(CIGAR_bases[i])\n",
    "\n",
    "    for i in range(CIGAR_seq[0].count('D') + CIGAR_seq[1].count('D'), len(CIGAR_bases)):\n",
    "        R_flank.append(CIGAR_bases[i])\n",
    "\n",
    "    return L_flank, Repeat, R_flank"
   ]
  },
  {
   "cell_type": "code",
   "execution_count": 70,
   "id": "d78e9be1",
   "metadata": {},
   "outputs": [],
   "source": [
    "# here we get the added or deleted partial sequence from the flanks and which are the part of it.\n",
    "\n",
    "def Repeat_flanking_seq_SNP(CIGAR_bases, CIGAR_seq):\n",
    "\n",
    "    R_flank = []\n",
    "    L_flank = []\n",
    "    Repeat = []\n",
    "\n",
    "    CIGAR_bases = CIGAR_bases.split(',')\n",
    "    CIGAR_seq = CIGAR_seq.split('|')\n",
    "\n",
    "    # Getting the inserted and deleted sequences.\n",
    "    for i in range(0, CIGAR_seq[0].count('X')):\n",
    "        L_flank.append(CIGAR_bases[i])\n",
    "    \n",
    "    for i in range(CIGAR_seq[0].count('X'), int(CIGAR_seq[0].count('X')) + int(CIGAR_seq[1].count('X'))):\n",
    "        Repeat.append(CIGAR_bases[i])\n",
    "\n",
    "    for i in range(CIGAR_seq[0].count('X') + CIGAR_seq[1].count('X'), len(CIGAR_bases)):\n",
    "        R_flank.append(CIGAR_bases[i])\n",
    "\n",
    "    return L_flank, Repeat, R_flank"
   ]
  },
  {
   "cell_type": "code",
   "execution_count": 84,
   "id": "c4fecea7",
   "metadata": {
    "collapsed": true
   },
   "outputs": [
    {
     "name": "stdout",
     "output_type": "stream",
     "text": [
      "chr1 7139232 7139248 TATATT AAATAT 7139232 10 16 6 []|[]|['-'] ['A']|['T', 'TTATA']|['A'] []|[]|['-'] D1|D1M10D5|D1 ATATTTATAT\n",
      "chr1 16616293 16616314 TA AT 16616292 37 49 2 []|[]|['-'] ['TG']|['TC', 'TATATATATC']|[] []|[]|['-'] D2|M18D2M18D10M1| (TA)18T\n",
      "chr1 206923790 206923802 AGTGTG ACACTC 206923790 12 12 6 []|['GG']|[] []|['T', 'T']|[] []|[]|['-'] M1|M2D1M1D1M6I2M1| CAGGGAGTGTGGG\n",
      "chr2 121232107 121232158 TTTTG AAAAC 121232106 49 41 5 ['CA']|['ATGAA', 'GGA']|[] []|[]|['-'] []|[]|['-'] I2M2|I5M2I3M39| CACTATGAATTGGA(TTGTT)7TTGT\n",
      "chr2 165767869 165767892 T A 165767869 25 23 1 []|['G', 'A']|[] []|[]|['-'] []|[]|['-'] M1|M23I1I1|M1 C(T)23GA(T)1\n",
      "chr2 191714447 191714494 AT AT 191714447 52 44 2 []|['A', 'T', 'A', 'T', 'A', 'C', 'A', 'C']|[] []|[]|['-'] []|[]|['-'] M1|M44I1I1I1I1I1I1I1I1| A(AT)24(AC)2\n",
      "chr3 76272833 76272854 TATATAT AATATAT 76272830 20 21 7 []|['T']|[] ['A']|['T', 'T']|[] []|[]|['-'] D1M3|M4D1M1D1M8I1M6| (ATATATA)2TTTATATAT\n",
      "chr5 25753289 25753311 TTTTTG AAAAAC 25753289 15 22 6 []|[]|['-'] []|['G', 'TGTTTT']|['CA'] []|[]|['-'] M1|M11D1M4D6|D2 TTTTTTGTTTTTTTTT\n",
      "chr5 97695731 97695744 AAAAAT AAAAAT 97695731 30 13 6 []|['GACCGC', 'G', 'ACCTCTGCAG']|[] []|[]|['-'] []|[]|['-'] M1|M4I6M1I1M2I10M6| AAAAAGACCGCAGTAACCTCTGCAGAAAATA\n",
      "chr6 309679 309718 AC AC 309679 40 38 2 []|['A', 'T']|[] []|[]|['-'] []|[]|['-'] M1|M38I1I1| A(AC)19AT\n",
      "chr6 857843 857864 ATCCACCT ACCTATCC 857842 15 21 8 []|[]|['-'] ['CG']|['ATCCA', 'T']|[] []|[]|['-'] D2|D5M2D1M13| CCATCCACCTATCCA\n",
      "chr6 125469185 125469230 TG AC 125469179 39 55 2 []|[]|['-'] ['A', 'AAA']|['GTGTGTGTGTGTG', 'G', 'G', 'G']|[] []|[]|['-'] M1D1M2D3|M3D13M1D1M1D1M1D1M33| (TT)5(GT)16\n",
      "chr7 138017422 138017448 T A 138017422 29 26 1 []|['T', 'G', 'A']|[] []|[]|['-'] []|[]|['-'] M1|M26I1I1I1|M3 C(T)27GAGAC\n",
      "chr7 158712600 158712626 T A 158712600 28 26 1 []|['T', 'A']|[] []|[]|['-'] []|[]|['-'] M1|M26I1I1|M3 G(T)27AGAC\n",
      "chr8 39313375 39313415 GT AC 39313373 18 42 2 []|[]|['-'] ['AG']|['GTGTGTGTGTGTGTGTGTGTGTG', 'T']|[] []|[]|['-'] M1D2|D23M2D1M16| CTG(GT)8\n",
      "chr9 6608584 6608596 A A 6608584 15 12 1 []|['C', 'C', 'C']|[] []|[]|['-'] []|[]|['-'] M1|M12I1I1I1| C(A)12CCC\n",
      "chr11 3216938 3216990 CTTT AAAG 3216938 68 72 4 []|[]|['-'] []|['T', 'TTT']|[] []|[]|['-'] M1|M1D1M3D3M64| (CCTT)2(TCTT)15T\n",
      "chr11 126353021 126353034 AAGAG AAGAG 126353021 18 13 5 []|['AA', 'GAG']|[] []|[]|['-'] []|[]|['-'] M1|M3I2M4I3M6| AAAGAAAGAAGAGGAGAAG\n",
      "chr13 89480105 89480130 T A 89480105 27 25 1 []|['T', 'G']|[] []|[]|['-'] []|[]|['-'] M1|M25I1I1|M3 C(T)26GAGA\n",
      "chr16 57925168 57925182 T A 57925168 17 14 1 []|['A', 'AA']|[] []|[]|['-'] []|[]|['-'] M1|M12I1M1I2M1| A(T)12A(T)1AA(T)1\n",
      "chr17 27874141 27874187 TG AC 27874141 28 46 2 []|[]|['-'] []|['TGTGTGTGTGTGTGTGT', 'T']|[] []|[]|['-'] M1|M14D17M1D1M13| C(TG)7G(GT)6G\n",
      "chr17 42967559 42967575 TAATATA AATATAT 42967559 14 16 7 []|[]|['-'] []|['A', 'T']|[] []|[]|['-'] M1|M8D1M3D1M3| TTAATATATATAATA\n",
      "chr19 43609359 43609378 GA AG 43609359 49 37 2 []|['GAGAGAGAGAG', 'G']|[] []|[]|['-'] []|[]|['-'] M1|M18I11M1I1M18| G(GA)24G\n",
      "chr19 48220954 48220996 AAGG AAGG 48220952 37 57 4 []|[]|['-'] []|['AGGAAGGAAGGAAGGAAGG', 'G']|[] []|[]|['-'] M7|M32D19M2D1M3| GA(AAGG)9AAAGAA\n",
      "chr21 42243814 42243836 T A 42243814 25 22 1 []|['T', 'T', 'G']|[] []|[]|['-'] []|[]|['-'] M1|M22I1I1I1| C(T)24G\n",
      "chr22 16403122 16403141 CCCTAA AACCCT 16403122 24 19 6 []|['TA', 'C', 'T', 'A']|['C'] []|[]|['-'] []|[]|['-'] M1|M16I2M3I1I1I1|M1I1 C(CCCTAA)2CCCTTAAACCTAAC\n",
      "chrX 38353397 38353414 AAGGGG AAGGGG 38353397 13 11 6 []|['G', 'C']|['CGC', 'C'] []|[]|['-'] []|[]|['-'] M1|M11I1I1|M1I3M1I1 A(AAGGGG)2CACGCAC\n",
      "chrX 120438692 120438732 CA AC 120438692 32 38 2 []|[]|['-'] []|['CAC', 'C', 'C', 'C']|[] []|[]|['-'] M1|M28D3M1D1M1D1M1D1M1| T(CA)14(AA)2\n",
      "chrX 121383653 121383700 AAATA AAAAT 121383653 26 47 5 []|[]|['-'] []|['AT', 'TAAAATAAAATAAAATAAA']|['G'] []|[]|['-'] M1|M7D2M19D19|D1 TAAATAAA(AAAAT)3AAAA\n",
      "chr17_KI270729v1_random 173908 173957 ATTCC AATGG 173908 54 34 5 []|['ATTCT', 'TCCATTCCATTCCAC']|[] []|[]|['-'] []|[]|['-'] M1|M25I5M7I15M2| G(ATTCC)5ATTCT(ATTCC)4ACTC\n",
      "chrUn_KI270442v1 87853 87873 GAATG AATGG 87853 30 20 5 []|['AATGA', 'AATGA']|[] []|[]|['-'] []|[]|['-'] M1|M1I5M15I5M4| CGAATGA(AATGG)3AATGAAATG\n"
     ]
    }
   ],
   "source": [
    "# Builidng the code for the file structure.\n",
    "\n",
    "Write_directory = '../../STR_Mutational_Dynamics/Designing/'\n",
    "Read_directory = '../Denovo_analysis_599Trios/'\n",
    "\n",
    "def seq_analysis(infile):\n",
    "    c = 0\n",
    "    out_file_id = infile.split('_')[0]\n",
    "    out = open(f'{Write_directory}multiple_variations_region_info.tsv', 'a')\n",
    "    \n",
    "    with gzip.open(f'{Read_directory}{infile}', 'rt') as offspring:\n",
    "        offspring.readline()\n",
    "        \n",
    "        for denovo_region in offspring:\n",
    "            \n",
    "            denovo_region = denovo_region.strip().split('\\t')\n",
    "            if denovo_region[-1] != '-': continue\n",
    "            rep_len = denovo_region[-9]\n",
    "            Denovo_len = denovo_region[-6]\n",
    "            Denovo_CIGAR = denovo_region[-5]\n",
    "            motif_len = len(denovo_region[3])\n",
    "            \n",
    "            \n",
    "            \n",
    "            # Considering only repeat sequence.\n",
    "            Denovo_Repeat_CIGAR = Denovo_CIGAR.split('|')           \n",
    "            \n",
    "            # initializing the variables.\n",
    "            unit_pos = 0\n",
    "            \n",
    "            \n",
    "            # index of 'I'.\n",
    "            split = re.findall('(\\d+|[A-Za-z]+)', Denovo_Repeat_CIGAR[1])\n",
    "            chars =  split[::2]\n",
    "            num_bases = split[1::2]\n",
    "            \n",
    "            \n",
    "            \n",
    "            # getting the flanking and with in repeat added or deleted seq.\n",
    "            per_region_CIGAR_I_info = Repeat_flanking_seq_Insertion(denovo_region[-3], Denovo_CIGAR)\n",
    "            per_region_CIGAR_D_info = Repeat_flanking_seq_Deletion(denovo_region[-2], Denovo_CIGAR)\n",
    "            per_region_CIGAR_X_info = Repeat_flanking_seq_SNP(denovo_region[-1], Denovo_CIGAR)\n",
    "            \n",
    "            \n",
    "            \n",
    "            # getting the position of unit where mutation has encountered and the sequence bases which has changed.\n",
    "            if ('I' in chars and 'D' in chars) or('I' in chars and 'X' in chars) or ('X' in chars and 'D' in chars):\n",
    "                print(*denovo_region[0:6], Denovo_len,denovo_region[-9], motif_len, f'{per_region_CIGAR_I_info[0]}|{per_region_CIGAR_I_info[1]}|{per_region_CIGAR_I_info[-1]}',f'{per_region_CIGAR_D_info[0]}|{per_region_CIGAR_D_info[1]}|{per_region_CIGAR_D_info[-1]}',f'{per_region_CIGAR_X_info[0]}|{per_region_CIGAR_X_info[1]}|{per_region_CIGAR_X_info[-1]}', Denovo_CIGAR, denovo_region[-4])#, file =out, sep='\\t')\n",
    "            elif chars.count('I') > 1 or chars.count('D') > 1 or chars.count('X') > 1 :\n",
    "                print(*denovo_region[0:6], Denovo_len,denovo_region[-9], motif_len, f'{per_region_CIGAR_I_info[0]}|{per_region_CIGAR_I_info[1]}|{per_region_CIGAR_I_info[-1]}',f'{per_region_CIGAR_D_info[0]}|{per_region_CIGAR_D_info[1]}|{per_region_CIGAR_D_info[-1]}',f'{per_region_CIGAR_X_info[0]}|{per_region_CIGAR_X_info[1]}|{per_region_CIGAR_X_info[-1]}', Denovo_CIGAR, denovo_region[-4])#, file =out, sep='\\t')\n",
    "                \n",
    "#     out.close()\n",
    " \n",
    " # testing purpose\n",
    "seq_analysis('TRIO0007_denovo.tsv.gz')"
   ]
  },
  {
   "cell_type": "code",
   "execution_count": 83,
   "id": "e639207c",
   "metadata": {},
   "outputs": [
    {
     "name": "stderr",
     "output_type": "stream",
     "text": [
      "100%|██████████████████████████████████████████████████████████████████████| 602/602 [01:47<00:00,  5.58it/s]\n"
     ]
    }
   ],
   "source": [
    "# iterating the files of the directory.\n",
    "\n",
    "Read_directory = '../../STR_Mutational_Dynamics/Denovo_analysis_599Trios/'\n",
    "\n",
    "for file in tqdm(os.listdir(Read_directory)):\n",
    "    \n",
    "    if file.endswith('.tsv.gz'):\n",
    "        seq_analysis(file)"
   ]
  },
  {
   "cell_type": "code",
   "execution_count": null,
   "id": "c71df836",
   "metadata": {},
   "outputs": [],
   "source": []
  },
  {
   "cell_type": "code",
   "execution_count": null,
   "id": "4123660a",
   "metadata": {},
   "outputs": [],
   "source": []
  },
  {
   "cell_type": "code",
   "execution_count": 26,
   "id": "cec99433",
   "metadata": {},
   "outputs": [
    {
     "name": "stderr",
     "output_type": "stream",
     "text": [
      "603it [00:00, 608411.19it/s]\n"
     ]
    }
   ],
   "source": [
    "# putting pops in dictionary.\n",
    "\n",
    "samples_info_dict = {}\n",
    "\n",
    "with open('../../../STR_Mutational_Dynamics/1KG_Trio_samples.tsv') as samples_info :\n",
    "    samples_info.readline()\n",
    "    \n",
    "    for info in tqdm(samples_info):\n",
    "        \n",
    "        info = info.strip().split('\\t')\n",
    "        samples_info_dict[info[0]] = [info[-2], info[-1]]\n"
   ]
  },
  {
   "cell_type": "code",
   "execution_count": null,
   "id": "c268a11c",
   "metadata": {},
   "outputs": [],
   "source": []
  },
  {
   "cell_type": "code",
   "execution_count": 80,
   "id": "ddd701b0",
   "metadata": {},
   "outputs": [],
   "source": [
    "# analysing the counts of the multiple variations present within the repeat and partial motif replication.\n",
    "\n",
    "df_deletions = pd.read_csv('../../../STR_Mutational_Dynamics/Seq_patterns/Deletions_info.tsv',header=None, sep='\\t')"
   ]
  },
  {
   "cell_type": "code",
   "execution_count": 84,
   "id": "4a51c58d",
   "metadata": {},
   "outputs": [],
   "source": [
    "# adding the pop info to the multiple variant dataframe.\n",
    "\n",
    "super_pop_list = []\n",
    "sub_pop_list = []\n",
    "\n",
    "for ind in df_deletions.index:\n",
    "    \n",
    "    trio_id = df_deletions[0][ind].split('_')[0]\n",
    "    \n",
    "    if trio_id in samples_info_dict:\n",
    "        \n",
    "        pop_info = samples_info_dict[trio_id]\n",
    "        super_pop_list.append(pop_info[-1])\n",
    "        sub_pop_list.append(pop_info[0])\n",
    "        \n",
    "temp_df = pd.DataFrame({'Sub_pop':sub_pop_list, 'Super_pop':super_pop_list})\n",
    "df_deletions1 = pd.concat([df_deletions, temp_df], axis=1)\n",
    "df_deletions1.columns = ['Trio_id', 'Single_deletion_counts', 'Total_denovo_regions', 'Sub_pop', 'Super_pop']"
   ]
  },
  {
   "cell_type": "code",
   "execution_count": 92,
   "id": "4af89c21",
   "metadata": {},
   "outputs": [
    {
     "data": {
      "application/vnd.plotly.v1+json": {
       "config": {
        "plotlyServerURL": "https://plot.ly"
       },
       "data": [
        {
         "alignmentgroup": "True",
         "hovertemplate": "Super_pop=EAS<br>Total_denovo_regions=%{y}<extra></extra>",
         "legendgroup": "EAS",
         "marker": {
          "color": "#636efa"
         },
         "name": "EAS",
         "notched": false,
         "offsetgroup": "EAS",
         "orientation": "v",
         "showlegend": true,
         "type": "box",
         "x0": " ",
         "xaxis": "x",
         "y": [
          10005,
          10283,
          10361,
          9189,
          9047,
          9325,
          9308,
          9037,
          9220,
          9252,
          9607,
          9551,
          9312,
          9985,
          9788,
          7071,
          10062,
          9403,
          8998,
          10062,
          9899,
          9100,
          10444,
          10368,
          10402,
          9948,
          10059,
          8542,
          9500,
          9182,
          9216,
          8521,
          8930,
          10326,
          9184,
          8668,
          9651,
          9559,
          8833,
          9664,
          7915,
          9943,
          9796,
          8216,
          9363,
          9431,
          10802,
          9351,
          10421,
          9397,
          10022,
          9331,
          10709,
          11887,
          10638,
          9033,
          9545,
          10344,
          9486,
          8808,
          9557,
          9403,
          9517,
          9343,
          9295,
          11139,
          9450,
          8904,
          9415,
          10342,
          10421
         ],
         "y0": " ",
         "yaxis": "y"
        },
        {
         "alignmentgroup": "True",
         "hovertemplate": "Super_pop=AMR<br>Total_denovo_regions=%{y}<extra></extra>",
         "legendgroup": "AMR",
         "marker": {
          "color": "#EF553B"
         },
         "name": "AMR",
         "notched": false,
         "offsetgroup": "AMR",
         "orientation": "v",
         "showlegend": true,
         "type": "box",
         "x0": " ",
         "xaxis": "x",
         "y": [
          9824,
          10300,
          10908,
          10980,
          10228,
          10423,
          10007,
          10236,
          9792,
          11619,
          10776,
          10857,
          9897,
          9484,
          10120,
          10543,
          10481,
          12523,
          12046,
          10533,
          9907,
          11520,
          9797,
          11303,
          10561,
          11309,
          10061,
          10239,
          10836,
          11162,
          10735,
          11226,
          10629,
          11011,
          10382,
          10324,
          10713,
          12848,
          9642,
          9918,
          10228,
          10813,
          9444,
          10881,
          10079,
          9504,
          11058,
          10648,
          9628,
          9953,
          8829,
          12719,
          10506,
          14494,
          10444,
          11489,
          8977,
          10834,
          10710,
          9772,
          10315,
          10966,
          10665,
          10869,
          9339,
          10959,
          11376,
          11505,
          9394,
          11121,
          9705,
          10514,
          9651,
          10378,
          9253,
          8232,
          10395,
          9552,
          9150,
          9642,
          9329,
          10416,
          10685,
          9187,
          9704,
          9561,
          9520,
          10699,
          12983,
          9075,
          9642,
          9335,
          9273,
          10953,
          8246,
          8335,
          8125,
          8315,
          8791,
          8818,
          8421,
          9482,
          9441,
          9574,
          10632,
          9267,
          9884,
          9083,
          9785,
          9325,
          7948,
          11778,
          8053,
          9702,
          9266,
          9091,
          9060,
          8633,
          9367,
          9474,
          8255,
          8521,
          8425,
          10227,
          9864,
          8726,
          9205,
          9470,
          10223,
          9914,
          10349,
          9277,
          9393,
          10432,
          11020
         ],
         "y0": " ",
         "yaxis": "y"
        },
        {
         "alignmentgroup": "True",
         "hovertemplate": "Super_pop=EUR<br>Total_denovo_regions=%{y}<extra></extra>",
         "legendgroup": "EUR",
         "marker": {
          "color": "#00cc96"
         },
         "name": "EUR",
         "notched": false,
         "offsetgroup": "EUR",
         "orientation": "v",
         "showlegend": true,
         "type": "box",
         "x0": " ",
         "xaxis": "x",
         "y": [
          10546,
          12192,
          10792,
          11197,
          10902,
          10331,
          10352,
          10776,
          10546,
          10897,
          10601,
          10861,
          10477,
          10981,
          10587,
          10072,
          9877,
          10622,
          10539,
          10771,
          9963,
          11090,
          10394,
          10584,
          10242,
          10320,
          10500,
          10775,
          11679,
          11431,
          11228,
          10687,
          10230,
          10450,
          11640,
          9963,
          12399,
          10099,
          9953,
          10688,
          9923,
          10361,
          10317,
          10070,
          11454,
          9764,
          10189,
          10307,
          10545,
          10960,
          11353,
          9602,
          9936,
          10122,
          10717,
          10031,
          11375,
          10646,
          10304,
          12164,
          9851,
          11719,
          12135,
          10842,
          10608,
          10384,
          10514,
          10738,
          10400,
          9652,
          10475,
          9838,
          10360,
          9852,
          11618,
          10282,
          12430,
          10984,
          9925,
          10663,
          9855,
          10665,
          12822,
          11332,
          11348,
          9400,
          10665,
          10962,
          9685,
          11761,
          10823,
          11176,
          9008,
          11345,
          11514,
          10891,
          9414,
          9102,
          10173,
          10980,
          9582,
          11019,
          11541,
          10828,
          10686,
          10197
         ],
         "y0": " ",
         "yaxis": "y"
        },
        {
         "alignmentgroup": "True",
         "hovertemplate": "Super_pop=AFR<br>Total_denovo_regions=%{y}<extra></extra>",
         "legendgroup": "AFR",
         "marker": {
          "color": "#ab63fa"
         },
         "name": "AFR",
         "notched": false,
         "offsetgroup": "AFR",
         "orientation": "v",
         "showlegend": true,
         "type": "box",
         "x0": " ",
         "xaxis": "x",
         "y": [
          13153,
          12429,
          11819,
          12592,
          13608,
          11881,
          13015,
          13894,
          12196,
          12965,
          12138,
          13067,
          13685,
          11566,
          12436,
          13135,
          12714,
          12838,
          13799,
          12515,
          13096,
          14318,
          12011,
          12657,
          14087,
          12254,
          13470,
          11852,
          13103,
          12508,
          12840,
          13402,
          11486,
          13171,
          12349,
          12496,
          13069,
          14822,
          13068,
          12359,
          12239,
          12701,
          13308,
          13372,
          12212,
          11613,
          12637,
          11669,
          12148,
          11212,
          12518,
          15665,
          13642,
          13443,
          12229,
          13636,
          14521,
          12772,
          13039,
          13347,
          13709,
          12406,
          12221,
          12618,
          15153,
          13257,
          13516,
          13472,
          13985,
          12371,
          13215,
          12875,
          13134,
          11945,
          12998,
          15062,
          12378,
          12646,
          13146,
          11658,
          12038,
          12059,
          11672,
          11911,
          11689,
          11087,
          12712,
          11306,
          12340,
          14640,
          12539,
          13195,
          12557,
          12962,
          12545,
          12250,
          11928,
          12944,
          13233,
          12517,
          12004,
          13178,
          12695,
          13495,
          10818,
          11778,
          10150,
          12629,
          12074,
          11724,
          11804,
          11408,
          12971,
          12634,
          12122,
          11393,
          12067,
          12179,
          12115,
          11139,
          11885,
          12185,
          11550,
          12209,
          12889,
          11293,
          12524,
          18178,
          12820,
          13393,
          12674,
          12106,
          10250,
          13348,
          14525,
          11677,
          12974,
          12063,
          12432,
          13364,
          11652,
          13603,
          13348,
          12541,
          2856,
          12679,
          12723,
          13961,
          12408,
          12396,
          11664,
          13413,
          12427,
          11586,
          11869,
          11150,
          15662,
          11513,
          11522,
          12599,
          11557,
          12065,
          13105,
          12395,
          13334,
          12027,
          12717,
          11914,
          14060,
          15268,
          13317,
          13040,
          13332,
          13369,
          11587,
          11833,
          13188,
          12853,
          13507,
          12616,
          13248,
          12057,
          12152,
          11572,
          12016,
          14085,
          12650,
          11543,
          11146,
          14597,
          11390,
          12784,
          12165,
          11800,
          11515,
          11148,
          10491,
          11360,
          11374,
          11438
         ],
         "y0": " ",
         "yaxis": "y"
        },
        {
         "alignmentgroup": "True",
         "hovertemplate": "Super_pop=SAS<br>Total_denovo_regions=%{y}<extra></extra>",
         "legendgroup": "SAS",
         "marker": {
          "color": "#FFA15A"
         },
         "name": "SAS",
         "notched": false,
         "offsetgroup": "SAS",
         "orientation": "v",
         "showlegend": true,
         "type": "box",
         "x0": " ",
         "xaxis": "x",
         "y": [
          10879,
          9490,
          11826,
          10857,
          11561,
          10160,
          10451,
          9665,
          10173,
          18159,
          9955,
          10221,
          9326,
          10855,
          9951,
          9197,
          11465,
          10783,
          11766,
          13564,
          10501,
          11192,
          10619,
          10976,
          9788,
          11172,
          11089,
          9885,
          10396,
          9605,
          9640,
          10487,
          10067,
          9706,
          9183,
          9094,
          10738,
          9493,
          9023,
          9117,
          9804,
          10300,
          10048,
          8727,
          9447,
          10085,
          9156,
          9856,
          10332,
          10080,
          10596,
          9479,
          9183,
          10471,
          9791,
          10237,
          9614,
          10416,
          10204,
          9074,
          10267,
          10610,
          9147,
          10484,
          9836,
          9729,
          9722,
          11898,
          8951,
          9357,
          9238,
          8471,
          11176,
          8963,
          10083,
          9397,
          11288,
          9675,
          9648,
          8965,
          9746,
          10149,
          9928,
          7929,
          10194
         ],
         "y0": " ",
         "yaxis": "y"
        }
       ],
       "layout": {
        "boxmode": "group",
        "legend": {
         "title": {
          "text": "Super_pop"
         },
         "tracegroupgap": 0
        },
        "margin": {
         "t": 60
        },
        "template": {
         "data": {
          "bar": [
           {
            "error_x": {
             "color": "#2a3f5f"
            },
            "error_y": {
             "color": "#2a3f5f"
            },
            "marker": {
             "line": {
              "color": "#E5ECF6",
              "width": 0.5
             },
             "pattern": {
              "fillmode": "overlay",
              "size": 10,
              "solidity": 0.2
             }
            },
            "type": "bar"
           }
          ],
          "barpolar": [
           {
            "marker": {
             "line": {
              "color": "#E5ECF6",
              "width": 0.5
             },
             "pattern": {
              "fillmode": "overlay",
              "size": 10,
              "solidity": 0.2
             }
            },
            "type": "barpolar"
           }
          ],
          "carpet": [
           {
            "aaxis": {
             "endlinecolor": "#2a3f5f",
             "gridcolor": "white",
             "linecolor": "white",
             "minorgridcolor": "white",
             "startlinecolor": "#2a3f5f"
            },
            "baxis": {
             "endlinecolor": "#2a3f5f",
             "gridcolor": "white",
             "linecolor": "white",
             "minorgridcolor": "white",
             "startlinecolor": "#2a3f5f"
            },
            "type": "carpet"
           }
          ],
          "choropleth": [
           {
            "colorbar": {
             "outlinewidth": 0,
             "ticks": ""
            },
            "type": "choropleth"
           }
          ],
          "contour": [
           {
            "colorbar": {
             "outlinewidth": 0,
             "ticks": ""
            },
            "colorscale": [
             [
              0,
              "#0d0887"
             ],
             [
              0.1111111111111111,
              "#46039f"
             ],
             [
              0.2222222222222222,
              "#7201a8"
             ],
             [
              0.3333333333333333,
              "#9c179e"
             ],
             [
              0.4444444444444444,
              "#bd3786"
             ],
             [
              0.5555555555555556,
              "#d8576b"
             ],
             [
              0.6666666666666666,
              "#ed7953"
             ],
             [
              0.7777777777777778,
              "#fb9f3a"
             ],
             [
              0.8888888888888888,
              "#fdca26"
             ],
             [
              1,
              "#f0f921"
             ]
            ],
            "type": "contour"
           }
          ],
          "contourcarpet": [
           {
            "colorbar": {
             "outlinewidth": 0,
             "ticks": ""
            },
            "type": "contourcarpet"
           }
          ],
          "heatmap": [
           {
            "colorbar": {
             "outlinewidth": 0,
             "ticks": ""
            },
            "colorscale": [
             [
              0,
              "#0d0887"
             ],
             [
              0.1111111111111111,
              "#46039f"
             ],
             [
              0.2222222222222222,
              "#7201a8"
             ],
             [
              0.3333333333333333,
              "#9c179e"
             ],
             [
              0.4444444444444444,
              "#bd3786"
             ],
             [
              0.5555555555555556,
              "#d8576b"
             ],
             [
              0.6666666666666666,
              "#ed7953"
             ],
             [
              0.7777777777777778,
              "#fb9f3a"
             ],
             [
              0.8888888888888888,
              "#fdca26"
             ],
             [
              1,
              "#f0f921"
             ]
            ],
            "type": "heatmap"
           }
          ],
          "heatmapgl": [
           {
            "colorbar": {
             "outlinewidth": 0,
             "ticks": ""
            },
            "colorscale": [
             [
              0,
              "#0d0887"
             ],
             [
              0.1111111111111111,
              "#46039f"
             ],
             [
              0.2222222222222222,
              "#7201a8"
             ],
             [
              0.3333333333333333,
              "#9c179e"
             ],
             [
              0.4444444444444444,
              "#bd3786"
             ],
             [
              0.5555555555555556,
              "#d8576b"
             ],
             [
              0.6666666666666666,
              "#ed7953"
             ],
             [
              0.7777777777777778,
              "#fb9f3a"
             ],
             [
              0.8888888888888888,
              "#fdca26"
             ],
             [
              1,
              "#f0f921"
             ]
            ],
            "type": "heatmapgl"
           }
          ],
          "histogram": [
           {
            "marker": {
             "pattern": {
              "fillmode": "overlay",
              "size": 10,
              "solidity": 0.2
             }
            },
            "type": "histogram"
           }
          ],
          "histogram2d": [
           {
            "colorbar": {
             "outlinewidth": 0,
             "ticks": ""
            },
            "colorscale": [
             [
              0,
              "#0d0887"
             ],
             [
              0.1111111111111111,
              "#46039f"
             ],
             [
              0.2222222222222222,
              "#7201a8"
             ],
             [
              0.3333333333333333,
              "#9c179e"
             ],
             [
              0.4444444444444444,
              "#bd3786"
             ],
             [
              0.5555555555555556,
              "#d8576b"
             ],
             [
              0.6666666666666666,
              "#ed7953"
             ],
             [
              0.7777777777777778,
              "#fb9f3a"
             ],
             [
              0.8888888888888888,
              "#fdca26"
             ],
             [
              1,
              "#f0f921"
             ]
            ],
            "type": "histogram2d"
           }
          ],
          "histogram2dcontour": [
           {
            "colorbar": {
             "outlinewidth": 0,
             "ticks": ""
            },
            "colorscale": [
             [
              0,
              "#0d0887"
             ],
             [
              0.1111111111111111,
              "#46039f"
             ],
             [
              0.2222222222222222,
              "#7201a8"
             ],
             [
              0.3333333333333333,
              "#9c179e"
             ],
             [
              0.4444444444444444,
              "#bd3786"
             ],
             [
              0.5555555555555556,
              "#d8576b"
             ],
             [
              0.6666666666666666,
              "#ed7953"
             ],
             [
              0.7777777777777778,
              "#fb9f3a"
             ],
             [
              0.8888888888888888,
              "#fdca26"
             ],
             [
              1,
              "#f0f921"
             ]
            ],
            "type": "histogram2dcontour"
           }
          ],
          "mesh3d": [
           {
            "colorbar": {
             "outlinewidth": 0,
             "ticks": ""
            },
            "type": "mesh3d"
           }
          ],
          "parcoords": [
           {
            "line": {
             "colorbar": {
              "outlinewidth": 0,
              "ticks": ""
             }
            },
            "type": "parcoords"
           }
          ],
          "pie": [
           {
            "automargin": true,
            "type": "pie"
           }
          ],
          "scatter": [
           {
            "fillpattern": {
             "fillmode": "overlay",
             "size": 10,
             "solidity": 0.2
            },
            "type": "scatter"
           }
          ],
          "scatter3d": [
           {
            "line": {
             "colorbar": {
              "outlinewidth": 0,
              "ticks": ""
             }
            },
            "marker": {
             "colorbar": {
              "outlinewidth": 0,
              "ticks": ""
             }
            },
            "type": "scatter3d"
           }
          ],
          "scattercarpet": [
           {
            "marker": {
             "colorbar": {
              "outlinewidth": 0,
              "ticks": ""
             }
            },
            "type": "scattercarpet"
           }
          ],
          "scattergeo": [
           {
            "marker": {
             "colorbar": {
              "outlinewidth": 0,
              "ticks": ""
             }
            },
            "type": "scattergeo"
           }
          ],
          "scattergl": [
           {
            "marker": {
             "colorbar": {
              "outlinewidth": 0,
              "ticks": ""
             }
            },
            "type": "scattergl"
           }
          ],
          "scattermapbox": [
           {
            "marker": {
             "colorbar": {
              "outlinewidth": 0,
              "ticks": ""
             }
            },
            "type": "scattermapbox"
           }
          ],
          "scatterpolar": [
           {
            "marker": {
             "colorbar": {
              "outlinewidth": 0,
              "ticks": ""
             }
            },
            "type": "scatterpolar"
           }
          ],
          "scatterpolargl": [
           {
            "marker": {
             "colorbar": {
              "outlinewidth": 0,
              "ticks": ""
             }
            },
            "type": "scatterpolargl"
           }
          ],
          "scatterternary": [
           {
            "marker": {
             "colorbar": {
              "outlinewidth": 0,
              "ticks": ""
             }
            },
            "type": "scatterternary"
           }
          ],
          "surface": [
           {
            "colorbar": {
             "outlinewidth": 0,
             "ticks": ""
            },
            "colorscale": [
             [
              0,
              "#0d0887"
             ],
             [
              0.1111111111111111,
              "#46039f"
             ],
             [
              0.2222222222222222,
              "#7201a8"
             ],
             [
              0.3333333333333333,
              "#9c179e"
             ],
             [
              0.4444444444444444,
              "#bd3786"
             ],
             [
              0.5555555555555556,
              "#d8576b"
             ],
             [
              0.6666666666666666,
              "#ed7953"
             ],
             [
              0.7777777777777778,
              "#fb9f3a"
             ],
             [
              0.8888888888888888,
              "#fdca26"
             ],
             [
              1,
              "#f0f921"
             ]
            ],
            "type": "surface"
           }
          ],
          "table": [
           {
            "cells": {
             "fill": {
              "color": "#EBF0F8"
             },
             "line": {
              "color": "white"
             }
            },
            "header": {
             "fill": {
              "color": "#C8D4E3"
             },
             "line": {
              "color": "white"
             }
            },
            "type": "table"
           }
          ]
         },
         "layout": {
          "annotationdefaults": {
           "arrowcolor": "#2a3f5f",
           "arrowhead": 0,
           "arrowwidth": 1
          },
          "autotypenumbers": "strict",
          "coloraxis": {
           "colorbar": {
            "outlinewidth": 0,
            "ticks": ""
           }
          },
          "colorscale": {
           "diverging": [
            [
             0,
             "#8e0152"
            ],
            [
             0.1,
             "#c51b7d"
            ],
            [
             0.2,
             "#de77ae"
            ],
            [
             0.3,
             "#f1b6da"
            ],
            [
             0.4,
             "#fde0ef"
            ],
            [
             0.5,
             "#f7f7f7"
            ],
            [
             0.6,
             "#e6f5d0"
            ],
            [
             0.7,
             "#b8e186"
            ],
            [
             0.8,
             "#7fbc41"
            ],
            [
             0.9,
             "#4d9221"
            ],
            [
             1,
             "#276419"
            ]
           ],
           "sequential": [
            [
             0,
             "#0d0887"
            ],
            [
             0.1111111111111111,
             "#46039f"
            ],
            [
             0.2222222222222222,
             "#7201a8"
            ],
            [
             0.3333333333333333,
             "#9c179e"
            ],
            [
             0.4444444444444444,
             "#bd3786"
            ],
            [
             0.5555555555555556,
             "#d8576b"
            ],
            [
             0.6666666666666666,
             "#ed7953"
            ],
            [
             0.7777777777777778,
             "#fb9f3a"
            ],
            [
             0.8888888888888888,
             "#fdca26"
            ],
            [
             1,
             "#f0f921"
            ]
           ],
           "sequentialminus": [
            [
             0,
             "#0d0887"
            ],
            [
             0.1111111111111111,
             "#46039f"
            ],
            [
             0.2222222222222222,
             "#7201a8"
            ],
            [
             0.3333333333333333,
             "#9c179e"
            ],
            [
             0.4444444444444444,
             "#bd3786"
            ],
            [
             0.5555555555555556,
             "#d8576b"
            ],
            [
             0.6666666666666666,
             "#ed7953"
            ],
            [
             0.7777777777777778,
             "#fb9f3a"
            ],
            [
             0.8888888888888888,
             "#fdca26"
            ],
            [
             1,
             "#f0f921"
            ]
           ]
          },
          "colorway": [
           "#636efa",
           "#EF553B",
           "#00cc96",
           "#ab63fa",
           "#FFA15A",
           "#19d3f3",
           "#FF6692",
           "#B6E880",
           "#FF97FF",
           "#FECB52"
          ],
          "font": {
           "color": "#2a3f5f"
          },
          "geo": {
           "bgcolor": "white",
           "lakecolor": "white",
           "landcolor": "#E5ECF6",
           "showlakes": true,
           "showland": true,
           "subunitcolor": "white"
          },
          "hoverlabel": {
           "align": "left"
          },
          "hovermode": "closest",
          "mapbox": {
           "style": "light"
          },
          "paper_bgcolor": "white",
          "plot_bgcolor": "#E5ECF6",
          "polar": {
           "angularaxis": {
            "gridcolor": "white",
            "linecolor": "white",
            "ticks": ""
           },
           "bgcolor": "#E5ECF6",
           "radialaxis": {
            "gridcolor": "white",
            "linecolor": "white",
            "ticks": ""
           }
          },
          "scene": {
           "xaxis": {
            "backgroundcolor": "#E5ECF6",
            "gridcolor": "white",
            "gridwidth": 2,
            "linecolor": "white",
            "showbackground": true,
            "ticks": "",
            "zerolinecolor": "white"
           },
           "yaxis": {
            "backgroundcolor": "#E5ECF6",
            "gridcolor": "white",
            "gridwidth": 2,
            "linecolor": "white",
            "showbackground": true,
            "ticks": "",
            "zerolinecolor": "white"
           },
           "zaxis": {
            "backgroundcolor": "#E5ECF6",
            "gridcolor": "white",
            "gridwidth": 2,
            "linecolor": "white",
            "showbackground": true,
            "ticks": "",
            "zerolinecolor": "white"
           }
          },
          "shapedefaults": {
           "line": {
            "color": "#2a3f5f"
           }
          },
          "ternary": {
           "aaxis": {
            "gridcolor": "white",
            "linecolor": "white",
            "ticks": ""
           },
           "baxis": {
            "gridcolor": "white",
            "linecolor": "white",
            "ticks": ""
           },
           "bgcolor": "#E5ECF6",
           "caxis": {
            "gridcolor": "white",
            "linecolor": "white",
            "ticks": ""
           }
          },
          "title": {
           "x": 0.05
          },
          "xaxis": {
           "automargin": true,
           "gridcolor": "white",
           "linecolor": "white",
           "ticks": "",
           "title": {
            "standoff": 15
           },
           "zerolinecolor": "white",
           "zerolinewidth": 2
          },
          "yaxis": {
           "automargin": true,
           "gridcolor": "white",
           "linecolor": "white",
           "ticks": "",
           "title": {
            "standoff": 15
           },
           "zerolinecolor": "white",
           "zerolinewidth": 2
          }
         }
        },
        "xaxis": {
         "anchor": "y",
         "domain": [
          0,
          1
         ]
        },
        "yaxis": {
         "anchor": "x",
         "domain": [
          0,
          1
         ],
         "nticks": 16,
         "title": {
          "text": "Total_denovo_regions"
         }
        }
       }
      },
      "text/html": [
       "<div>                            <div id=\"622f1b34-8bb7-43b9-a64b-54ae08fdc058\" class=\"plotly-graph-div\" style=\"height:525px; width:100%;\"></div>            <script type=\"text/javascript\">                require([\"plotly\"], function(Plotly) {                    window.PLOTLYENV=window.PLOTLYENV || {};                                    if (document.getElementById(\"622f1b34-8bb7-43b9-a64b-54ae08fdc058\")) {                    Plotly.newPlot(                        \"622f1b34-8bb7-43b9-a64b-54ae08fdc058\",                        [{\"alignmentgroup\":\"True\",\"hovertemplate\":\"Super_pop=EAS<br>Total_denovo_regions=%{y}<extra></extra>\",\"legendgroup\":\"EAS\",\"marker\":{\"color\":\"#636efa\"},\"name\":\"EAS\",\"notched\":false,\"offsetgroup\":\"EAS\",\"orientation\":\"v\",\"showlegend\":true,\"x0\":\" \",\"xaxis\":\"x\",\"y\":[10005,10283,10361,9189,9047,9325,9308,9037,9220,9252,9607,9551,9312,9985,9788,7071,10062,9403,8998,10062,9899,9100,10444,10368,10402,9948,10059,8542,9500,9182,9216,8521,8930,10326,9184,8668,9651,9559,8833,9664,7915,9943,9796,8216,9363,9431,10802,9351,10421,9397,10022,9331,10709,11887,10638,9033,9545,10344,9486,8808,9557,9403,9517,9343,9295,11139,9450,8904,9415,10342,10421],\"y0\":\" \",\"yaxis\":\"y\",\"type\":\"box\"},{\"alignmentgroup\":\"True\",\"hovertemplate\":\"Super_pop=AMR<br>Total_denovo_regions=%{y}<extra></extra>\",\"legendgroup\":\"AMR\",\"marker\":{\"color\":\"#EF553B\"},\"name\":\"AMR\",\"notched\":false,\"offsetgroup\":\"AMR\",\"orientation\":\"v\",\"showlegend\":true,\"x0\":\" \",\"xaxis\":\"x\",\"y\":[9824,10300,10908,10980,10228,10423,10007,10236,9792,11619,10776,10857,9897,9484,10120,10543,10481,12523,12046,10533,9907,11520,9797,11303,10561,11309,10061,10239,10836,11162,10735,11226,10629,11011,10382,10324,10713,12848,9642,9918,10228,10813,9444,10881,10079,9504,11058,10648,9628,9953,8829,12719,10506,14494,10444,11489,8977,10834,10710,9772,10315,10966,10665,10869,9339,10959,11376,11505,9394,11121,9705,10514,9651,10378,9253,8232,10395,9552,9150,9642,9329,10416,10685,9187,9704,9561,9520,10699,12983,9075,9642,9335,9273,10953,8246,8335,8125,8315,8791,8818,8421,9482,9441,9574,10632,9267,9884,9083,9785,9325,7948,11778,8053,9702,9266,9091,9060,8633,9367,9474,8255,8521,8425,10227,9864,8726,9205,9470,10223,9914,10349,9277,9393,10432,11020],\"y0\":\" \",\"yaxis\":\"y\",\"type\":\"box\"},{\"alignmentgroup\":\"True\",\"hovertemplate\":\"Super_pop=EUR<br>Total_denovo_regions=%{y}<extra></extra>\",\"legendgroup\":\"EUR\",\"marker\":{\"color\":\"#00cc96\"},\"name\":\"EUR\",\"notched\":false,\"offsetgroup\":\"EUR\",\"orientation\":\"v\",\"showlegend\":true,\"x0\":\" \",\"xaxis\":\"x\",\"y\":[10546,12192,10792,11197,10902,10331,10352,10776,10546,10897,10601,10861,10477,10981,10587,10072,9877,10622,10539,10771,9963,11090,10394,10584,10242,10320,10500,10775,11679,11431,11228,10687,10230,10450,11640,9963,12399,10099,9953,10688,9923,10361,10317,10070,11454,9764,10189,10307,10545,10960,11353,9602,9936,10122,10717,10031,11375,10646,10304,12164,9851,11719,12135,10842,10608,10384,10514,10738,10400,9652,10475,9838,10360,9852,11618,10282,12430,10984,9925,10663,9855,10665,12822,11332,11348,9400,10665,10962,9685,11761,10823,11176,9008,11345,11514,10891,9414,9102,10173,10980,9582,11019,11541,10828,10686,10197],\"y0\":\" \",\"yaxis\":\"y\",\"type\":\"box\"},{\"alignmentgroup\":\"True\",\"hovertemplate\":\"Super_pop=AFR<br>Total_denovo_regions=%{y}<extra></extra>\",\"legendgroup\":\"AFR\",\"marker\":{\"color\":\"#ab63fa\"},\"name\":\"AFR\",\"notched\":false,\"offsetgroup\":\"AFR\",\"orientation\":\"v\",\"showlegend\":true,\"x0\":\" \",\"xaxis\":\"x\",\"y\":[13153,12429,11819,12592,13608,11881,13015,13894,12196,12965,12138,13067,13685,11566,12436,13135,12714,12838,13799,12515,13096,14318,12011,12657,14087,12254,13470,11852,13103,12508,12840,13402,11486,13171,12349,12496,13069,14822,13068,12359,12239,12701,13308,13372,12212,11613,12637,11669,12148,11212,12518,15665,13642,13443,12229,13636,14521,12772,13039,13347,13709,12406,12221,12618,15153,13257,13516,13472,13985,12371,13215,12875,13134,11945,12998,15062,12378,12646,13146,11658,12038,12059,11672,11911,11689,11087,12712,11306,12340,14640,12539,13195,12557,12962,12545,12250,11928,12944,13233,12517,12004,13178,12695,13495,10818,11778,10150,12629,12074,11724,11804,11408,12971,12634,12122,11393,12067,12179,12115,11139,11885,12185,11550,12209,12889,11293,12524,18178,12820,13393,12674,12106,10250,13348,14525,11677,12974,12063,12432,13364,11652,13603,13348,12541,2856,12679,12723,13961,12408,12396,11664,13413,12427,11586,11869,11150,15662,11513,11522,12599,11557,12065,13105,12395,13334,12027,12717,11914,14060,15268,13317,13040,13332,13369,11587,11833,13188,12853,13507,12616,13248,12057,12152,11572,12016,14085,12650,11543,11146,14597,11390,12784,12165,11800,11515,11148,10491,11360,11374,11438],\"y0\":\" \",\"yaxis\":\"y\",\"type\":\"box\"},{\"alignmentgroup\":\"True\",\"hovertemplate\":\"Super_pop=SAS<br>Total_denovo_regions=%{y}<extra></extra>\",\"legendgroup\":\"SAS\",\"marker\":{\"color\":\"#FFA15A\"},\"name\":\"SAS\",\"notched\":false,\"offsetgroup\":\"SAS\",\"orientation\":\"v\",\"showlegend\":true,\"x0\":\" \",\"xaxis\":\"x\",\"y\":[10879,9490,11826,10857,11561,10160,10451,9665,10173,18159,9955,10221,9326,10855,9951,9197,11465,10783,11766,13564,10501,11192,10619,10976,9788,11172,11089,9885,10396,9605,9640,10487,10067,9706,9183,9094,10738,9493,9023,9117,9804,10300,10048,8727,9447,10085,9156,9856,10332,10080,10596,9479,9183,10471,9791,10237,9614,10416,10204,9074,10267,10610,9147,10484,9836,9729,9722,11898,8951,9357,9238,8471,11176,8963,10083,9397,11288,9675,9648,8965,9746,10149,9928,7929,10194],\"y0\":\" \",\"yaxis\":\"y\",\"type\":\"box\"}],                        {\"template\":{\"data\":{\"histogram2dcontour\":[{\"type\":\"histogram2dcontour\",\"colorbar\":{\"outlinewidth\":0,\"ticks\":\"\"},\"colorscale\":[[0.0,\"#0d0887\"],[0.1111111111111111,\"#46039f\"],[0.2222222222222222,\"#7201a8\"],[0.3333333333333333,\"#9c179e\"],[0.4444444444444444,\"#bd3786\"],[0.5555555555555556,\"#d8576b\"],[0.6666666666666666,\"#ed7953\"],[0.7777777777777778,\"#fb9f3a\"],[0.8888888888888888,\"#fdca26\"],[1.0,\"#f0f921\"]]}],\"choropleth\":[{\"type\":\"choropleth\",\"colorbar\":{\"outlinewidth\":0,\"ticks\":\"\"}}],\"histogram2d\":[{\"type\":\"histogram2d\",\"colorbar\":{\"outlinewidth\":0,\"ticks\":\"\"},\"colorscale\":[[0.0,\"#0d0887\"],[0.1111111111111111,\"#46039f\"],[0.2222222222222222,\"#7201a8\"],[0.3333333333333333,\"#9c179e\"],[0.4444444444444444,\"#bd3786\"],[0.5555555555555556,\"#d8576b\"],[0.6666666666666666,\"#ed7953\"],[0.7777777777777778,\"#fb9f3a\"],[0.8888888888888888,\"#fdca26\"],[1.0,\"#f0f921\"]]}],\"heatmap\":[{\"type\":\"heatmap\",\"colorbar\":{\"outlinewidth\":0,\"ticks\":\"\"},\"colorscale\":[[0.0,\"#0d0887\"],[0.1111111111111111,\"#46039f\"],[0.2222222222222222,\"#7201a8\"],[0.3333333333333333,\"#9c179e\"],[0.4444444444444444,\"#bd3786\"],[0.5555555555555556,\"#d8576b\"],[0.6666666666666666,\"#ed7953\"],[0.7777777777777778,\"#fb9f3a\"],[0.8888888888888888,\"#fdca26\"],[1.0,\"#f0f921\"]]}],\"heatmapgl\":[{\"type\":\"heatmapgl\",\"colorbar\":{\"outlinewidth\":0,\"ticks\":\"\"},\"colorscale\":[[0.0,\"#0d0887\"],[0.1111111111111111,\"#46039f\"],[0.2222222222222222,\"#7201a8\"],[0.3333333333333333,\"#9c179e\"],[0.4444444444444444,\"#bd3786\"],[0.5555555555555556,\"#d8576b\"],[0.6666666666666666,\"#ed7953\"],[0.7777777777777778,\"#fb9f3a\"],[0.8888888888888888,\"#fdca26\"],[1.0,\"#f0f921\"]]}],\"contourcarpet\":[{\"type\":\"contourcarpet\",\"colorbar\":{\"outlinewidth\":0,\"ticks\":\"\"}}],\"contour\":[{\"type\":\"contour\",\"colorbar\":{\"outlinewidth\":0,\"ticks\":\"\"},\"colorscale\":[[0.0,\"#0d0887\"],[0.1111111111111111,\"#46039f\"],[0.2222222222222222,\"#7201a8\"],[0.3333333333333333,\"#9c179e\"],[0.4444444444444444,\"#bd3786\"],[0.5555555555555556,\"#d8576b\"],[0.6666666666666666,\"#ed7953\"],[0.7777777777777778,\"#fb9f3a\"],[0.8888888888888888,\"#fdca26\"],[1.0,\"#f0f921\"]]}],\"surface\":[{\"type\":\"surface\",\"colorbar\":{\"outlinewidth\":0,\"ticks\":\"\"},\"colorscale\":[[0.0,\"#0d0887\"],[0.1111111111111111,\"#46039f\"],[0.2222222222222222,\"#7201a8\"],[0.3333333333333333,\"#9c179e\"],[0.4444444444444444,\"#bd3786\"],[0.5555555555555556,\"#d8576b\"],[0.6666666666666666,\"#ed7953\"],[0.7777777777777778,\"#fb9f3a\"],[0.8888888888888888,\"#fdca26\"],[1.0,\"#f0f921\"]]}],\"mesh3d\":[{\"type\":\"mesh3d\",\"colorbar\":{\"outlinewidth\":0,\"ticks\":\"\"}}],\"scatter\":[{\"fillpattern\":{\"fillmode\":\"overlay\",\"size\":10,\"solidity\":0.2},\"type\":\"scatter\"}],\"parcoords\":[{\"type\":\"parcoords\",\"line\":{\"colorbar\":{\"outlinewidth\":0,\"ticks\":\"\"}}}],\"scatterpolargl\":[{\"type\":\"scatterpolargl\",\"marker\":{\"colorbar\":{\"outlinewidth\":0,\"ticks\":\"\"}}}],\"bar\":[{\"error_x\":{\"color\":\"#2a3f5f\"},\"error_y\":{\"color\":\"#2a3f5f\"},\"marker\":{\"line\":{\"color\":\"#E5ECF6\",\"width\":0.5},\"pattern\":{\"fillmode\":\"overlay\",\"size\":10,\"solidity\":0.2}},\"type\":\"bar\"}],\"scattergeo\":[{\"type\":\"scattergeo\",\"marker\":{\"colorbar\":{\"outlinewidth\":0,\"ticks\":\"\"}}}],\"scatterpolar\":[{\"type\":\"scatterpolar\",\"marker\":{\"colorbar\":{\"outlinewidth\":0,\"ticks\":\"\"}}}],\"histogram\":[{\"marker\":{\"pattern\":{\"fillmode\":\"overlay\",\"size\":10,\"solidity\":0.2}},\"type\":\"histogram\"}],\"scattergl\":[{\"type\":\"scattergl\",\"marker\":{\"colorbar\":{\"outlinewidth\":0,\"ticks\":\"\"}}}],\"scatter3d\":[{\"type\":\"scatter3d\",\"line\":{\"colorbar\":{\"outlinewidth\":0,\"ticks\":\"\"}},\"marker\":{\"colorbar\":{\"outlinewidth\":0,\"ticks\":\"\"}}}],\"scattermapbox\":[{\"type\":\"scattermapbox\",\"marker\":{\"colorbar\":{\"outlinewidth\":0,\"ticks\":\"\"}}}],\"scatterternary\":[{\"type\":\"scatterternary\",\"marker\":{\"colorbar\":{\"outlinewidth\":0,\"ticks\":\"\"}}}],\"scattercarpet\":[{\"type\":\"scattercarpet\",\"marker\":{\"colorbar\":{\"outlinewidth\":0,\"ticks\":\"\"}}}],\"carpet\":[{\"aaxis\":{\"endlinecolor\":\"#2a3f5f\",\"gridcolor\":\"white\",\"linecolor\":\"white\",\"minorgridcolor\":\"white\",\"startlinecolor\":\"#2a3f5f\"},\"baxis\":{\"endlinecolor\":\"#2a3f5f\",\"gridcolor\":\"white\",\"linecolor\":\"white\",\"minorgridcolor\":\"white\",\"startlinecolor\":\"#2a3f5f\"},\"type\":\"carpet\"}],\"table\":[{\"cells\":{\"fill\":{\"color\":\"#EBF0F8\"},\"line\":{\"color\":\"white\"}},\"header\":{\"fill\":{\"color\":\"#C8D4E3\"},\"line\":{\"color\":\"white\"}},\"type\":\"table\"}],\"barpolar\":[{\"marker\":{\"line\":{\"color\":\"#E5ECF6\",\"width\":0.5},\"pattern\":{\"fillmode\":\"overlay\",\"size\":10,\"solidity\":0.2}},\"type\":\"barpolar\"}],\"pie\":[{\"automargin\":true,\"type\":\"pie\"}]},\"layout\":{\"autotypenumbers\":\"strict\",\"colorway\":[\"#636efa\",\"#EF553B\",\"#00cc96\",\"#ab63fa\",\"#FFA15A\",\"#19d3f3\",\"#FF6692\",\"#B6E880\",\"#FF97FF\",\"#FECB52\"],\"font\":{\"color\":\"#2a3f5f\"},\"hovermode\":\"closest\",\"hoverlabel\":{\"align\":\"left\"},\"paper_bgcolor\":\"white\",\"plot_bgcolor\":\"#E5ECF6\",\"polar\":{\"bgcolor\":\"#E5ECF6\",\"angularaxis\":{\"gridcolor\":\"white\",\"linecolor\":\"white\",\"ticks\":\"\"},\"radialaxis\":{\"gridcolor\":\"white\",\"linecolor\":\"white\",\"ticks\":\"\"}},\"ternary\":{\"bgcolor\":\"#E5ECF6\",\"aaxis\":{\"gridcolor\":\"white\",\"linecolor\":\"white\",\"ticks\":\"\"},\"baxis\":{\"gridcolor\":\"white\",\"linecolor\":\"white\",\"ticks\":\"\"},\"caxis\":{\"gridcolor\":\"white\",\"linecolor\":\"white\",\"ticks\":\"\"}},\"coloraxis\":{\"colorbar\":{\"outlinewidth\":0,\"ticks\":\"\"}},\"colorscale\":{\"sequential\":[[0.0,\"#0d0887\"],[0.1111111111111111,\"#46039f\"],[0.2222222222222222,\"#7201a8\"],[0.3333333333333333,\"#9c179e\"],[0.4444444444444444,\"#bd3786\"],[0.5555555555555556,\"#d8576b\"],[0.6666666666666666,\"#ed7953\"],[0.7777777777777778,\"#fb9f3a\"],[0.8888888888888888,\"#fdca26\"],[1.0,\"#f0f921\"]],\"sequentialminus\":[[0.0,\"#0d0887\"],[0.1111111111111111,\"#46039f\"],[0.2222222222222222,\"#7201a8\"],[0.3333333333333333,\"#9c179e\"],[0.4444444444444444,\"#bd3786\"],[0.5555555555555556,\"#d8576b\"],[0.6666666666666666,\"#ed7953\"],[0.7777777777777778,\"#fb9f3a\"],[0.8888888888888888,\"#fdca26\"],[1.0,\"#f0f921\"]],\"diverging\":[[0,\"#8e0152\"],[0.1,\"#c51b7d\"],[0.2,\"#de77ae\"],[0.3,\"#f1b6da\"],[0.4,\"#fde0ef\"],[0.5,\"#f7f7f7\"],[0.6,\"#e6f5d0\"],[0.7,\"#b8e186\"],[0.8,\"#7fbc41\"],[0.9,\"#4d9221\"],[1,\"#276419\"]]},\"xaxis\":{\"gridcolor\":\"white\",\"linecolor\":\"white\",\"ticks\":\"\",\"title\":{\"standoff\":15},\"zerolinecolor\":\"white\",\"automargin\":true,\"zerolinewidth\":2},\"yaxis\":{\"gridcolor\":\"white\",\"linecolor\":\"white\",\"ticks\":\"\",\"title\":{\"standoff\":15},\"zerolinecolor\":\"white\",\"automargin\":true,\"zerolinewidth\":2},\"scene\":{\"xaxis\":{\"backgroundcolor\":\"#E5ECF6\",\"gridcolor\":\"white\",\"linecolor\":\"white\",\"showbackground\":true,\"ticks\":\"\",\"zerolinecolor\":\"white\",\"gridwidth\":2},\"yaxis\":{\"backgroundcolor\":\"#E5ECF6\",\"gridcolor\":\"white\",\"linecolor\":\"white\",\"showbackground\":true,\"ticks\":\"\",\"zerolinecolor\":\"white\",\"gridwidth\":2},\"zaxis\":{\"backgroundcolor\":\"#E5ECF6\",\"gridcolor\":\"white\",\"linecolor\":\"white\",\"showbackground\":true,\"ticks\":\"\",\"zerolinecolor\":\"white\",\"gridwidth\":2}},\"shapedefaults\":{\"line\":{\"color\":\"#2a3f5f\"}},\"annotationdefaults\":{\"arrowcolor\":\"#2a3f5f\",\"arrowhead\":0,\"arrowwidth\":1},\"geo\":{\"bgcolor\":\"white\",\"landcolor\":\"#E5ECF6\",\"subunitcolor\":\"white\",\"showland\":true,\"showlakes\":true,\"lakecolor\":\"white\"},\"title\":{\"x\":0.05},\"mapbox\":{\"style\":\"light\"}}},\"xaxis\":{\"anchor\":\"y\",\"domain\":[0.0,1.0]},\"yaxis\":{\"anchor\":\"x\",\"domain\":[0.0,1.0],\"title\":{\"text\":\"Total_denovo_regions\"},\"nticks\":16},\"legend\":{\"title\":{\"text\":\"Super_pop\"},\"tracegroupgap\":0},\"margin\":{\"t\":60},\"boxmode\":\"group\"},                        {\"responsive\": true}                    ).then(function(){\n",
       "                            \n",
       "var gd = document.getElementById('622f1b34-8bb7-43b9-a64b-54ae08fdc058');\n",
       "var x = new MutationObserver(function (mutations, observer) {{\n",
       "        var display = window.getComputedStyle(gd).display;\n",
       "        if (!display || display === 'none') {{\n",
       "            console.log([gd, 'removed!']);\n",
       "            Plotly.purge(gd);\n",
       "            observer.disconnect();\n",
       "        }}\n",
       "}});\n",
       "\n",
       "// Listen for the removal of the full notebook cells\n",
       "var notebookContainer = gd.closest('#notebook-container');\n",
       "if (notebookContainer) {{\n",
       "    x.observe(notebookContainer, {childList: true});\n",
       "}}\n",
       "\n",
       "// Listen for the clearing of the current output cell\n",
       "var outputEl = gd.closest('.output');\n",
       "if (outputEl) {{\n",
       "    x.observe(outputEl, {childList: true});\n",
       "}}\n",
       "\n",
       "                        })                };                });            </script>        </div>"
      ]
     },
     "metadata": {},
     "output_type": "display_data"
    }
   ],
   "source": [
    "# Graph for seeing the distribution of the num of multiple variants locations.\n",
    "\n",
    "fig = px.box(df_deletions1[df_deletions1['Total_denovo_regions'] != 0], y='Total_denovo_regions', color='Super_pop')\n",
    "fig.update_yaxes(nticks=16)\n",
    "fig.show()"
   ]
  },
  {
   "cell_type": "code",
   "execution_count": 86,
   "id": "661001da",
   "metadata": {},
   "outputs": [
    {
     "data": {
      "text/plain": [
       "Super_pop\n",
       "AFR    521.0\n",
       "AMR    579.0\n",
       "EAS    618.0\n",
       "EUR    520.5\n",
       "SAS    526.0\n",
       "Name: Single_deletion_counts, dtype: float64"
      ]
     },
     "execution_count": 86,
     "metadata": {},
     "output_type": "execute_result"
    }
   ],
   "source": [
    "df_deletions1['Single_deletion_counts'].groupby(df_deletions1['Super_pop']).median()"
   ]
  },
  {
   "cell_type": "code",
   "execution_count": 87,
   "id": "87fb51b8",
   "metadata": {},
   "outputs": [
    {
     "data": {
      "application/vnd.plotly.v1+json": {
       "config": {
        "plotlyServerURL": "https://plot.ly"
       },
       "data": [
        {
         "hovertemplate": "Total_denovo_regions=%{x}<br>Single_deletion_counts=%{y}<extra></extra>",
         "legendgroup": "",
         "marker": {
          "color": "#636efa",
          "symbol": "circle"
         },
         "mode": "markers",
         "name": "",
         "orientation": "v",
         "showlegend": false,
         "type": "scatter",
         "x": [
          10005,
          10283,
          10361,
          9189,
          9047,
          9325,
          9308,
          9037,
          9220,
          9252,
          9607,
          9551,
          9312,
          9985,
          9788,
          7071,
          10062,
          9403,
          8998,
          10062,
          9899,
          9100,
          9824,
          10300,
          10444,
          10368,
          10402,
          9948,
          10059,
          8542,
          9500,
          9182,
          9216,
          8521,
          8930,
          10326,
          0,
          9184,
          8668,
          9651,
          10908,
          10980,
          9559,
          8833,
          9664,
          7915,
          9943,
          9796,
          8216,
          9363,
          9431,
          10802,
          9351,
          10421,
          9397,
          10228,
          10423,
          10007,
          10236,
          9792,
          11619,
          10776,
          10857,
          9897,
          9484,
          10120,
          10543,
          10481,
          12523,
          12046,
          10533,
          9907,
          11520,
          9797,
          11303,
          10561,
          11309,
          10061,
          10239,
          10836,
          11162,
          10735,
          11226,
          10629,
          11011,
          10382,
          10324,
          10713,
          12848,
          9642,
          9918,
          10228,
          10813,
          9444,
          10881,
          10079,
          9504,
          11058,
          10648,
          9628,
          9953,
          8829,
          12719,
          10506,
          14494,
          10444,
          11489,
          8977,
          10834,
          10710,
          9772,
          10315,
          10966,
          10665,
          10869,
          9339,
          10959,
          11376,
          10546,
          12192,
          10792,
          11197,
          10902,
          10331,
          10352,
          10776,
          10546,
          10897,
          10601,
          10861,
          11505,
          9394,
          11121,
          9705,
          10477,
          10981,
          10587,
          10072,
          9877,
          10622,
          10539,
          10771,
          9963,
          11090,
          10394,
          10584,
          10242,
          10320,
          10500,
          10775,
          11679,
          11431,
          11228,
          10687,
          10230,
          10450,
          11640,
          9963,
          12399,
          10099,
          9953,
          10688,
          9923,
          10361,
          10317,
          10070,
          13153,
          12429,
          11819,
          12592,
          13608,
          11881,
          13015,
          10514,
          13894,
          9651,
          10378,
          9253,
          8232,
          10395,
          9552,
          9150,
          9642,
          9329,
          10416,
          10685,
          9187,
          12196,
          12965,
          9704,
          9561,
          9520,
          10699,
          12983,
          9075,
          12138,
          9642,
          9335,
          9273,
          13067,
          10022,
          9331,
          10709,
          11887,
          10638,
          13685,
          9033,
          9545,
          10344,
          9486,
          8808,
          9557,
          9403,
          9517,
          10953,
          8246,
          9343,
          9295,
          11139,
          9450,
          8904,
          11566,
          8335,
          11454,
          9764,
          10189,
          10307,
          10545,
          10960,
          12436,
          13135,
          8125,
          8315,
          8791,
          12714,
          8818,
          8421,
          9482,
          9441,
          12838,
          13799,
          12515,
          13096,
          14318,
          10879,
          9490,
          9415,
          10342,
          10421,
          12011,
          0,
          12657,
          14087,
          12254,
          13470,
          11852,
          13103,
          11826,
          10857,
          12508,
          12840,
          13402,
          11486,
          13171,
          12349,
          12496,
          13069,
          11561,
          10160,
          10451,
          9665,
          10173,
          14822,
          13068,
          12359,
          18159,
          9955,
          10221,
          9326,
          10855,
          9951,
          12239,
          12701,
          13308,
          9197,
          11465,
          10783,
          11766,
          13372,
          12212,
          11613,
          12637,
          13564,
          10501,
          11192,
          10619,
          10976,
          11669,
          12148,
          11212,
          12518,
          15665,
          13642,
          13443,
          12229,
          13636,
          14521,
          12772,
          13039,
          13347,
          13709,
          12406,
          12221,
          12618,
          15153,
          13257,
          13516,
          13472,
          13985,
          12371,
          13215,
          12875,
          13134,
          11945,
          12998,
          15062,
          9788,
          11172,
          12378,
          12646,
          13146,
          11658,
          12038,
          12059,
          11672,
          11911,
          11689,
          11087,
          12712,
          11306,
          12340,
          14640,
          12539,
          13195,
          12557,
          12962,
          12545,
          12250,
          11928,
          12944,
          13233,
          12517,
          12004,
          11089,
          9885,
          10396,
          13178,
          12695,
          13495,
          10818,
          11778,
          10150,
          12629,
          12074,
          11724,
          11804,
          11408,
          12971,
          12634,
          12122,
          11393,
          12067,
          12179,
          12115,
          11139,
          11885,
          12185,
          11550,
          12209,
          9605,
          9640,
          12889,
          11293,
          12524,
          18178,
          12820,
          13393,
          12674,
          10487,
          10067,
          9706,
          9183,
          9094,
          10738,
          9493,
          9023,
          9117,
          9804,
          10300,
          10048,
          8727,
          9447,
          10085,
          9156,
          9856,
          10332,
          10080,
          10596,
          9479,
          9183,
          10471,
          9791,
          10237,
          9614,
          10416,
          10204,
          9074,
          10267,
          10610,
          9147,
          10484,
          9836,
          9729,
          9722,
          11898,
          8951,
          9357,
          9238,
          8471,
          11176,
          8963,
          10083,
          9397,
          11288,
          9675,
          9648,
          8965,
          9746,
          10149,
          9928,
          7929,
          10194,
          11353,
          9602,
          9936,
          10122,
          10717,
          10031,
          11375,
          10646,
          10304,
          12164,
          9851,
          11719,
          12135,
          10842,
          10608,
          10384,
          10514,
          10738,
          10400,
          9652,
          10475,
          9838,
          10360,
          9852,
          11618,
          10282,
          12430,
          10984,
          9925,
          10663,
          9855,
          10665,
          12822,
          11332,
          11348,
          9400,
          10665,
          10962,
          9685,
          11761,
          10823,
          11176,
          9008,
          11345,
          11514,
          10891,
          9414,
          9102,
          10173,
          10980,
          9582,
          11019,
          11541,
          10828,
          10686,
          10197,
          12106,
          10250,
          13348,
          14525,
          11677,
          12974,
          12063,
          12432,
          13364,
          11652,
          13603,
          13348,
          12541,
          2856,
          12679,
          12723,
          13961,
          12408,
          12396,
          11664,
          13413,
          12427,
          11586,
          11869,
          11150,
          15662,
          11513,
          11522,
          12599,
          11557,
          12065,
          13105,
          12395,
          13334,
          12027,
          12717,
          11914,
          14060,
          15268,
          13317,
          13040,
          13332,
          13369,
          11587,
          11833,
          13188,
          12853,
          13507,
          12616,
          13248,
          12057,
          12152,
          11572,
          12016,
          14085,
          12650,
          9574,
          10632,
          9267,
          9884,
          9083,
          9785,
          9325,
          7948,
          11778,
          8053,
          9702,
          9266,
          9091,
          11543,
          11146,
          9060,
          8633,
          9367,
          9474,
          8255,
          8521,
          8425,
          10227,
          9864,
          8726,
          9205,
          9470,
          10223,
          9914,
          10349,
          9277,
          9393,
          10432,
          11020,
          14597,
          11390,
          12784,
          12165,
          11800,
          11515,
          11148,
          10491,
          11360,
          11374,
          11438
         ],
         "xaxis": "x",
         "y": [
          628,
          637,
          653,
          634,
          577,
          524,
          670,
          666,
          617,
          471,
          627,
          682,
          694,
          582,
          636,
          577,
          648,
          681,
          644,
          775,
          596,
          644,
          584,
          744,
          703,
          554,
          907,
          589,
          792,
          703,
          692,
          565,
          578,
          649,
          586,
          643,
          0,
          736,
          604,
          492,
          790,
          610,
          611,
          619,
          650,
          498,
          773,
          700,
          696,
          606,
          690,
          657,
          668,
          676,
          672,
          536,
          721,
          652,
          570,
          877,
          629,
          546,
          720,
          627,
          587,
          579,
          719,
          695,
          856,
          790,
          457,
          586,
          632,
          715,
          582,
          632,
          639,
          633,
          667,
          624,
          667,
          699,
          675,
          523,
          591,
          826,
          698,
          810,
          733,
          835,
          646,
          690,
          689,
          596,
          624,
          803,
          824,
          660,
          716,
          546,
          376,
          647,
          589,
          554,
          899,
          617,
          583,
          402,
          560,
          569,
          653,
          777,
          791,
          762,
          860,
          809,
          814,
          1322,
          771,
          1289,
          499,
          518,
          515,
          615,
          950,
          747,
          505,
          1044,
          596,
          479,
          792,
          527,
          723,
          529,
          533,
          414,
          488,
          476,
          502,
          489,
          533,
          498,
          452,
          491,
          488,
          603,
          558,
          479,
          518,
          421,
          640,
          520,
          556,
          571,
          564,
          486,
          576,
          430,
          781,
          561,
          462,
          398,
          543,
          627,
          588,
          567,
          496,
          463,
          481,
          664,
          654,
          485,
          553,
          541,
          761,
          577,
          613,
          435,
          490,
          499,
          634,
          559,
          682,
          528,
          669,
          610,
          497,
          561,
          403,
          534,
          522,
          446,
          444,
          477,
          606,
          565,
          586,
          598,
          571,
          537,
          525,
          358,
          593,
          653,
          474,
          521,
          418,
          381,
          624,
          555,
          289,
          375,
          327,
          387,
          419,
          278,
          391,
          385,
          385,
          439,
          383,
          476,
          547,
          403,
          479,
          459,
          460,
          618,
          521,
          357,
          434,
          500,
          670,
          478,
          394,
          382,
          510,
          345,
          610,
          461,
          742,
          514,
          504,
          461,
          604,
          373,
          496,
          607,
          826,
          646,
          0,
          645,
          487,
          510,
          596,
          757,
          671,
          651,
          588,
          535,
          425,
          489,
          584,
          487,
          516,
          521,
          544,
          568,
          418,
          560,
          478,
          551,
          846,
          491,
          616,
          1031,
          591,
          577,
          394,
          735,
          714,
          175,
          636,
          459,
          387,
          818,
          736,
          434,
          490,
          697,
          687,
          672,
          1066,
          817,
          680,
          672,
          545,
          490,
          685,
          722,
          749,
          727,
          647,
          841,
          666,
          752,
          936,
          768,
          689,
          682,
          628,
          803,
          447,
          630,
          608,
          697,
          794,
          654,
          664,
          562,
          788,
          650,
          708,
          395,
          578,
          509,
          697,
          695,
          721,
          565,
          954,
          521,
          483,
          464,
          899,
          420,
          479,
          471,
          767,
          397,
          758,
          772,
          451,
          611,
          595,
          840,
          740,
          630,
          434,
          639,
          537,
          604,
          601,
          720,
          723,
          570,
          828,
          451,
          509,
          466,
          680,
          582,
          745,
          448,
          508,
          387,
          557,
          728,
          766,
          649,
          435,
          828,
          476,
          759,
          446,
          533,
          478,
          362,
          378,
          706,
          578,
          612,
          351,
          398,
          533,
          903,
          646,
          418,
          617,
          974,
          463,
          475,
          456,
          476,
          762,
          473,
          411,
          424,
          503,
          418,
          398,
          383,
          453,
          436,
          383,
          511,
          457,
          437,
          369,
          559,
          778,
          843,
          817,
          473,
          471,
          690,
          407,
          887,
          757,
          458,
          767,
          450,
          478,
          482,
          615,
          527,
          452,
          383,
          451,
          476,
          401,
          536,
          526,
          537,
          597,
          448,
          490,
          499,
          498,
          431,
          534,
          446,
          967,
          413,
          584,
          446,
          455,
          468,
          548,
          624,
          766,
          894,
          394,
          974,
          498,
          553,
          573,
          374,
          896,
          548,
          450,
          441,
          436,
          595,
          551,
          370,
          543,
          477,
          552,
          571,
          578,
          451,
          452,
          475,
          525,
          513,
          502,
          399,
          645,
          440,
          517,
          654,
          355,
          634,
          414,
          761,
          881,
          443,
          476,
          617,
          563,
          494,
          382,
          575,
          717,
          650,
          417,
          543,
          435,
          477,
          467,
          707,
          503,
          539,
          500,
          285,
          849,
          409,
          454,
          884,
          445,
          228,
          463,
          440,
          553,
          782,
          431,
          381,
          467,
          446,
          663,
          373,
          484,
          429,
          385,
          329,
          826,
          495,
          525,
          649,
          417,
          892,
          477,
          779,
          412,
          581,
          479,
          624,
          437,
          470,
          466,
          425,
          441,
          704,
          791,
          593,
          517,
          471,
          418,
          508,
          370,
          530,
          642,
          460,
          358,
          419,
          370,
          440,
          347,
          457,
          424,
          325,
          566,
          350,
          442,
          408,
          423,
          377,
          395,
          418,
          457,
          369,
          397,
          427,
          442,
          353,
          474,
          420,
          429,
          507,
          351,
          524,
          443,
          342,
          416,
          454,
          524,
          469,
          535,
          488,
          502,
          436,
          429,
          411,
          433,
          439,
          374,
          467,
          374
         ],
         "yaxis": "y"
        }
       ],
       "layout": {
        "legend": {
         "tracegroupgap": 0
        },
        "margin": {
         "t": 60
        },
        "template": {
         "data": {
          "bar": [
           {
            "error_x": {
             "color": "#2a3f5f"
            },
            "error_y": {
             "color": "#2a3f5f"
            },
            "marker": {
             "line": {
              "color": "#E5ECF6",
              "width": 0.5
             },
             "pattern": {
              "fillmode": "overlay",
              "size": 10,
              "solidity": 0.2
             }
            },
            "type": "bar"
           }
          ],
          "barpolar": [
           {
            "marker": {
             "line": {
              "color": "#E5ECF6",
              "width": 0.5
             },
             "pattern": {
              "fillmode": "overlay",
              "size": 10,
              "solidity": 0.2
             }
            },
            "type": "barpolar"
           }
          ],
          "carpet": [
           {
            "aaxis": {
             "endlinecolor": "#2a3f5f",
             "gridcolor": "white",
             "linecolor": "white",
             "minorgridcolor": "white",
             "startlinecolor": "#2a3f5f"
            },
            "baxis": {
             "endlinecolor": "#2a3f5f",
             "gridcolor": "white",
             "linecolor": "white",
             "minorgridcolor": "white",
             "startlinecolor": "#2a3f5f"
            },
            "type": "carpet"
           }
          ],
          "choropleth": [
           {
            "colorbar": {
             "outlinewidth": 0,
             "ticks": ""
            },
            "type": "choropleth"
           }
          ],
          "contour": [
           {
            "colorbar": {
             "outlinewidth": 0,
             "ticks": ""
            },
            "colorscale": [
             [
              0,
              "#0d0887"
             ],
             [
              0.1111111111111111,
              "#46039f"
             ],
             [
              0.2222222222222222,
              "#7201a8"
             ],
             [
              0.3333333333333333,
              "#9c179e"
             ],
             [
              0.4444444444444444,
              "#bd3786"
             ],
             [
              0.5555555555555556,
              "#d8576b"
             ],
             [
              0.6666666666666666,
              "#ed7953"
             ],
             [
              0.7777777777777778,
              "#fb9f3a"
             ],
             [
              0.8888888888888888,
              "#fdca26"
             ],
             [
              1,
              "#f0f921"
             ]
            ],
            "type": "contour"
           }
          ],
          "contourcarpet": [
           {
            "colorbar": {
             "outlinewidth": 0,
             "ticks": ""
            },
            "type": "contourcarpet"
           }
          ],
          "heatmap": [
           {
            "colorbar": {
             "outlinewidth": 0,
             "ticks": ""
            },
            "colorscale": [
             [
              0,
              "#0d0887"
             ],
             [
              0.1111111111111111,
              "#46039f"
             ],
             [
              0.2222222222222222,
              "#7201a8"
             ],
             [
              0.3333333333333333,
              "#9c179e"
             ],
             [
              0.4444444444444444,
              "#bd3786"
             ],
             [
              0.5555555555555556,
              "#d8576b"
             ],
             [
              0.6666666666666666,
              "#ed7953"
             ],
             [
              0.7777777777777778,
              "#fb9f3a"
             ],
             [
              0.8888888888888888,
              "#fdca26"
             ],
             [
              1,
              "#f0f921"
             ]
            ],
            "type": "heatmap"
           }
          ],
          "heatmapgl": [
           {
            "colorbar": {
             "outlinewidth": 0,
             "ticks": ""
            },
            "colorscale": [
             [
              0,
              "#0d0887"
             ],
             [
              0.1111111111111111,
              "#46039f"
             ],
             [
              0.2222222222222222,
              "#7201a8"
             ],
             [
              0.3333333333333333,
              "#9c179e"
             ],
             [
              0.4444444444444444,
              "#bd3786"
             ],
             [
              0.5555555555555556,
              "#d8576b"
             ],
             [
              0.6666666666666666,
              "#ed7953"
             ],
             [
              0.7777777777777778,
              "#fb9f3a"
             ],
             [
              0.8888888888888888,
              "#fdca26"
             ],
             [
              1,
              "#f0f921"
             ]
            ],
            "type": "heatmapgl"
           }
          ],
          "histogram": [
           {
            "marker": {
             "pattern": {
              "fillmode": "overlay",
              "size": 10,
              "solidity": 0.2
             }
            },
            "type": "histogram"
           }
          ],
          "histogram2d": [
           {
            "colorbar": {
             "outlinewidth": 0,
             "ticks": ""
            },
            "colorscale": [
             [
              0,
              "#0d0887"
             ],
             [
              0.1111111111111111,
              "#46039f"
             ],
             [
              0.2222222222222222,
              "#7201a8"
             ],
             [
              0.3333333333333333,
              "#9c179e"
             ],
             [
              0.4444444444444444,
              "#bd3786"
             ],
             [
              0.5555555555555556,
              "#d8576b"
             ],
             [
              0.6666666666666666,
              "#ed7953"
             ],
             [
              0.7777777777777778,
              "#fb9f3a"
             ],
             [
              0.8888888888888888,
              "#fdca26"
             ],
             [
              1,
              "#f0f921"
             ]
            ],
            "type": "histogram2d"
           }
          ],
          "histogram2dcontour": [
           {
            "colorbar": {
             "outlinewidth": 0,
             "ticks": ""
            },
            "colorscale": [
             [
              0,
              "#0d0887"
             ],
             [
              0.1111111111111111,
              "#46039f"
             ],
             [
              0.2222222222222222,
              "#7201a8"
             ],
             [
              0.3333333333333333,
              "#9c179e"
             ],
             [
              0.4444444444444444,
              "#bd3786"
             ],
             [
              0.5555555555555556,
              "#d8576b"
             ],
             [
              0.6666666666666666,
              "#ed7953"
             ],
             [
              0.7777777777777778,
              "#fb9f3a"
             ],
             [
              0.8888888888888888,
              "#fdca26"
             ],
             [
              1,
              "#f0f921"
             ]
            ],
            "type": "histogram2dcontour"
           }
          ],
          "mesh3d": [
           {
            "colorbar": {
             "outlinewidth": 0,
             "ticks": ""
            },
            "type": "mesh3d"
           }
          ],
          "parcoords": [
           {
            "line": {
             "colorbar": {
              "outlinewidth": 0,
              "ticks": ""
             }
            },
            "type": "parcoords"
           }
          ],
          "pie": [
           {
            "automargin": true,
            "type": "pie"
           }
          ],
          "scatter": [
           {
            "fillpattern": {
             "fillmode": "overlay",
             "size": 10,
             "solidity": 0.2
            },
            "type": "scatter"
           }
          ],
          "scatter3d": [
           {
            "line": {
             "colorbar": {
              "outlinewidth": 0,
              "ticks": ""
             }
            },
            "marker": {
             "colorbar": {
              "outlinewidth": 0,
              "ticks": ""
             }
            },
            "type": "scatter3d"
           }
          ],
          "scattercarpet": [
           {
            "marker": {
             "colorbar": {
              "outlinewidth": 0,
              "ticks": ""
             }
            },
            "type": "scattercarpet"
           }
          ],
          "scattergeo": [
           {
            "marker": {
             "colorbar": {
              "outlinewidth": 0,
              "ticks": ""
             }
            },
            "type": "scattergeo"
           }
          ],
          "scattergl": [
           {
            "marker": {
             "colorbar": {
              "outlinewidth": 0,
              "ticks": ""
             }
            },
            "type": "scattergl"
           }
          ],
          "scattermapbox": [
           {
            "marker": {
             "colorbar": {
              "outlinewidth": 0,
              "ticks": ""
             }
            },
            "type": "scattermapbox"
           }
          ],
          "scatterpolar": [
           {
            "marker": {
             "colorbar": {
              "outlinewidth": 0,
              "ticks": ""
             }
            },
            "type": "scatterpolar"
           }
          ],
          "scatterpolargl": [
           {
            "marker": {
             "colorbar": {
              "outlinewidth": 0,
              "ticks": ""
             }
            },
            "type": "scatterpolargl"
           }
          ],
          "scatterternary": [
           {
            "marker": {
             "colorbar": {
              "outlinewidth": 0,
              "ticks": ""
             }
            },
            "type": "scatterternary"
           }
          ],
          "surface": [
           {
            "colorbar": {
             "outlinewidth": 0,
             "ticks": ""
            },
            "colorscale": [
             [
              0,
              "#0d0887"
             ],
             [
              0.1111111111111111,
              "#46039f"
             ],
             [
              0.2222222222222222,
              "#7201a8"
             ],
             [
              0.3333333333333333,
              "#9c179e"
             ],
             [
              0.4444444444444444,
              "#bd3786"
             ],
             [
              0.5555555555555556,
              "#d8576b"
             ],
             [
              0.6666666666666666,
              "#ed7953"
             ],
             [
              0.7777777777777778,
              "#fb9f3a"
             ],
             [
              0.8888888888888888,
              "#fdca26"
             ],
             [
              1,
              "#f0f921"
             ]
            ],
            "type": "surface"
           }
          ],
          "table": [
           {
            "cells": {
             "fill": {
              "color": "#EBF0F8"
             },
             "line": {
              "color": "white"
             }
            },
            "header": {
             "fill": {
              "color": "#C8D4E3"
             },
             "line": {
              "color": "white"
             }
            },
            "type": "table"
           }
          ]
         },
         "layout": {
          "annotationdefaults": {
           "arrowcolor": "#2a3f5f",
           "arrowhead": 0,
           "arrowwidth": 1
          },
          "autotypenumbers": "strict",
          "coloraxis": {
           "colorbar": {
            "outlinewidth": 0,
            "ticks": ""
           }
          },
          "colorscale": {
           "diverging": [
            [
             0,
             "#8e0152"
            ],
            [
             0.1,
             "#c51b7d"
            ],
            [
             0.2,
             "#de77ae"
            ],
            [
             0.3,
             "#f1b6da"
            ],
            [
             0.4,
             "#fde0ef"
            ],
            [
             0.5,
             "#f7f7f7"
            ],
            [
             0.6,
             "#e6f5d0"
            ],
            [
             0.7,
             "#b8e186"
            ],
            [
             0.8,
             "#7fbc41"
            ],
            [
             0.9,
             "#4d9221"
            ],
            [
             1,
             "#276419"
            ]
           ],
           "sequential": [
            [
             0,
             "#0d0887"
            ],
            [
             0.1111111111111111,
             "#46039f"
            ],
            [
             0.2222222222222222,
             "#7201a8"
            ],
            [
             0.3333333333333333,
             "#9c179e"
            ],
            [
             0.4444444444444444,
             "#bd3786"
            ],
            [
             0.5555555555555556,
             "#d8576b"
            ],
            [
             0.6666666666666666,
             "#ed7953"
            ],
            [
             0.7777777777777778,
             "#fb9f3a"
            ],
            [
             0.8888888888888888,
             "#fdca26"
            ],
            [
             1,
             "#f0f921"
            ]
           ],
           "sequentialminus": [
            [
             0,
             "#0d0887"
            ],
            [
             0.1111111111111111,
             "#46039f"
            ],
            [
             0.2222222222222222,
             "#7201a8"
            ],
            [
             0.3333333333333333,
             "#9c179e"
            ],
            [
             0.4444444444444444,
             "#bd3786"
            ],
            [
             0.5555555555555556,
             "#d8576b"
            ],
            [
             0.6666666666666666,
             "#ed7953"
            ],
            [
             0.7777777777777778,
             "#fb9f3a"
            ],
            [
             0.8888888888888888,
             "#fdca26"
            ],
            [
             1,
             "#f0f921"
            ]
           ]
          },
          "colorway": [
           "#636efa",
           "#EF553B",
           "#00cc96",
           "#ab63fa",
           "#FFA15A",
           "#19d3f3",
           "#FF6692",
           "#B6E880",
           "#FF97FF",
           "#FECB52"
          ],
          "font": {
           "color": "#2a3f5f"
          },
          "geo": {
           "bgcolor": "white",
           "lakecolor": "white",
           "landcolor": "#E5ECF6",
           "showlakes": true,
           "showland": true,
           "subunitcolor": "white"
          },
          "hoverlabel": {
           "align": "left"
          },
          "hovermode": "closest",
          "mapbox": {
           "style": "light"
          },
          "paper_bgcolor": "white",
          "plot_bgcolor": "#E5ECF6",
          "polar": {
           "angularaxis": {
            "gridcolor": "white",
            "linecolor": "white",
            "ticks": ""
           },
           "bgcolor": "#E5ECF6",
           "radialaxis": {
            "gridcolor": "white",
            "linecolor": "white",
            "ticks": ""
           }
          },
          "scene": {
           "xaxis": {
            "backgroundcolor": "#E5ECF6",
            "gridcolor": "white",
            "gridwidth": 2,
            "linecolor": "white",
            "showbackground": true,
            "ticks": "",
            "zerolinecolor": "white"
           },
           "yaxis": {
            "backgroundcolor": "#E5ECF6",
            "gridcolor": "white",
            "gridwidth": 2,
            "linecolor": "white",
            "showbackground": true,
            "ticks": "",
            "zerolinecolor": "white"
           },
           "zaxis": {
            "backgroundcolor": "#E5ECF6",
            "gridcolor": "white",
            "gridwidth": 2,
            "linecolor": "white",
            "showbackground": true,
            "ticks": "",
            "zerolinecolor": "white"
           }
          },
          "shapedefaults": {
           "line": {
            "color": "#2a3f5f"
           }
          },
          "ternary": {
           "aaxis": {
            "gridcolor": "white",
            "linecolor": "white",
            "ticks": ""
           },
           "baxis": {
            "gridcolor": "white",
            "linecolor": "white",
            "ticks": ""
           },
           "bgcolor": "#E5ECF6",
           "caxis": {
            "gridcolor": "white",
            "linecolor": "white",
            "ticks": ""
           }
          },
          "title": {
           "x": 0.05
          },
          "xaxis": {
           "automargin": true,
           "gridcolor": "white",
           "linecolor": "white",
           "ticks": "",
           "title": {
            "standoff": 15
           },
           "zerolinecolor": "white",
           "zerolinewidth": 2
          },
          "yaxis": {
           "automargin": true,
           "gridcolor": "white",
           "linecolor": "white",
           "ticks": "",
           "title": {
            "standoff": 15
           },
           "zerolinecolor": "white",
           "zerolinewidth": 2
          }
         }
        },
        "xaxis": {
         "anchor": "y",
         "domain": [
          0,
          1
         ],
         "nticks": 25,
         "title": {
          "text": "Total_denovo_regions"
         }
        },
        "yaxis": {
         "anchor": "x",
         "domain": [
          0,
          1
         ],
         "nticks": 25,
         "title": {
          "text": "Single_deletion_counts"
         }
        }
       }
      },
      "text/html": [
       "<div>                            <div id=\"7ac08d36-51a1-4b26-af24-361b761d313c\" class=\"plotly-graph-div\" style=\"height:525px; width:100%;\"></div>            <script type=\"text/javascript\">                require([\"plotly\"], function(Plotly) {                    window.PLOTLYENV=window.PLOTLYENV || {};                                    if (document.getElementById(\"7ac08d36-51a1-4b26-af24-361b761d313c\")) {                    Plotly.newPlot(                        \"7ac08d36-51a1-4b26-af24-361b761d313c\",                        [{\"hovertemplate\":\"Total_denovo_regions=%{x}<br>Single_deletion_counts=%{y}<extra></extra>\",\"legendgroup\":\"\",\"marker\":{\"color\":\"#636efa\",\"symbol\":\"circle\"},\"mode\":\"markers\",\"name\":\"\",\"orientation\":\"v\",\"showlegend\":false,\"x\":[10005,10283,10361,9189,9047,9325,9308,9037,9220,9252,9607,9551,9312,9985,9788,7071,10062,9403,8998,10062,9899,9100,9824,10300,10444,10368,10402,9948,10059,8542,9500,9182,9216,8521,8930,10326,0,9184,8668,9651,10908,10980,9559,8833,9664,7915,9943,9796,8216,9363,9431,10802,9351,10421,9397,10228,10423,10007,10236,9792,11619,10776,10857,9897,9484,10120,10543,10481,12523,12046,10533,9907,11520,9797,11303,10561,11309,10061,10239,10836,11162,10735,11226,10629,11011,10382,10324,10713,12848,9642,9918,10228,10813,9444,10881,10079,9504,11058,10648,9628,9953,8829,12719,10506,14494,10444,11489,8977,10834,10710,9772,10315,10966,10665,10869,9339,10959,11376,10546,12192,10792,11197,10902,10331,10352,10776,10546,10897,10601,10861,11505,9394,11121,9705,10477,10981,10587,10072,9877,10622,10539,10771,9963,11090,10394,10584,10242,10320,10500,10775,11679,11431,11228,10687,10230,10450,11640,9963,12399,10099,9953,10688,9923,10361,10317,10070,13153,12429,11819,12592,13608,11881,13015,10514,13894,9651,10378,9253,8232,10395,9552,9150,9642,9329,10416,10685,9187,12196,12965,9704,9561,9520,10699,12983,9075,12138,9642,9335,9273,13067,10022,9331,10709,11887,10638,13685,9033,9545,10344,9486,8808,9557,9403,9517,10953,8246,9343,9295,11139,9450,8904,11566,8335,11454,9764,10189,10307,10545,10960,12436,13135,8125,8315,8791,12714,8818,8421,9482,9441,12838,13799,12515,13096,14318,10879,9490,9415,10342,10421,12011,0,12657,14087,12254,13470,11852,13103,11826,10857,12508,12840,13402,11486,13171,12349,12496,13069,11561,10160,10451,9665,10173,14822,13068,12359,18159,9955,10221,9326,10855,9951,12239,12701,13308,9197,11465,10783,11766,13372,12212,11613,12637,13564,10501,11192,10619,10976,11669,12148,11212,12518,15665,13642,13443,12229,13636,14521,12772,13039,13347,13709,12406,12221,12618,15153,13257,13516,13472,13985,12371,13215,12875,13134,11945,12998,15062,9788,11172,12378,12646,13146,11658,12038,12059,11672,11911,11689,11087,12712,11306,12340,14640,12539,13195,12557,12962,12545,12250,11928,12944,13233,12517,12004,11089,9885,10396,13178,12695,13495,10818,11778,10150,12629,12074,11724,11804,11408,12971,12634,12122,11393,12067,12179,12115,11139,11885,12185,11550,12209,9605,9640,12889,11293,12524,18178,12820,13393,12674,10487,10067,9706,9183,9094,10738,9493,9023,9117,9804,10300,10048,8727,9447,10085,9156,9856,10332,10080,10596,9479,9183,10471,9791,10237,9614,10416,10204,9074,10267,10610,9147,10484,9836,9729,9722,11898,8951,9357,9238,8471,11176,8963,10083,9397,11288,9675,9648,8965,9746,10149,9928,7929,10194,11353,9602,9936,10122,10717,10031,11375,10646,10304,12164,9851,11719,12135,10842,10608,10384,10514,10738,10400,9652,10475,9838,10360,9852,11618,10282,12430,10984,9925,10663,9855,10665,12822,11332,11348,9400,10665,10962,9685,11761,10823,11176,9008,11345,11514,10891,9414,9102,10173,10980,9582,11019,11541,10828,10686,10197,12106,10250,13348,14525,11677,12974,12063,12432,13364,11652,13603,13348,12541,2856,12679,12723,13961,12408,12396,11664,13413,12427,11586,11869,11150,15662,11513,11522,12599,11557,12065,13105,12395,13334,12027,12717,11914,14060,15268,13317,13040,13332,13369,11587,11833,13188,12853,13507,12616,13248,12057,12152,11572,12016,14085,12650,9574,10632,9267,9884,9083,9785,9325,7948,11778,8053,9702,9266,9091,11543,11146,9060,8633,9367,9474,8255,8521,8425,10227,9864,8726,9205,9470,10223,9914,10349,9277,9393,10432,11020,14597,11390,12784,12165,11800,11515,11148,10491,11360,11374,11438],\"xaxis\":\"x\",\"y\":[628,637,653,634,577,524,670,666,617,471,627,682,694,582,636,577,648,681,644,775,596,644,584,744,703,554,907,589,792,703,692,565,578,649,586,643,0,736,604,492,790,610,611,619,650,498,773,700,696,606,690,657,668,676,672,536,721,652,570,877,629,546,720,627,587,579,719,695,856,790,457,586,632,715,582,632,639,633,667,624,667,699,675,523,591,826,698,810,733,835,646,690,689,596,624,803,824,660,716,546,376,647,589,554,899,617,583,402,560,569,653,777,791,762,860,809,814,1322,771,1289,499,518,515,615,950,747,505,1044,596,479,792,527,723,529,533,414,488,476,502,489,533,498,452,491,488,603,558,479,518,421,640,520,556,571,564,486,576,430,781,561,462,398,543,627,588,567,496,463,481,664,654,485,553,541,761,577,613,435,490,499,634,559,682,528,669,610,497,561,403,534,522,446,444,477,606,565,586,598,571,537,525,358,593,653,474,521,418,381,624,555,289,375,327,387,419,278,391,385,385,439,383,476,547,403,479,459,460,618,521,357,434,500,670,478,394,382,510,345,610,461,742,514,504,461,604,373,496,607,826,646,0,645,487,510,596,757,671,651,588,535,425,489,584,487,516,521,544,568,418,560,478,551,846,491,616,1031,591,577,394,735,714,175,636,459,387,818,736,434,490,697,687,672,1066,817,680,672,545,490,685,722,749,727,647,841,666,752,936,768,689,682,628,803,447,630,608,697,794,654,664,562,788,650,708,395,578,509,697,695,721,565,954,521,483,464,899,420,479,471,767,397,758,772,451,611,595,840,740,630,434,639,537,604,601,720,723,570,828,451,509,466,680,582,745,448,508,387,557,728,766,649,435,828,476,759,446,533,478,362,378,706,578,612,351,398,533,903,646,418,617,974,463,475,456,476,762,473,411,424,503,418,398,383,453,436,383,511,457,437,369,559,778,843,817,473,471,690,407,887,757,458,767,450,478,482,615,527,452,383,451,476,401,536,526,537,597,448,490,499,498,431,534,446,967,413,584,446,455,468,548,624,766,894,394,974,498,553,573,374,896,548,450,441,436,595,551,370,543,477,552,571,578,451,452,475,525,513,502,399,645,440,517,654,355,634,414,761,881,443,476,617,563,494,382,575,717,650,417,543,435,477,467,707,503,539,500,285,849,409,454,884,445,228,463,440,553,782,431,381,467,446,663,373,484,429,385,329,826,495,525,649,417,892,477,779,412,581,479,624,437,470,466,425,441,704,791,593,517,471,418,508,370,530,642,460,358,419,370,440,347,457,424,325,566,350,442,408,423,377,395,418,457,369,397,427,442,353,474,420,429,507,351,524,443,342,416,454,524,469,535,488,502,436,429,411,433,439,374,467,374],\"yaxis\":\"y\",\"type\":\"scatter\"}],                        {\"template\":{\"data\":{\"histogram2dcontour\":[{\"type\":\"histogram2dcontour\",\"colorbar\":{\"outlinewidth\":0,\"ticks\":\"\"},\"colorscale\":[[0.0,\"#0d0887\"],[0.1111111111111111,\"#46039f\"],[0.2222222222222222,\"#7201a8\"],[0.3333333333333333,\"#9c179e\"],[0.4444444444444444,\"#bd3786\"],[0.5555555555555556,\"#d8576b\"],[0.6666666666666666,\"#ed7953\"],[0.7777777777777778,\"#fb9f3a\"],[0.8888888888888888,\"#fdca26\"],[1.0,\"#f0f921\"]]}],\"choropleth\":[{\"type\":\"choropleth\",\"colorbar\":{\"outlinewidth\":0,\"ticks\":\"\"}}],\"histogram2d\":[{\"type\":\"histogram2d\",\"colorbar\":{\"outlinewidth\":0,\"ticks\":\"\"},\"colorscale\":[[0.0,\"#0d0887\"],[0.1111111111111111,\"#46039f\"],[0.2222222222222222,\"#7201a8\"],[0.3333333333333333,\"#9c179e\"],[0.4444444444444444,\"#bd3786\"],[0.5555555555555556,\"#d8576b\"],[0.6666666666666666,\"#ed7953\"],[0.7777777777777778,\"#fb9f3a\"],[0.8888888888888888,\"#fdca26\"],[1.0,\"#f0f921\"]]}],\"heatmap\":[{\"type\":\"heatmap\",\"colorbar\":{\"outlinewidth\":0,\"ticks\":\"\"},\"colorscale\":[[0.0,\"#0d0887\"],[0.1111111111111111,\"#46039f\"],[0.2222222222222222,\"#7201a8\"],[0.3333333333333333,\"#9c179e\"],[0.4444444444444444,\"#bd3786\"],[0.5555555555555556,\"#d8576b\"],[0.6666666666666666,\"#ed7953\"],[0.7777777777777778,\"#fb9f3a\"],[0.8888888888888888,\"#fdca26\"],[1.0,\"#f0f921\"]]}],\"heatmapgl\":[{\"type\":\"heatmapgl\",\"colorbar\":{\"outlinewidth\":0,\"ticks\":\"\"},\"colorscale\":[[0.0,\"#0d0887\"],[0.1111111111111111,\"#46039f\"],[0.2222222222222222,\"#7201a8\"],[0.3333333333333333,\"#9c179e\"],[0.4444444444444444,\"#bd3786\"],[0.5555555555555556,\"#d8576b\"],[0.6666666666666666,\"#ed7953\"],[0.7777777777777778,\"#fb9f3a\"],[0.8888888888888888,\"#fdca26\"],[1.0,\"#f0f921\"]]}],\"contourcarpet\":[{\"type\":\"contourcarpet\",\"colorbar\":{\"outlinewidth\":0,\"ticks\":\"\"}}],\"contour\":[{\"type\":\"contour\",\"colorbar\":{\"outlinewidth\":0,\"ticks\":\"\"},\"colorscale\":[[0.0,\"#0d0887\"],[0.1111111111111111,\"#46039f\"],[0.2222222222222222,\"#7201a8\"],[0.3333333333333333,\"#9c179e\"],[0.4444444444444444,\"#bd3786\"],[0.5555555555555556,\"#d8576b\"],[0.6666666666666666,\"#ed7953\"],[0.7777777777777778,\"#fb9f3a\"],[0.8888888888888888,\"#fdca26\"],[1.0,\"#f0f921\"]]}],\"surface\":[{\"type\":\"surface\",\"colorbar\":{\"outlinewidth\":0,\"ticks\":\"\"},\"colorscale\":[[0.0,\"#0d0887\"],[0.1111111111111111,\"#46039f\"],[0.2222222222222222,\"#7201a8\"],[0.3333333333333333,\"#9c179e\"],[0.4444444444444444,\"#bd3786\"],[0.5555555555555556,\"#d8576b\"],[0.6666666666666666,\"#ed7953\"],[0.7777777777777778,\"#fb9f3a\"],[0.8888888888888888,\"#fdca26\"],[1.0,\"#f0f921\"]]}],\"mesh3d\":[{\"type\":\"mesh3d\",\"colorbar\":{\"outlinewidth\":0,\"ticks\":\"\"}}],\"scatter\":[{\"fillpattern\":{\"fillmode\":\"overlay\",\"size\":10,\"solidity\":0.2},\"type\":\"scatter\"}],\"parcoords\":[{\"type\":\"parcoords\",\"line\":{\"colorbar\":{\"outlinewidth\":0,\"ticks\":\"\"}}}],\"scatterpolargl\":[{\"type\":\"scatterpolargl\",\"marker\":{\"colorbar\":{\"outlinewidth\":0,\"ticks\":\"\"}}}],\"bar\":[{\"error_x\":{\"color\":\"#2a3f5f\"},\"error_y\":{\"color\":\"#2a3f5f\"},\"marker\":{\"line\":{\"color\":\"#E5ECF6\",\"width\":0.5},\"pattern\":{\"fillmode\":\"overlay\",\"size\":10,\"solidity\":0.2}},\"type\":\"bar\"}],\"scattergeo\":[{\"type\":\"scattergeo\",\"marker\":{\"colorbar\":{\"outlinewidth\":0,\"ticks\":\"\"}}}],\"scatterpolar\":[{\"type\":\"scatterpolar\",\"marker\":{\"colorbar\":{\"outlinewidth\":0,\"ticks\":\"\"}}}],\"histogram\":[{\"marker\":{\"pattern\":{\"fillmode\":\"overlay\",\"size\":10,\"solidity\":0.2}},\"type\":\"histogram\"}],\"scattergl\":[{\"type\":\"scattergl\",\"marker\":{\"colorbar\":{\"outlinewidth\":0,\"ticks\":\"\"}}}],\"scatter3d\":[{\"type\":\"scatter3d\",\"line\":{\"colorbar\":{\"outlinewidth\":0,\"ticks\":\"\"}},\"marker\":{\"colorbar\":{\"outlinewidth\":0,\"ticks\":\"\"}}}],\"scattermapbox\":[{\"type\":\"scattermapbox\",\"marker\":{\"colorbar\":{\"outlinewidth\":0,\"ticks\":\"\"}}}],\"scatterternary\":[{\"type\":\"scatterternary\",\"marker\":{\"colorbar\":{\"outlinewidth\":0,\"ticks\":\"\"}}}],\"scattercarpet\":[{\"type\":\"scattercarpet\",\"marker\":{\"colorbar\":{\"outlinewidth\":0,\"ticks\":\"\"}}}],\"carpet\":[{\"aaxis\":{\"endlinecolor\":\"#2a3f5f\",\"gridcolor\":\"white\",\"linecolor\":\"white\",\"minorgridcolor\":\"white\",\"startlinecolor\":\"#2a3f5f\"},\"baxis\":{\"endlinecolor\":\"#2a3f5f\",\"gridcolor\":\"white\",\"linecolor\":\"white\",\"minorgridcolor\":\"white\",\"startlinecolor\":\"#2a3f5f\"},\"type\":\"carpet\"}],\"table\":[{\"cells\":{\"fill\":{\"color\":\"#EBF0F8\"},\"line\":{\"color\":\"white\"}},\"header\":{\"fill\":{\"color\":\"#C8D4E3\"},\"line\":{\"color\":\"white\"}},\"type\":\"table\"}],\"barpolar\":[{\"marker\":{\"line\":{\"color\":\"#E5ECF6\",\"width\":0.5},\"pattern\":{\"fillmode\":\"overlay\",\"size\":10,\"solidity\":0.2}},\"type\":\"barpolar\"}],\"pie\":[{\"automargin\":true,\"type\":\"pie\"}]},\"layout\":{\"autotypenumbers\":\"strict\",\"colorway\":[\"#636efa\",\"#EF553B\",\"#00cc96\",\"#ab63fa\",\"#FFA15A\",\"#19d3f3\",\"#FF6692\",\"#B6E880\",\"#FF97FF\",\"#FECB52\"],\"font\":{\"color\":\"#2a3f5f\"},\"hovermode\":\"closest\",\"hoverlabel\":{\"align\":\"left\"},\"paper_bgcolor\":\"white\",\"plot_bgcolor\":\"#E5ECF6\",\"polar\":{\"bgcolor\":\"#E5ECF6\",\"angularaxis\":{\"gridcolor\":\"white\",\"linecolor\":\"white\",\"ticks\":\"\"},\"radialaxis\":{\"gridcolor\":\"white\",\"linecolor\":\"white\",\"ticks\":\"\"}},\"ternary\":{\"bgcolor\":\"#E5ECF6\",\"aaxis\":{\"gridcolor\":\"white\",\"linecolor\":\"white\",\"ticks\":\"\"},\"baxis\":{\"gridcolor\":\"white\",\"linecolor\":\"white\",\"ticks\":\"\"},\"caxis\":{\"gridcolor\":\"white\",\"linecolor\":\"white\",\"ticks\":\"\"}},\"coloraxis\":{\"colorbar\":{\"outlinewidth\":0,\"ticks\":\"\"}},\"colorscale\":{\"sequential\":[[0.0,\"#0d0887\"],[0.1111111111111111,\"#46039f\"],[0.2222222222222222,\"#7201a8\"],[0.3333333333333333,\"#9c179e\"],[0.4444444444444444,\"#bd3786\"],[0.5555555555555556,\"#d8576b\"],[0.6666666666666666,\"#ed7953\"],[0.7777777777777778,\"#fb9f3a\"],[0.8888888888888888,\"#fdca26\"],[1.0,\"#f0f921\"]],\"sequentialminus\":[[0.0,\"#0d0887\"],[0.1111111111111111,\"#46039f\"],[0.2222222222222222,\"#7201a8\"],[0.3333333333333333,\"#9c179e\"],[0.4444444444444444,\"#bd3786\"],[0.5555555555555556,\"#d8576b\"],[0.6666666666666666,\"#ed7953\"],[0.7777777777777778,\"#fb9f3a\"],[0.8888888888888888,\"#fdca26\"],[1.0,\"#f0f921\"]],\"diverging\":[[0,\"#8e0152\"],[0.1,\"#c51b7d\"],[0.2,\"#de77ae\"],[0.3,\"#f1b6da\"],[0.4,\"#fde0ef\"],[0.5,\"#f7f7f7\"],[0.6,\"#e6f5d0\"],[0.7,\"#b8e186\"],[0.8,\"#7fbc41\"],[0.9,\"#4d9221\"],[1,\"#276419\"]]},\"xaxis\":{\"gridcolor\":\"white\",\"linecolor\":\"white\",\"ticks\":\"\",\"title\":{\"standoff\":15},\"zerolinecolor\":\"white\",\"automargin\":true,\"zerolinewidth\":2},\"yaxis\":{\"gridcolor\":\"white\",\"linecolor\":\"white\",\"ticks\":\"\",\"title\":{\"standoff\":15},\"zerolinecolor\":\"white\",\"automargin\":true,\"zerolinewidth\":2},\"scene\":{\"xaxis\":{\"backgroundcolor\":\"#E5ECF6\",\"gridcolor\":\"white\",\"linecolor\":\"white\",\"showbackground\":true,\"ticks\":\"\",\"zerolinecolor\":\"white\",\"gridwidth\":2},\"yaxis\":{\"backgroundcolor\":\"#E5ECF6\",\"gridcolor\":\"white\",\"linecolor\":\"white\",\"showbackground\":true,\"ticks\":\"\",\"zerolinecolor\":\"white\",\"gridwidth\":2},\"zaxis\":{\"backgroundcolor\":\"#E5ECF6\",\"gridcolor\":\"white\",\"linecolor\":\"white\",\"showbackground\":true,\"ticks\":\"\",\"zerolinecolor\":\"white\",\"gridwidth\":2}},\"shapedefaults\":{\"line\":{\"color\":\"#2a3f5f\"}},\"annotationdefaults\":{\"arrowcolor\":\"#2a3f5f\",\"arrowhead\":0,\"arrowwidth\":1},\"geo\":{\"bgcolor\":\"white\",\"landcolor\":\"#E5ECF6\",\"subunitcolor\":\"white\",\"showland\":true,\"showlakes\":true,\"lakecolor\":\"white\"},\"title\":{\"x\":0.05},\"mapbox\":{\"style\":\"light\"}}},\"xaxis\":{\"anchor\":\"y\",\"domain\":[0.0,1.0],\"title\":{\"text\":\"Total_denovo_regions\"},\"nticks\":25},\"yaxis\":{\"anchor\":\"x\",\"domain\":[0.0,1.0],\"title\":{\"text\":\"Single_deletion_counts\"},\"nticks\":25},\"legend\":{\"tracegroupgap\":0},\"margin\":{\"t\":60}},                        {\"responsive\": true}                    ).then(function(){\n",
       "                            \n",
       "var gd = document.getElementById('7ac08d36-51a1-4b26-af24-361b761d313c');\n",
       "var x = new MutationObserver(function (mutations, observer) {{\n",
       "        var display = window.getComputedStyle(gd).display;\n",
       "        if (!display || display === 'none') {{\n",
       "            console.log([gd, 'removed!']);\n",
       "            Plotly.purge(gd);\n",
       "            observer.disconnect();\n",
       "        }}\n",
       "}});\n",
       "\n",
       "// Listen for the removal of the full notebook cells\n",
       "var notebookContainer = gd.closest('#notebook-container');\n",
       "if (notebookContainer) {{\n",
       "    x.observe(notebookContainer, {childList: true});\n",
       "}}\n",
       "\n",
       "// Listen for the clearing of the current output cell\n",
       "var outputEl = gd.closest('.output');\n",
       "if (outputEl) {{\n",
       "    x.observe(outputEl, {childList: true});\n",
       "}}\n",
       "\n",
       "                        })                };                });            </script>        </div>"
      ]
     },
     "metadata": {},
     "output_type": "display_data"
    }
   ],
   "source": [
    "# here we try to observe the num of multiple locations per samples with the reference of total number of denovo regions count.\n",
    "\n",
    "fig = px.scatter(df_deletions1, y='Single_deletion_counts', x='Total_denovo_regions')#, color='Super_pop')\n",
    "fig.update_xaxes(nticks=25)\n",
    "fig.update_yaxes(nticks=25)\n",
    "fig.show()"
   ]
  },
  {
   "cell_type": "code",
   "execution_count": 177,
   "id": "3adbe1fe",
   "metadata": {},
   "outputs": [],
   "source": [
    "# Here we are trying to ask based on Repeat len wise !\n",
    "\n",
    "\n",
    "Deletion_regions = []\n",
    "\n",
    "Read_directory = '../Seq_patterns/Partial_deletion/'\n",
    "\n",
    "def Deletion(infile):\n",
    "    \n",
    "    with gzip.open(f'{Read_directory}{infile}', 'rt') as offspring:\n",
    "        offspring.readline()\n",
    "        \n",
    "        for denovo_region in offspring:\n",
    "            \n",
    "            denovo_region = denovo_region.strip().split('\\t')\n",
    "            chrm = denovo_region[0]\n",
    "            start = denovo_region[1]\n",
    "            end = denovo_region[2]\n",
    "            \n",
    "            region = f'{chrm}:{start}-{end}'\n",
    "            \n",
    "            Deletion_regions.append(region)\n"
   ]
  },
  {
   "cell_type": "code",
   "execution_count": 178,
   "id": "de83a8a9",
   "metadata": {},
   "outputs": [
    {
     "name": "stderr",
     "output_type": "stream",
     "text": [
      "100%|████████████████████████████████████████████████████████████████████| 599/599 [00:00<00:00, 1059.77it/s]\n"
     ]
    }
   ],
   "source": [
    "# iterating the files of the directory.\n",
    "\n",
    "Read_directory = '../../STR_Mutational_Dynamics/Seq_patterns/Partial_deletion/'\n",
    "\n",
    "for file in tqdm(os.listdir(Read_directory)):\n",
    "    \n",
    "    if file.endswith('.tsv.gz'):\n",
    "        Deletion(file)"
   ]
  },
  {
   "cell_type": "code",
   "execution_count": 179,
   "id": "dbda29b2",
   "metadata": {},
   "outputs": [],
   "source": [
    "# checking the number of common regions with in the insertion regions.\n",
    "\n",
    "# counting the regions which are being similar among the samples.\n",
    "Common_deletion_counts = Counter([x[1] for x in Counter(Deletion_regions).most_common()])\n",
    "\n",
    "sizes = []\n",
    "label = []\n",
    "\n",
    "# limiting the number of regions to be atleast in 10 samples.\n",
    "for info in Common_deletion_counts:\n",
    "    \n",
    "    if int(info) >= 10:\n",
    "        sizes.append(Common_deletion_counts[info])\n",
    "        label.append(info)"
   ]
  },
  {
   "cell_type": "code",
   "execution_count": 180,
   "id": "a5c5571c",
   "metadata": {
    "scrolled": true
   },
   "outputs": [
    {
     "data": {
      "image/png": "[encoded data removed]",
      "text/plain": [
       "<Figure size 1600x1000 with 1 Axes>"
      ]
     },
     "metadata": {},
     "output_type": "display_data"
    }
   ],
   "source": [
    "# commonality among the denovo regions\n",
    "\n",
    "\n",
    "import matplotlib.pyplot as plt\n",
    "import squarify \n",
    "squarify.plot(sizes=sizes, label=label, alpha=0.8)\n",
    "fig = plt.gcf()\n",
    "fig.set_size_inches(16, 10)\n",
    "plt.show()"
   ]
  },
  {
   "cell_type": "code",
   "execution_count": 253,
   "id": "d9cc4a85",
   "metadata": {},
   "outputs": [],
   "source": [
    "# picking the highest RC.\n",
    "\n",
    "\n",
    "Rc = []\n",
    "Am = []\n",
    "trio_file_id = []\n",
    "\n",
    "Read_directory = '../Seq_patterns/Partial_insertion/'\n",
    "\n",
    "def highest_rc(infile):\n",
    "    \n",
    "    with gzip.open(f'{Read_directory}{infile}', 'rt') as offspring:\n",
    "        offspring.readline()\n",
    "        \n",
    "        file_id = infile.split('_')[0]\n",
    "        for denovo_region in offspring:\n",
    "            \n",
    "            denovo_region = denovo_region.strip().split('\\t')\n",
    "            \n",
    "            Rmotif = denovo_region[4]\n",
    "            if Rmotif == 'AGAT' :\n",
    "                \n",
    "                print(denovo_region[3:5], denovo_region[6:8], denovo_region[9:11], denovo_region[11], denovo_region[12], denovo_region[-1])\n",
    "\n",
    "\n",
    "# highest_rc('TRIO0004_insertion.tsv.gz')"
   ]
  },
  {
   "cell_type": "code",
   "execution_count": 254,
   "id": "97636085",
   "metadata": {
    "scrolled": false
   },
   "outputs": [
    {
     "name": "stderr",
     "output_type": "stream",
     "text": [
      " 28%|███████████████████▎                                                | 170/599 [00:00<00:00, 1574.28it/s]"
     ]
    },
    {
     "name": "stdout",
     "output_type": "stream",
     "text": [
      "['TATC', 'AGAT'] ['19', '17'] [\"[]|['TA']|[]\", '4'] TA M1|M12I2M5| Middle\n",
      "['TATC', 'AGAT'] ['53', '50'] ['[]|CAT|[]', '1'] CAT M1|I3M50| Start\n",
      "['TATC', 'AGAT'] ['34', '33'] [\"[]|C|['T']\", '1'] C,T M1|I1M33|M5I1 Start\n",
      "['ATCT', 'AGAT'] ['61', '18'] [\"[]|['TATATATATCTATATATATAGATATATATATATATATATCTAA']|[]\", '4'] TATATATATCTATATATATAGATATATATATATATATATCTAA M1|M15I43M3| Middle\n",
      "['ATCT', 'AGAT'] ['24', '23'] ['[]|T|[]', '7'] T M1|M23I1| End\n",
      "['ATCT', 'AGAT'] ['44', '43'] [\"[]|['T']|[]\", '2'] T M1|M7I1M36| Middle\n",
      "['CTAT', 'AGAT'] ['22', '20'] [\"[]|['TA']|[]\", '5'] TA M1|M17I2M3| Middle\n",
      "['TCTA', 'AGAT'] ['31', '29'] [\"[]|['TA']|[]\", '7'] TA M1|M26I2M3| Middle\n",
      "['ATCT', 'AGAT'] ['54', '53'] [\"[]|['A']|[]\", '9'] A M1|M33I1M20| Middle\n",
      "['ATAG', 'AGAT'] ['47', '46'] ['[]|T|[]', '12'] T M1|M46I1| End\n",
      "['TATC', 'AGAT'] ['53', '47'] ['[]|TCTATC|[]', '1'] TCTATC M1|I6M47| Start\n",
      "['TCTA', 'AGAT'] ['29', '28'] [\"[]|['T']|[]\", '4'] T M1|M13I1M15| Middle\n",
      "['AGAT', 'AGAT'] ['43', '40'] [\"[]|['GAT']|[]\", '6'] GAT M1|M21I3M19| Middle\n",
      "['ATCT', 'AGAT'] ['43', '38'] ['[]|TATCT|[]', '1'] TATCT M1|I5M38| Start\n",
      "['TATC', 'AGAT'] ['55', '54'] [\"[]|['T']|[]\", '4'] T M6|M12I1M42| Middle\n",
      "['GATA', 'AGAT'] ['16', '14'] [\"[]|['AG']|[]\", '3'] AG M1|M11I2M3| Middle\n",
      "['ATAG', 'AGAT'] ['20', '19'] ['[]|G|[]', '6'] G M1|M19I1| End\n",
      "['ATAG', 'AGAT'] ['21', '15'] [\"[]|['ATAGAT']|[]\", '3'] ATAGAT M1|M8I6M7| Middle\n",
      "['TATC', 'AGAT'] ['42', '41'] ['[]|C|[]', '1'] C M1|I1M41| Start\n",
      "['GATA', 'AGAT'] ['16', '9'] [\"[]|['GATAGAT']|[]\", '3'] GATAGAT M1|M8I7M1| Middle\n",
      "['ATCT', 'AGAT'] ['50', '47'] [\"[]|['TCT']|[]\", '1'] TCT M1|M1I3M46| Middle\n",
      "['ATAG', 'AGAT'] ['61', '59'] [\"[]|['AG']|[]\", '14'] AG M1|M54I2M5| Middle\n",
      "['TATC', 'AGAT'] ['42', '41'] ['[]|C|[]', '1'] C M1|I1M41| Start\n",
      "['ATCT', 'AGAT'] ['30', '28'] [\"[]|['TA']|[]\", '2'] TA M1|M7I2M21| Middle\n",
      "['TATC', 'AGAT'] ['15', '13'] [\"[]|['TC']|[]\", '3'] TC M1|M10I2M3| Middle\n",
      "['AGAT', 'AGAT'] ['33', '32'] ['[]|A|[]', '9'] A M1|M32I1| End\n",
      "['AGAT', 'AGAT'] ['50', '49'] ['[]|G|[]', '13'] G M1|M49I1| End\n",
      "['GATA', 'AGAT'] ['49', '42'] [\"['A']|ATAGATA|[]\", '1'] A,ATAGATA M1I1M1|I7M42| Start\n",
      "['TATC', 'AGAT'] ['41', '39'] [\"[]|['TA']|[]\", '7'] TA M1|M24I2M15| Middle\n",
      "['CTAT', 'AGAT'] ['62', '59'] [\"[]|['ATC']|[]\", '1'] ATC M1|M2I3M57| Middle\n",
      "['TCTA', 'AGAT'] ['55', '44'] [\"[]|['ATCTATCTATC']|[]\", '8'] ATCTATCTATC M1|M31I11M13| Middle\n",
      "['TCTA', 'AGAT'] ['48', '47'] [\"[]|['T']|[]\", '10'] T M1|M38I1M9| Middle\n",
      "['TCTA', 'AGAT'] ['47', '45'] [\"[]|['TC']|['TC']\", '12'] TC,TC M1D1M5|M44I2M1|M1I2 Middle\n",
      "['AGAT', 'AGAT'] ['60', '59'] [\"[]|['A']|[]\", '7'] A M1|M24I1M35| Middle\n",
      "['AGAT', 'AGAT'] ['15', '13'] [\"[]|['AT']|[]\", '3'] AT M1|M10I2M3| Middle\n",
      "['AGAT', 'AGAT'] ['11', '9'] [\"[]|['AG']|['AC']\", '3'] AG,AC M1|M8I2M1|M1I2 Middle\n",
      "['TAGA', 'AGAT'] ['48', '47'] ['[]|T|[]', '1'] T M1|I1M47| Start\n",
      "['TATC', 'AGAT'] ['51', '50'] [\"[]|['T']|[]\", '1'] T M1|M1I1M49| Middle\n",
      "['TATC', 'AGAT'] ['15', '13'] [\"[]|['TT']|[]\", '4'] TT M1|M12I2M1| Middle\n",
      "['AGAT', 'AGAT'] ['21', '20'] ['[]|A|[]', '6'] A M1|M20I1| End\n",
      "['TAGA', 'AGAT'] ['38', '36'] [\"[]|['AT']|['AT']\", '9'] AT,AT M1|M35I2M1|M1I2 Middle\n",
      "['TAGA', 'AGAT'] ['15', '14'] [\"[]|['T']|[]\", '1'] T M1|M1I1M13| Middle\n",
      "['TATC', 'AGAT'] ['54', '48'] ['[]|TCTATC|[]', '1'] TCTATC M1|I6M48| Start\n",
      "['TAGA', 'AGAT'] ['55', '52'] [\"[]|['GAT']|[]\", '3'] GAT M1|M10I3M42| Middle\n",
      "['ATAG', 'AGAT'] ['43', '42'] ['[]|A|[]', '11'] A M1|M42I1| End\n",
      "['TATC', 'AGAT'] ['62', '61'] [\"[]|['T']|[]\", '2'] T M2|M5I1M56| Middle\n",
      "['ATCT', 'AGAT'] ['49', '44'] ['[]|TATCT|[]', '1'] TATCT M1|I5M44| Start\n",
      "['ATCT', 'AGAT'] ['61', '18'] [\"[]|['TATATATATCTATATATATAGATATATATATATATATATCTAA']|[]\", '4'] TATATATATCTATATATATAGATATATATATATATATATCTAA M1|M15I43M3| Middle\n",
      "['TAGA', 'AGAT'] ['48', '47'] [\"[]|['A']|[]\", '2'] A M1|M5I1M42| Middle\n",
      "['ATAG', 'AGAT'] ['17', '15'] [\"[]|['AT']|[]\", '4'] AT M1|M12I2M3| Middle\n",
      "['TATC', 'AGAT'] ['55', '54'] [\"[]|['C']|[]\", '11'] C M1|M40I1M14| Middle\n",
      "['TCTA', 'AGAT'] ['35', '34'] ['[]|T|[]', '9'] T M1|M34I1| End\n",
      "['CTAT', 'AGAT'] ['55', '50'] [\"[]|['ATCTA']|[]\", '7'] ATCTA M1|M25I5M25| Middle\n",
      "['GATA', 'AGAT'] ['47', '46'] ['[]|T|[]', '12'] T M1|M46I1| End\n",
      "['TCTA', 'AGAT'] ['23', '21'] [\"[]|['TA']|[]\", '5'] TA M1|M18I2M3|M1 Middle\n",
      "['GATA', 'AGAT'] ['51', '50'] ['[]|A|[]', '1'] A M1|I1M50| Start\n",
      "['GATA', 'AGAT'] ['42', '40'] [\"[]|['AG']|['A']\", '10'] AG,A M1|M39I2M1|M1I1 Middle\n",
      "['GATA', 'AGAT'] ['42', '41'] [\"[]|['A']|[]\", '8'] A M1|M31I1M10| Middle\n",
      "['ATCT', 'AGAT'] ['53', '52'] [\"[]|['T']|[]\", '3'] T M1|M11I1M41| Middle\n",
      "['ATCT', 'AGAT'] ['44', '43'] ['[]|T|[]', '1'] T M1|I1M43| Start\n",
      "['GATA', 'AGAT'] ['42', '41'] ['[]|A|[]', '1'] A M1|I1M41| Start\n",
      "['TATC', 'AGAT'] ['53', '51'] [\"[]|['TC']|['T', 'TAT']\", '13'] TC,T,TAT M1|M50I2M1|M1I1M1I3 Middle\n",
      "['TAGA', 'AGAT'] ['40', '39'] ['[]|T|[]', '1'] T M1|I1M39| Start\n",
      "['TATC', 'AGAT'] ['41', '39'] [\"[]|['TA']|[]\", '7'] TA M1|M24I2M15| Middle\n",
      "['ATAG', 'AGAT'] ['46', '43'] [\"[]|['GAG']|[]\", '9'] GAG M1|M35I3M8|M1 Middle\n",
      "['TATC', 'AGAT'] ['46', '43'] ['[]|ATC|[]', '1'] ATC M1|I3M43| Start\n",
      "['AGAT', 'AGAT'] ['45', '44'] ['[]|A|[]', '12'] A M1|M44I1| End\n",
      "['ATCT', 'AGAT'] ['22', '21'] [\"[]|['T']|[]\", '1'] T M1|M2I1M19| Middle\n",
      "['GATA', 'AGAT'] ['55', '50'] ['[]|GATAC|[]', '1'] GATAC M1|I5M49| Start\n",
      "['ATCT', 'AGAT'] ['16', '14'] [\"[]|['TC']|['TC', 'TC']\", '4'] TC,TC,TC M1|M13I2M1|M1I2M4I2 Middle\n",
      "['TATC', 'AGAT'] ['45', '44'] [\"[]|['C']|[]\", '8'] C M1|M28I1M16| Middle\n",
      "['TATC', 'AGAT'] ['48', '47'] ['[]|A|[]', '1'] A M1|I1M47|M1 Start\n",
      "['TATC', 'AGAT'] ['21', '19'] [\"[]|['TA']|[]\", '5'] TA M2|M16I2M3| Middle\n",
      "['TATC', 'AGAT'] ['18', '17'] ['[]|C|[]', '1'] C M1|I1M17| Start\n",
      "['TATC', 'AGAT'] ['51', '49'] [\"[]|['TA']|[]\", '11'] TA M1|M40I2M9| Middle\n",
      "['TATC', 'AGAT'] ['49', '48'] ['[]|C|[]', '1'] C M1|I1M48| Start\n",
      "['ATAG', 'AGAT'] ['17', '15'] [\"[]|['AT']|[]\", '4'] AT M1|M12I2M3| Middle\n",
      "['TATC', 'AGAT'] ['45', '44'] ['[]|T|[]', '12'] T M1|M44I1| End\n",
      "['ATCT', 'AGAT'] ['58', '55'] [\"[]|['TCT']|[]\", '3'] TCT M1|M9I3M46| Middle\n",
      "['ATAG', 'AGAT'] ['47', '46'] ['[]|T|[]', '12'] T M1|M46I1| End\n",
      "['GATA', 'AGAT'] ['47', '46'] ['[]|A|[]', '1'] A M1|I1M46| Start\n",
      "['TATC', 'AGAT'] ['38', '37'] ['[]|C|[]', '1'] C M1|I1M37| Start\n",
      "['TATC', 'AGAT'] ['51', '17'] [\"[]|['TATCTATCTATCTATCTATCTATATATATATATA']|[]\", '4'] TATCTATCTATCTATCTATCTATATATATATATA M1|M12I34M5| Middle\n",
      "['ATAG', 'AGAT'] ['17', '15'] [\"[]|['AT']|[]\", '4'] AT M1|M12I2M3| Middle\n",
      "['AGAT', 'AGAT'] ['21', '20'] ['[]|A|[]', '6'] A M1|M20I1| End\n",
      "['TATC', 'AGAT'] ['52', '17'] [\"[]|['ATCTATCTATCTATGTATCTATCTATCTATCTATC']|[]\", '1'] ATCTATCTATCTATGTATCTATCTATCTATCTATC M1|M1I35M16| Middle\n",
      "['AGAT', 'AGAT'] ['41', '40'] ['[]|A|[]', '11'] A M1|M40I1| End\n",
      "['GATA', 'AGAT'] ['49', '47'] [\"[]|['TT']|[]\", '12'] TT M1|M46I2M1| Middle\n",
      "['TATC', 'AGAT'] ['57', '51'] [\"[]|['TATCTA']|[]\", '3'] TATCTA M1|M8I6M43| Middle\n",
      "['GATA', 'AGAT'] ['44', '43'] [\"[]|['G']|[]\", '5'] G M1|M17I1M26| Middle\n",
      "['TCTA', 'AGAT'] ['41', '38'] [\"[]|['CTA']|[]\", '7'] CTA M1|M25I3M13| Middle\n",
      "['TAGA', 'AGAT'] ['47', '46'] ['[]|A|[]', '12'] A M1|M46I1| End\n",
      "['ATAG', 'AGAT'] ['17', '15'] [\"[]|['AG']|[]\", '4'] AG M1|M14I2M1| Middle\n",
      "['AGAT', 'AGAT'] ['51', '49'] [\"[]|['AT']|[]\", '11'] AT M1|M42I2M7| Middle\n",
      "['GATA', 'AGAT'] ['51', '50'] ['[]|A|[]', '1'] A M1|I1M50| Start\n",
      "['CTAT', 'AGAT'] ['18', '16'] [\"[]|['TA']|[]\", '4'] TA M1|M13I2M3| Middle\n",
      "['TATC', 'AGAT'] ['14', '13'] ['[]|T|[]', '4'] T M1|M13I1| End\n",
      "['TATC', 'AGAT'] ['57', '56'] [\"[]|['T']|[]\", '14'] T M1|M52I1M4| Middle\n",
      "['ATAG', 'AGAT'] ['23', '21'] [\"[]|['AG']|[]\", '1'] AG M1|M2I2M19| Middle\n",
      "['ATCT', 'AGAT'] ['50', '49'] ['[]|A|[]', '1'] A M1|I1M49| Start\n",
      "['ATAG', 'AGAT'] ['15', '13'] [\"[]|['AG']|[]\", '1'] AG M1|M2I2M11| Middle\n",
      "['ATCT', 'AGAT'] ['17', '16'] ['[]|T|[]', '1'] T M1|I1M16| Start\n",
      "['ATCT', 'AGAT'] ['55', '54'] [\"[]|['T']|[]\", '8'] T M1|M31I1M23| Middle\n",
      "['AGAT', 'AGAT'] ['11', '9'] [\"[]|['AG']|['AC']\", '3'] AG,AC M1|M8I2M1|M1I2 Middle\n",
      "['TATC', 'AGAT'] ['49', '47'] [\"[]|['TA']|[]\", '10'] TA M2|M36I2M11| Middle\n",
      "['ATCT', 'AGAT'] ['48', '47'] [\"[]|['A']|[]\", '2'] A M1|M5I1M42| Middle\n",
      "['ATCT', 'AGAT'] ['55', '54'] [\"[]|['T']|[]\", '6'] T M1|M23I1M31| Middle\n",
      "['AGAT', 'AGAT'] ['42', '41'] ['[]|G|[]', '11'] G M1|M41I1| End\n",
      "['TCTA', 'AGAT'] ['45', '44'] [\"[]|['T']|[]\", '5'] T M1|M18I1M26| Middle\n",
      "['GATA', 'AGAT'] ['44', '43'] ['[]|A|[]', '1'] A M1D1M3|I1M43| Start\n",
      "['GATA', 'AGAT'] ['59', '52'] [\"[]|['GATAGAT']|[]\", '3'] GATAGAT M1|M8I7M44| Middle\n",
      "['TCTA', 'AGAT'] ['71', '68'] [\"[]|['ATC']|['TATCTATT']\", '5'] ATC,TATCTATT M1|M19I3M49|M2I8 Middle\n",
      "['GATA', 'AGAT'] ['46', '45'] [\"[]|['A']|[]\", '1'] A M1|M3I1M42| Middle\n",
      "['TCTA', 'AGAT'] ['12', '10'] [\"[]|['TA']|[]\", '1'] TA M1|M2I2M8| Middle\n",
      "['CTAT', 'AGAT'] ['53', '52'] ['[]|T|[]', '14'] T M1|M52I1| End\n",
      "['ATAG', 'AGAT'] ['35', '34'] ['[]|A|[]', '9'] A M1|M34I1| End\n",
      "['TATC', 'AGAT'] ['51', '45'] [\"[]|['TATATA']|[]\", '8'] TATATA M1|M28I6M17| Middle\n",
      "['ATCT', 'AGAT'] ['53', '52'] ['[]|A|[]', '14'] A M1|M52I1| End\n",
      "['ATCT', 'AGAT'] ['37', '36'] [\"[]|['T']|[]\", '2'] T M1|M4I1M31| Middle\n",
      "['TCTA', 'AGAT'] ['47', '46'] ['[]|T|[]', '12'] T M1|M46I1|M3D1 End\n",
      "['TATC', 'AGAT'] ['50', '43'] [\"[]|['ATCTATC']|[]\", '8'] ATCTATC M1|M29I7M14|M1 Middle\n",
      "['ATCT', 'AGAT'] ['48', '47'] ['[]|T|[]', '1'] T M1|I1M47| Start\n",
      "['GATA', 'AGAT'] ['61', '60'] ['[]|A|[]', '1'] A M1|I1M60| Start\n",
      "['GATA', 'AGAT'] ['47', '46'] [\"[]|['A']|[]\", '5'] A M1|M19I1M27| Middle\n",
      "['ATCT', 'AGAT'] ['40', '39'] ['[]|T|[]', '1'] T M1|I1M39| Start\n",
      "['TATC', 'AGAT'] ['39', '36'] [\"['TGTCT']|ATC|[]\", '1'] TGTCT,ATC I5M5|I3M36| Start\n",
      "['GATA', 'AGAT'] ['44', '43'] ['[]|G|[]', '1'] G M1|I1M42| Start\n",
      "['GATA', 'AGAT'] ['36', '34'] [\"[]|['AT']|[]\", '9'] AT M1|M33I2M1| Middle\n",
      "['ATCT', 'AGAT'] ['42', '39'] [\"[]|['ATC']|[]\", '9'] ATC M1|M32I3M7| Middle\n",
      "['ATCT', 'AGAT'] ['50', '49'] ['[]|A|[]', '1'] A M1|I1M49| Start\n",
      "['TATC', 'AGAT'] ['59', '57'] [\"[]|['TA']|[]\", '12'] TA M2|M44I2M13| Middle\n",
      "['ATAG', 'AGAT'] ['45', '44'] ['[]|A|[]', '12'] A M1|M44I1| End\n",
      "['ATCT', 'AGAT'] ['50', '49'] [\"[]|['T']|[]\", '8'] T M1|M31I1M18| Middle\n",
      "['AGAT', 'AGAT'] ['74', '55'] [\"[]|['GATAGATAGATAGATAGAT']|[]\", '3'] GATAGATAGATAGATAGAT M1|M9I19M46| Middle\n",
      "['TAGA', 'AGAT'] ['61', '42'] [\"[]|['GATAGATAGATAGATAGAT']|[]\", '8'] GATAGATAGATAGATAGAT M1|M30I19M12| Middle\n",
      "['TATC', 'AGAT'] ['44', '43'] ['[]|T|[]', '12'] T M1|M43I1| End\n",
      "['GATA', 'AGAT'] ['37', '36'] ['[]|A|[]', '1'] A M1|I1M36| Start\n",
      "['ATCT', 'AGAT'] ['75', '64'] ['[]|ATCTATCTATC|[]', '1'] ATCTATCTATC M1|I11M64| Start\n",
      "['ATCT', 'AGAT'] ['44', '43'] ['[]|T|[]', '1'] T M1|I1M43| Start\n",
      "['TCTA', 'AGAT'] ['50', '47'] [\"[]|['CTA']|[]\", '4'] CTA M1|M13I3M34| Middle\n",
      "['ATCT', 'AGAT'] ['41', '40'] ['[]|T|[]', '1'] T M1|I1M40| Start\n",
      "['ATCT', 'AGAT'] ['58', '56'] [\"[]|['TA']|[]\", '12'] TA M1|M47I2M9| Middle\n",
      "['ATAG', 'AGAT'] ['56', '51'] [\"[]|['TAGAT']|[]\", '5'] TAGAT M1|M17I5M34| Middle\n",
      "['GATA', 'AGAT'] ['51', '50'] [\"[]|['A']|[]\", '1'] A M1|M3I1M47| Middle\n",
      "['TAGA', 'AGAT'] ['60', '49'] [\"[]|['GATAGATAGAT']|[]\", '10'] GATAGATAGAT M1|M38I11M11| Middle\n"
     ]
    },
    {
     "name": "stderr",
     "output_type": "stream",
     "text": [
      "100%|████████████████████████████████████████████████████████████████████| 599/599 [00:00<00:00, 1783.29it/s]"
     ]
    },
    {
     "name": "stdout",
     "output_type": "stream",
     "text": [
      "['CTAT', 'AGAT'] ['14', '12'] [\"[]|['GG']|[]\", '3'] GG M1|M10I2M2| Middle\n",
      "['TCTA', 'AGAT'] ['23', '13'] [\"[]|['TATCTATCTA']|[]\", '3'] TATCTATCTA M1|M10I10M3| Middle\n",
      "['TATC', 'AGAT'] ['77', '71'] [\"[]|['TCTATC']|[]\", '10'] TCTATC M1|M36I6M35|M1 Middle\n",
      "['GATA', 'AGAT'] ['72', '65'] [\"[]|['GATAGAT']|[]\", '9'] GATAGAT M1|M35I7M30| Middle\n",
      "['AGAT', 'AGAT'] ['41', '40'] [\"[]|['A']|[]\", '5'] A M1|M16I1M24| Middle\n",
      "['GATA', 'AGAT'] ['45', '40'] ['[]|AGATA|[]', '1'] AGATA M1|I5M40| Start\n",
      "['ATCT', 'AGAT'] ['51', '50'] ['[]|A|[]', '1'] A M1|I1M50| Start\n",
      "['ATCT', 'AGAT'] ['17', '16'] ['[]|T|[]', '5'] T M1|M16I1| End\n",
      "['GATA', 'AGAT'] ['40', '39'] ['[]|A|[]', '11'] A M1|M39I1| End\n",
      "['TAGA', 'AGAT'] ['15', '14'] [\"[]|['T']|[]\", '1'] T M1|M1I1M13| Middle\n",
      "['AGAT', 'AGAT'] ['45', '44'] ['[]|A|[]', '12'] A M1|M44I1| End\n",
      "['TCTA', 'AGAT'] ['59', '58'] [\"[]|['T']|[]\", '2'] T M1|M6I1M52| Middle\n",
      "['ATCT', 'AGAT'] ['46', '45'] ['[]|T|[]', '1'] T M1|I1M45| Start\n",
      "['TATC', 'AGAT'] ['21', '19'] [\"[]|['TC']|['TCTATC']\", '5'] TC,TCTATC M1|M18I2M1|M1I6 Middle\n",
      "['GATA', 'AGAT'] ['47', '46'] ['[]|A|[]', '1'] A M1|I1M46| Start\n",
      "['TAGA', 'AGAT'] ['46', '43'] [\"[]|['AGA']|[]\", '4'] AGA M1|M13I3M30| Middle\n",
      "['TAGA', 'AGAT'] ['27', '24'] [\"[]|['AGA']|[]\", '4'] AGA M1|M13I3M11| Middle\n",
      "['GATA', 'AGAT'] ['14', '12'] [\"[]|['TC']|[]\", '3'] TC M1|M8I2M4| Middle\n",
      "['ATCT', 'AGAT'] ['48', '47'] [\"[]|['A']|[]\", '1'] A M1|M2I1M45| Middle\n",
      "['ATCT', 'AGAT'] ['43', '42'] ['[]|T|[]', '1'] T M1|I1M42| Start\n",
      "['TAGA', 'AGAT'] ['27', '26'] [\"['ATAGATAGATAGATAGATAGATAGATA']|A|[]\", '1'] ATAGATAGATAGATAGATAGATAGATA,A M1I27M1|I1M26| Start\n",
      "['TAGA', 'AGAT'] ['43', '40'] ['[]|AGA|[]', '1'] AGA M1|I3M40| Start\n",
      "['GATA', 'AGAT'] ['54', '48'] [\"[]|['AGATAG']|[]\", '12'] AGATAG M1|M47I6M1| Middle\n",
      "['TAGA', 'AGAT'] ['53', '52'] [\"[]|['A']|[]\", '10'] A M1|M36I1M16| Middle\n",
      "['TCTA', 'AGAT'] ['50', '45'] [\"['TA']|TATTA|[]\", '1'] TA,TATTA I2M2|I5M45| Start\n",
      "['AGAT', 'AGAT'] ['40', '38'] [\"[]|['AT']|[]\", '8'] AT M1|M31I2M6| Middle\n",
      "['TATC', 'AGAT'] ['16', '15'] ['[]|C|[]', '1'] C M1|I1M15| Start\n",
      "['TATC', 'AGAT'] ['13', '12'] ['[]|T|[]', '4'] T M1|M12I1| End\n",
      "['ATCT', 'AGAT'] ['15', '14'] ['[]|T|[]', '1'] T M1|I1M14| Start\n",
      "['TATC', 'AGAT'] ['53', '51'] [\"[]|['TA']|[]\", '11'] TA M1|M40I2M11| Middle\n",
      "['TCTA', 'AGAT'] ['41', '39'] [\"[]|['TA']|[]\", '4'] TA M1|M14I2M25| Middle\n",
      "['ATCT', 'AGAT'] ['54', '51'] [\"[]|['ATC']|[]\", '6'] ATC M1|M20I3M31| Middle\n",
      "['ATCT', 'AGAT'] ['59', '56'] ['[]|TCT|[]', '1'] TCT M1|I3M56| Start\n",
      "['GATA', 'AGAT'] ['53', '50'] [\"[]|['GAT']|[]\", '11'] GAT M1|M40I3M10| Middle\n",
      "['AGAT', 'AGAT'] ['55', '54'] ['[]|A|[]', '1'] A M1|I1M54|M2 Start\n",
      "['ATCT', 'AGAT'] ['44', '42'] [\"[]|['TA']|[]\", '9'] TA M1|M35I2M7| Middle\n",
      "['TCTA', 'AGAT'] ['66', '59'] [\"[]|['ATCTATC']|[]\", '4'] ATCTATC M1|M15I7M44| Middle\n",
      "['TAGA', 'AGAT'] ['41', '38'] [\"[]|['AGA']|[]\", '10'] AGA M1|M37I3M1| Middle\n",
      "['GATA', 'AGAT'] ['38', '36'] [\"[]|['AG']|['A']\", '9'] AG,A M1|M35I2M1|M1I1 Middle\n",
      "['TCTA', 'AGAT'] ['53', '51'] ['[]|TA|[]', '1'] TA M1|I2M51| Start\n",
      "['AGAT', 'AGAT'] ['30', '27'] [\"[]|['GAT']|[]\", '3'] GAT M1|M9I3M18| Middle\n",
      "['ATAG', 'AGAT'] ['24', '22'] [\"[]|['AG']|[]\", '4'] AG M1|M14I2M8| Middle\n",
      "['TCTA', 'AGAT'] ['22', '21'] ['[]|T|[]', '6'] T M1|M21I1| End\n",
      "['AGAT', 'AGAT'] ['15', '13'] [\"[]|['AT']|[]\", '2'] AT M1|M6I2M7| Middle\n",
      "['TAGA', 'AGAT'] ['45', '44'] [\"['TTAGATAGATAGATAGATAGATA']|A|[]\", '1'] TTAGATAGATAGATAGATAGATA,A M1I23M1|I1M44| Start\n",
      "['GATA', 'AGAT'] ['44', '43'] [\"[]|['A']|[]\", '2'] A M1|M7I1M36| Middle\n",
      "['TCTA', 'AGAT'] ['47', '45'] [\"[]|['TC']|['TC']\", '12'] TC,TC M1D1M5|M44I2M1|M1I2 Middle\n",
      "['ATCT', 'AGAT'] ['47', '46'] ['[]|A|[]', '1'] A M1|I1M45| Start\n",
      "['ATAG', 'AGAT'] ['53', '35'] [\"[]|['ATAGATAGATAGATAGAT']|[]\", '8'] ATAGATAGATAGATAGAT M1|M28I18M7| Middle\n",
      "['ATCT', 'AGAT'] ['15', '14'] [\"[]|['A']|[]\", '1'] A M1|M1I1M13| Middle\n",
      "['AGAT', 'AGAT'] ['40', '39'] [\"['TAG']|T|[]\", '1'] TAG,T M1I3M1|I1M39| Start\n",
      "['TATC', 'AGAT'] ['61', '60'] [\"[]|['A']|[]\", '1'] A M1|M1I1M59| Middle\n",
      "['TATC', 'AGAT'] ['47', '45'] [\"[]|['TC']|[]\", '2'] TC M1|M6I2M39| Middle\n",
      "['AGAT', 'AGAT'] ['15', '13'] [\"[]|['AT']|[]\", '3'] AT M1|M10I2M3| Middle\n",
      "['CTAT', 'AGAT'] ['70', '59'] [\"[]|['ATCTATCTATC']|[]\", '11'] ATCTATCTATC M1|M42I11M17| Middle\n",
      "['CTAT', 'AGAT'] ['14', '13'] [\"[]|['T']|[]\", '1'] T M1|M1I1M12| Middle\n",
      "['TATC', 'AGAT'] ['45', '40'] ['[]|CTATC|[]', '1'] CTATC M1|I5M40| Start\n",
      "['TCTA', 'AGAT'] ['51', '50'] [\"[]|T|['ATC']\", '13'] T,ATC M1|M50I1|M4I3 End\n",
      "['GATA', 'AGAT'] ['57', '56'] ['[]|A|[]', '1'] A M1|I1M56| Start\n",
      "['GATA', 'AGAT'] ['67', '48'] [\"[]|['GATAGATAGATAGATAGAT']|[]\", '7'] GATAGATAGATAGATAGAT M6|M24I19M24| Middle\n",
      "['ATAG', 'AGAT'] ['46', '45'] ['[]|T|[]', '12'] T M1|M45I1| End\n",
      "['TATC', 'AGAT'] ['29', '27'] [\"[]|['TC']|['TC', 'TC', 'TCTATC']\", '7'] TC,TC,TC,TCTATC M1|M26I2M1|M1I2M2I2M2I6 Middle\n",
      "['ATAG', 'AGAT'] ['23', '22'] ['[]|A|[]', '6'] A M1|M22I1| End\n",
      "['ATCT', 'AGAT'] ['52', '51'] [\"['A']|T|[]\", '1'] A,T M1I1M6|I1M51| Start\n",
      "['TAGA', 'AGAT'] ['38', '37'] ['[]|T|[]', '1'] T M1|I1M36| Start\n",
      "['AGAT', 'AGAT'] ['33', '32'] ['[]|A|[]', '9'] A M1|M32I1| End\n",
      "['ATCT', 'AGAT'] ['43', '42'] [\"[]|['T']|[]\", '9'] T M1|M35I1M7| Middle\n",
      "['TATC', 'AGAT'] ['52', '42'] [\"['TC']|TCTATCTATC|[]\", '1'] TC,TCTATCTATC I2M2|I10M42| Start\n",
      "['GATA', 'AGAT'] ['46', '45'] ['[]|A|[]', '1'] A M1|I1M45| Start\n",
      "['CTAT', 'AGAT'] ['14', '13'] ['[]|T|[]', '1'] T M1|I1M13|M5 Start\n",
      "['TAGA', 'AGAT'] ['41', '40'] [\"[]|['A']|[]\", '7'] A M1|M25I1M15| Middle\n",
      "['GATA', 'AGAT'] ['14', '12'] [\"[]|['TC']|[]\", '3'] TC M1|M8I2M4| Middle\n",
      "['TATC', 'AGAT'] ['39', '37'] [\"[]|['TA']|[]\", '7'] TA M1|M24I2M13| Middle\n",
      "['ATCT', 'AGAT'] ['52', '51'] ['[]|T|[]', '1'] T M1|I1M51| Start\n",
      "['GATA', 'AGAT'] ['48', '47'] ['[]|A|[]', '13'] A M1|M47I1| End\n",
      "['TATC', 'AGAT'] ['46', '45'] ['[]|C|[]', '1'] C M1|I1M45| Start\n",
      "['TAGA', 'AGAT'] ['37', '36'] [\"[]|['A']|[]\", '6'] A M1|M21I1M15| Middle\n",
      "['TAGA', 'AGAT'] ['14', '13'] ['[]|A|[]', '4'] A M1|M13I1| End\n",
      "['GATA', 'AGAT'] ['37', '36'] [\"[]|['A']|[]\", '6'] A M1|M23I1M13| Middle\n",
      "['GATA', 'AGAT'] ['16', '14'] [\"[]|['AG']|[]\", '3'] AG M1|M11I2M3| Middle\n",
      "['ATCT', 'AGAT'] ['36', '35'] ['[]|T|[]', '10'] T M1|M35I1| End\n",
      "['TAGA', 'AGAT'] ['50', '49'] ['[]|A|[]', '13'] A M1|M49I1| End\n",
      "['TATC', 'AGAT'] ['41', '40'] ['[]|T|[]', '11'] T M1|M40I1| End\n",
      "['GATA', 'AGAT'] ['56', '55'] ['[]|A|[]', '1'] A M1|I1M55| Start\n",
      "['ATCT', 'AGAT'] ['24', '18'] [\"[]|['TATATA']|[]\", '4'] TATATA M1|M15I6M3| Middle\n",
      "['TAGA', 'AGAT'] ['41', '40'] [\"[]|['T']|[]\", '4'] T M1|M13I1M27| Middle\n",
      "['TCTA', 'AGAT'] ['47', '45'] [\"[]|['TC']|['TC']\", '12'] TC,TC M1D1M5|M44I2M1|M1I2 Middle\n",
      "['ATCT', 'AGAT'] ['32', '30'] [\"[]|['TA']|[]\", '2'] TA M1|M7I2M23| Middle\n",
      "['TCTA', 'AGAT'] ['47', '45'] [\"['TA']|TA|[]\", '1'] TA,TA I2M2|I2M45| Start\n",
      "['GATA', 'AGAT'] ['47', '46'] ['[]|A|[]', '1'] A M4|I1M46| Start\n",
      "['AGAT', 'AGAT'] ['45', '44'] ['[]|A|[]', '12'] A M1|M44I1| End\n",
      "['TCTA', 'AGAT'] ['22', '21'] ['[]|T|[]', '6'] T M1|M21I1| End\n",
      "['TAGA', 'AGAT'] ['46', '45'] [\"[]|A|['A', 'AGATGC']\", '12'] A,A,AGATGC M1|M45I1|M1I1M1I6 End\n",
      "['ATCT', 'AGAT'] ['46', '45'] ['[]|A|[]', '1'] A M1|I1M45| Start\n"
     ]
    },
    {
     "name": "stderr",
     "output_type": "stream",
     "text": [
      "\n"
     ]
    }
   ],
   "source": [
    "# iterating the files of the directory.\n",
    "\n",
    "Read_directory = '../../STR_Mutational_Dynamics/Seq_patterns/Partial_insertion/'\n",
    "\n",
    "for file in tqdm(os.listdir(Read_directory)):\n",
    "    \n",
    "    if file.endswith('.tsv.gz'):\n",
    "        highest_rc(file)"
   ]
  },
  {
   "cell_type": "code",
   "execution_count": 235,
   "id": "eee99207",
   "metadata": {},
   "outputs": [],
   "source": [
    "# checking the highest Rc\n",
    "\n",
    "highest_Rc = Counter(Rc)\n",
    "\n",
    "Rc_type = highest_Rc.keys()\n",
    "Rc_values = highest_Rc.values()\n",
    "\n",
    "Rc_counts_df = pd.DataFrame({'Rc' : Rc_type, 'Rc_counts' : Rc_values})"
   ]
  },
  {
   "cell_type": "code",
   "execution_count": 244,
   "id": "1c5447c7",
   "metadata": {
    "scrolled": false
   },
   "outputs": [
    {
     "data": {
      "text/plain": [
       "Counter({'TRIO0002': 1,\n",
       "         'TRIO0003': 1,\n",
       "         'TRIO0007': 1,\n",
       "         'TRIO0008': 1,\n",
       "         'TRIO0012': 1,\n",
       "         'TRIO0016': 1,\n",
       "         'TRIO0021': 1,\n",
       "         'TRIO0024': 1,\n",
       "         'TRIO0028': 1,\n",
       "         'TRIO0029': 2,\n",
       "         'TRIO0033': 1,\n",
       "         'TRIO0035': 2,\n",
       "         'TRIO0036': 3,\n",
       "         'TRIO0041': 1,\n",
       "         'TRIO0042': 1,\n",
       "         'TRIO0044': 2,\n",
       "         'TRIO0045': 1,\n",
       "         'TRIO0046': 1,\n",
       "         'TRIO0058': 1,\n",
       "         'TRIO0059': 1,\n",
       "         'TRIO0060': 2,\n",
       "         'TRIO0064': 3,\n",
       "         'TRIO0066': 1,\n",
       "         'TRIO0070': 1,\n",
       "         'TRIO0075': 1,\n",
       "         'TRIO0076': 2,\n",
       "         'TRIO0078': 1,\n",
       "         'TRIO0092': 1,\n",
       "         'TRIO0093': 1,\n",
       "         'TRIO0097': 1,\n",
       "         'TRIO0099': 1,\n",
       "         'TRIO0117': 1,\n",
       "         'TRIO0120': 2,\n",
       "         'TRIO0123': 1,\n",
       "         'TRIO0127': 1,\n",
       "         'TRIO0128': 3,\n",
       "         'TRIO0131': 3,\n",
       "         'TRIO0132': 1,\n",
       "         'TRIO0133': 1,\n",
       "         'TRIO0141': 1,\n",
       "         'TRIO0143': 2,\n",
       "         'TRIO0146': 1,\n",
       "         'TRIO0147': 1,\n",
       "         'TRIO0151': 1,\n",
       "         'TRIO0152': 1,\n",
       "         'TRIO0153': 2,\n",
       "         'TRIO0154': 1,\n",
       "         'TRIO0155': 2,\n",
       "         'TRIO0159': 1,\n",
       "         'TRIO0161': 1,\n",
       "         'TRIO0163': 2,\n",
       "         'TRIO0165': 1,\n",
       "         'TRIO0172': 1,\n",
       "         'TRIO0173': 1,\n",
       "         'TRIO0174': 1,\n",
       "         'TRIO0176': 1,\n",
       "         'TRIO0182': 1,\n",
       "         'TRIO0183': 2,\n",
       "         'TRIO0184': 2,\n",
       "         'TRIO0194': 1,\n",
       "         'TRIO0195': 1,\n",
       "         'TRIO0199': 1,\n",
       "         'TRIO0200': 1,\n",
       "         'TRIO0201': 1,\n",
       "         'TRIO0202': 1,\n",
       "         'TRIO0204': 1,\n",
       "         'TRIO0205': 1,\n",
       "         'TRIO0212': 1,\n",
       "         'TRIO0217': 1,\n",
       "         'TRIO0219': 1,\n",
       "         'TRIO0223': 1,\n",
       "         'TRIO0228': 1,\n",
       "         'TRIO0229': 1,\n",
       "         'TRIO0236': 1,\n",
       "         'TRIO0238': 1,\n",
       "         'TRIO0242': 1,\n",
       "         'TRIO0246': 2,\n",
       "         'TRIO0255': 1,\n",
       "         'TRIO0259': 2,\n",
       "         'TRIO0263': 1,\n",
       "         'TRIO0264': 2,\n",
       "         'TRIO0265': 1,\n",
       "         'TRIO0270': 1,\n",
       "         'TRIO0271': 1,\n",
       "         'TRIO0274': 1,\n",
       "         'TRIO0275': 1,\n",
       "         'TRIO0278': 1,\n",
       "         'TRIO0281': 1,\n",
       "         'TRIO0284': 1,\n",
       "         'TRIO0289': 2,\n",
       "         'TRIO0290': 1,\n",
       "         'TRIO0294': 1,\n",
       "         'TRIO0295': 1,\n",
       "         'TRIO0296': 1,\n",
       "         'TRIO0300': 2,\n",
       "         'TRIO0301': 1,\n",
       "         'TRIO0304': 1,\n",
       "         'TRIO0306': 1,\n",
       "         'TRIO0308': 1,\n",
       "         'TRIO0309': 2,\n",
       "         'TRIO0311': 1,\n",
       "         'TRIO0312': 1,\n",
       "         'TRIO0317': 1,\n",
       "         'TRIO0319': 1,\n",
       "         'TRIO0321': 1,\n",
       "         'TRIO0323': 1,\n",
       "         'TRIO0324': 1,\n",
       "         'TRIO0325': 3,\n",
       "         'TRIO0329': 1,\n",
       "         'TRIO0330': 1,\n",
       "         'TRIO0333': 1,\n",
       "         'TRIO0339': 1,\n",
       "         'TRIO0341': 2,\n",
       "         'TRIO0344': 1,\n",
       "         'TRIO0345': 2,\n",
       "         'TRIO0348': 1,\n",
       "         'TRIO0349': 1,\n",
       "         'TRIO0352': 1,\n",
       "         'TRIO0354': 4,\n",
       "         'TRIO0357': 1,\n",
       "         'TRIO0358': 1,\n",
       "         'TRIO0359': 2,\n",
       "         'TRIO0361': 1,\n",
       "         'TRIO0362': 2,\n",
       "         'TRIO0365': 1,\n",
       "         'TRIO0366': 2,\n",
       "         'TRIO0367': 2,\n",
       "         'TRIO0370': 1,\n",
       "         'TRIO0371': 1,\n",
       "         'TRIO0376': 2,\n",
       "         'TRIO0387': 1,\n",
       "         'TRIO0391': 1,\n",
       "         'TRIO0392': 1,\n",
       "         'TRIO0398': 1,\n",
       "         'TRIO0406': 2,\n",
       "         'TRIO0410': 1,\n",
       "         'TRIO0413': 1,\n",
       "         'TRIO0414': 1,\n",
       "         'TRIO0417': 1,\n",
       "         'TRIO0419': 1,\n",
       "         'TRIO0421': 1,\n",
       "         'TRIO0425': 1,\n",
       "         'TRIO0426': 1,\n",
       "         'TRIO0427': 1,\n",
       "         'TRIO0428': 2,\n",
       "         'TRIO0433': 1,\n",
       "         'TRIO0441': 1,\n",
       "         'TRIO0445': 1,\n",
       "         'TRIO0449': 2,\n",
       "         'TRIO0457': 1,\n",
       "         'TRIO0460': 1,\n",
       "         'TRIO0463': 1,\n",
       "         'TRIO0465': 1,\n",
       "         'TRIO0472': 1,\n",
       "         'TRIO0479': 1,\n",
       "         'TRIO0482': 1,\n",
       "         'TRIO0485': 1,\n",
       "         'TRIO0488': 1,\n",
       "         'TRIO0491': 2,\n",
       "         'TRIO0496': 1,\n",
       "         'TRIO0508': 2,\n",
       "         'TRIO0509': 1,\n",
       "         'TRIO0515': 1,\n",
       "         'TRIO0520': 3,\n",
       "         'TRIO0524': 1,\n",
       "         'TRIO0526': 1,\n",
       "         'TRIO0533': 1,\n",
       "         'TRIO0535': 2,\n",
       "         'TRIO0541': 1,\n",
       "         'TRIO0544': 1,\n",
       "         'TRIO0545': 1,\n",
       "         'TRIO0546': 1,\n",
       "         'TRIO0548': 2,\n",
       "         'TRIO0549': 1,\n",
       "         'TRIO0555': 1,\n",
       "         'TRIO0557': 1,\n",
       "         'TRIO0560': 1,\n",
       "         'TRIO0563': 1,\n",
       "         'TRIO0567': 1,\n",
       "         'TRIO0568': 1,\n",
       "         'TRIO0571': 1,\n",
       "         'TRIO0575': 1,\n",
       "         'TRIO0579': 3,\n",
       "         'TRIO0584': 1,\n",
       "         'TRIO0586': 1,\n",
       "         'TRIO0595': 1,\n",
       "         'TRIO0596': 3,\n",
       "         'TRIO0597': 1})"
      ]
     },
     "execution_count": 244,
     "metadata": {},
     "output_type": "execute_result"
    }
   ],
   "source": [
    "Counter(trio_file_id)"
   ]
  },
  {
   "cell_type": "code",
   "execution_count": null,
   "id": "950a1281",
   "metadata": {},
   "outputs": [],
   "source": []
  }
 ],
 "metadata": {
  "kernelspec": {
   "display_name": "Python 3 (ipykernel)",
   "language": "python",
   "name": "python3"
  },
  "language_info": {
   "codemirror_mode": {
    "name": "ipython",
    "version": 3
   },
   "file_extension": ".py",
   "mimetype": "text/x-python",
   "name": "python",
   "nbconvert_exporter": "python",
   "pygments_lexer": "ipython3",
   "version": "3.9.13"
  }
 },
 "nbformat": 4,
 "nbformat_minor": 5
}
